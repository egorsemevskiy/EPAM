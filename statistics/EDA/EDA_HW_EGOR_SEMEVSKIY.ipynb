{
 "cells": [
  {
   "cell_type": "markdown",
   "metadata": {},
   "source": [
    "Импорт библиотек. (Логичней было бы поставить его в начале разбора, но я не знаю, как лучше)"
   ]
  },
  {
   "cell_type": "code",
   "execution_count": 180,
   "metadata": {},
   "outputs": [],
   "source": [
    "import pandas as pd\n",
    "import numpy as np\n",
    "import matplotlib.pyplot as plt \n",
    "\n",
    "from plotly import graph_objs as go\n",
    "from plotly.subplots import make_subplots\n",
    "import plotly.express as px\n",
    "\n",
    "import statsmodels.api as sm\n",
    "\n",
    "import seaborn as sns\n",
    "\n",
    "import scipy.stats as stats\n",
    "\n",
    "from scipy.stats import chi2_contingency\n",
    "\n",
    "%matplotlib inline"
   ]
  },
  {
   "cell_type": "markdown",
   "metadata": {},
   "source": [
    "Дополнительные настройки"
   ]
  },
  {
   "cell_type": "code",
   "execution_count": 57,
   "metadata": {},
   "outputs": [],
   "source": [
    "pd.set_option('display.max_columns', None)\n",
    "sns.set_style(\"whitegrid\", {'axes.grid' : False})"
   ]
  },
  {
   "cell_type": "markdown",
   "metadata": {},
   "source": [
    "#  Домашняя работа по EDA "
   ]
  },
  {
   "cell_type": "markdown",
   "metadata": {},
   "source": [
    "### EDA"
   ]
  },
  {
   "cell_type": "markdown",
   "metadata": {},
   "source": [
    "Подход EDA - это именно то, что - подход - не набор методов, а отношение/философия о том, как должен проводиться анализ данных."
   ]
  },
  {
   "cell_type": "markdown",
   "metadata": {},
   "source": [
    "Что я планирую сделать в этом ноутбуке\n",
    "\n",
    "    1. Понимание проблемы. Мы посмотрим на каждую переменную и посмотрим, её важность для решаемой нами проблемы\n",
    "    2. Univariable study. Я сфокусируюсь на целевой переменной (y) и попробую узнать про нее немного больше. \n",
    "    3. Multivariate study. Мы попробуем понять, какие взаимосвязи существуют между зависимымы и независимой переменными. \n",
    "    4. Базовая очистка. Я почищу датасет, чтобы обработать пропущенные значения, выбрасы, и категориальные фичи.\n",
    "    5. Тест предположений. Я проверю основные предположение, которые требуются большинством Multivariate study техник.\n"
   ]
  },
  {
   "cell_type": "markdown",
   "metadata": {},
   "source": [
    "## Обзор "
   ]
  },
  {
   "cell_type": "markdown",
   "metadata": {},
   "source": [
    "В этой задачи, я буду рассматривать датасет про телефонный банковский маркетинг португальского банковского института, то есть про телефонные звонки из или в банк в Португалии. В этом датасете целевой переменной является оформит ли клиент банковские долгосрочные вклады. \n",
    "\n",
    "Датасет основан на UCI(University of California, Irvine) датасете \"Bank Marketing\". [UCI](https://archive.ics.uci.edu/ml/datasets/Bank+Marketing).\n",
    "\n",
    "В июне 2014 года, в журнале \"Decision Support Systems\" вышла статья от авторов Sérgio Moroa, Paulo Cortezb, Paulo Ritaa под заголовком \"A data-driven approach to predict the success of bank telemarketing\", где рассказывалось о создании данного датасета и последующей работы с ним. \n",
    "\n",
    "Им был нужен датасет для исследовании баковского телефоного маркетинга с целью предсказать продажи банковских долгосрочных вкладов. Они связались с Португальским **розничным** банком, который предоставил им данные собранные **с 2008 по 2013** года, в которых также набюдался эффект от **финансового кризиса** тех лет.\n",
    "\n",
    "**То есть, все данные были полученны во время Мирового Финансового Кризиса.**\n"
   ]
  },
  {
   "cell_type": "markdown",
   "metadata": {},
   "source": [
    "### Финансовый криз\n",
    "\n",
    "В статье упоминается Мировой экономический кризис с 2008. Я преведу лишь общее описание, того что случилось в эти годы, для лучшего понимания, что происходило в эти годы. Интересно посмотреть, как кризис повлиял на спрос на долгосрочные банковские депозиты, но я думаю, что для такого анализа, нам потребуются дополнительные данные, так как в этом датасете нет данных по дате. \n",
    "\n",
    "Мировой экономический кризис — кризисное состояние мировой экономики, резко обозначившееся с 2008 года. Разные страны и регионы выходили из острой фазы кризиса в разное время, с 2009 по 2013 год, а его последствия сохраняются поныне. Развился с финансового кризиса, начавшегося в США. Если не по глубине, то по масштабам и последствиям сопоставим лишь с Великой депрессией 1930-х годов. В 2009 году мировой ВВП впервые со времён Второй мировой войны показал отрицательную динамику.\n",
    "\n",
    "Также рекордно (более чем на 10 %) сократилась мировая торговля, восстановившая объём к 2011 году, но до сих пор значительно отстающая от докризисных темпов роста.\n",
    "\n",
    "Спад экономики США и еврозоны закончился во втором квартале 2009 года, однако в 2011 году в еврозоне началась вторая рецессия, продолжавшаяся до 2013 года и ставшая самой длительной в её истории.\n",
    "\n",
    "Глобальной тенденцией после острой фазы кризиса в 2008 году стало ослабление среднего класса в мире, в то время как до кризиса его доля в общем объёме мирового богатства оставалась продолжительное время стабильной, отмечается в отчёте «Global Wealth Report 2015» швейцарского банка «Credit Suisse». При этом доля 1 % самых богатых людей в мировом объёме богатств превысила 50 % и продолжает увеличиваться.\n",
    "\n",
    "Беспрецедентный рост безработицы привёл к достижению её рекордного показателя за всю историю наблюдений за рынком труда (200 млн человек в 2009 году).\n",
    "\n"
   ]
  },
  {
   "cell_type": "markdown",
   "metadata": {},
   "source": [
    "### Розничный банк\n",
    "\n",
    "Розничное банковское обслуживание, также известное как потребительское банковское обслуживание, представляет собой оказание банком услуг широкой общественности, а не компаниям, корпорациям или другим банкам, которые часто называют оптовым банковским обслуживанием. Банковские услуги, которые рассматриваются как розничные, включают предоставление сберегательных и операционных счетов, ипотечных кредитов, личных кредитов, дебетовых карт и кредитных карт. Розничный банкинг также отличается от инвестиционного банкинга или коммерческого банкинга. Это также может означать подразделение или отдел банка, который имеет дело с индивидуальными клиентами."
   ]
  },
  {
   "cell_type": "markdown",
   "metadata": {},
   "source": [
    "### Маркетинговые кампании\n",
    "\n",
    "Маркетинговые торговые кампании представляют собой типичную стратегию по расширению бизнеса.Компании используют прямой маркетинг, ориентируясь на сегменты клиентов, связываясь с ними для достижения конкретной цели. Централизация удаленного взаимодействия с клиентами в контакт-центре упрощает оперативное управление кампаниями. Такие центры позволяют общаться с клиентами по различным каналам, одним из наиболее широко используемых является телефон (стационарный или мобильный). Маркетинг, осуществляемый через контакт-центр, называется телемаркетингом из-за характеристики удаленности. Контакты могут быть разделены на входящие и исходящие, в зависимости от того, какая сторона инициировала контакт (клиент или контактный центр), при этом каждый случай создает различные проблемы (например, исходящие из банка звонки, часто считаются более нежелательными для клиента). Технология позволяет переосмыслить маркетинг, сосредоточив внимание на максимизации длинны взаимодействия с клиентом за счет оценки доступной информации и показателей клиента, что позволяет создавать более длительные и тестные отношения в соответствии с бизнес-спросом. \n",
    " \n",
    "Кроме того, следует подчеркнуть, что задача выбора лучшего набора клиентов, т.е. тех, которые более склонны подписываться на продукт, описывается как NP-hard в статье \"Optimization modelsfor targeted offers in direct marketing: Exact and heuristic algorithms\" от 2011 года.\n",
    "\n"
   ]
  },
  {
   "cell_type": "markdown",
   "metadata": {},
   "source": [
    "### Банковские данные телемаркетинга\n",
    "\n",
    "В рамках кампании операторы звонят по списку для продажи депозита (исходящий) или, если клиент звонит в контакт-центр по какой-либо другой причине, его просят подписаться на депозит (входящий). Таким образом, результатом является бинарный неудачный или успешный контакт.\n",
    "\n",
    "Тут мы можем понять, что банк уже имел информацию о клиентов, получив ее предыдидущими взаимодействиями с ними, или, вероятно, каким-нибудь другим способом."
   ]
  },
  {
   "cell_type": "markdown",
   "metadata": {},
   "source": [
    "### Банковский долгострочный депозит\n",
    "\n",
    "К сожалению в датасете нет описание, какие были предлагаемые условия депозита, менялись ли они в зависимости от клиентов и от времени. Было бы интересно посмотреть на целевую переменную, в зависимоти от различных условий вклада, но так как такой информации нет. Так же у нас нет информации о операторе звонка, его пола и опыта.\n",
    "\n",
    "В связи с этим я буду считать за банковский депозит, депозит на длительное время с неопределенными условиями от неизвестного оператора.\n",
    "\n",
    "\n",
    "#### О вкладе\n",
    "Долгосрочные вклады в банках по сути относятся к стратегическим сбережениям и открываются в банке от года и более. Наряду с повышенными процентами, которые гарантируют пассивный доход, они несут и повышенные риски. Известны такие случаи, когда долгосрочные вклады в банках хранились больше десятка лет.\n"
   ]
  },
  {
   "cell_type": "markdown",
   "metadata": {},
   "source": [
    "## Отбор переменных\n",
    "\n",
    "Для нашего анализа также интересно, каким образом выбирались переменные для исследования, о котором было рассказано в статье. Я опишу это кратко, так как более детельно все расписано в самой статье. \n",
    "\n",
    "Для отбора фич использовался полуавтоматический метод. Был привлечен эксперт из области банковского маркетинга, и точно определены цели последующего исследования. То есть вопросы, на которые исследователи хотели ответить при помощи данных. Ниже я приведу список вопросов. К сожалению в статье не описано, какие точно переменные были выбраны для тех или иных вопросов. "
   ]
  },
  {
   "cell_type": "markdown",
   "metadata": {},
   "source": [
    "|  Вопрос | Число переменных  |\n",
    "|:---|---|\n",
    "|1. Релевантен ли предлагаемый тариф?   |  5 |\n",
    "|2. Релевантен ли пол?  | 3 |\n",
    "|3. Важен ли опыт оператора?   |  3 |\n",
    "|4. Релевантны ли социальный статус и стабильность?| 5 |\n",
    "|5. Релевантны ли отношения между клиентом и банком?| 11 |\n",
    "|6. Релевантны ли блоки банки (Ограничения на провеведение некоторых операций)? | 6|\n",
    "|7. Релевантент ли контекст телефонного звонка? |4|\n",
    "|8. Релевантны ли дата и время? | 3|\n",
    "|9. Релевантны ли показатели профилирования банков?|7|\n",
    "|10. Релевантны ли социально-экономические показатели? |11| \n",
    "|11. Являются ли финансовые активы релевантными?| 3|\n",
    "|12. Является ли район проживания актуальным?| 1 |\n",
    "|13. Может ли возраст быть связан с продуктами с более длительными периодами?|3|\n",
    "|14. Релевантны ли хиты веб-страниц (для кампаний, отображаемых на веб-сайтах банков)?| 4 |\n",
    "|--------------------|-------------------------|\n",
    "|Количество фичей после выбора бизнес-знаний| 69 |\n",
    "|Количество фичей после первой фазы выбора элемента|22| "
   ]
  },
  {
   "cell_type": "markdown",
   "metadata": {},
   "source": [
    "Как мы увидим далее, многие из этих вопросов так и не были представленны в датасете, в связи с тем, что он, в основном, содержит информацию о клиенте, компании и социальной обстановки"
   ]
  },
  {
   "cell_type": "markdown",
   "metadata": {},
   "source": [
    "#### Дополнение"
   ]
  },
  {
   "cell_type": "markdown",
   "metadata": {},
   "source": [
    "Датасет был обогащен добавлением пяти новых социально-экономических признаков/атрибутов (общегосударственные показатели из страны с населением ~10 млн человек), опубликованных банком Португалии и общедоступных по адресу: https://www.bportugal.pt/estatisticasweb."
   ]
  },
  {
   "cell_type": "markdown",
   "metadata": {},
   "source": [
    "# Список всех переменных в датасете (без перевода на русский)\n",
    "\n",
    "## Input variables:\n",
    "\n",
    "   **bank client data:**\n",
    "   \n",
    "    Основное описание клиента, видимо основанное на данных, которые предоставил клиент в банк, или полученное из других источников.\n",
    "    \n",
    "    1. age (numeric)\n",
    "    2. job : type of job (categorical: \"admin.\",\"blue-collar\",\"entrepreneur\",\"housemaid\",\"management\",\"retired\",\"self-employed\",\"services\",\"student\",\"technician\",\"unemployed\",\"unknown\")\n",
    "    3. marital : marital status (categorical: \"divorced\",\"married\",\"single\",\"unknown\"; note: \"divorced\" means divorced or widowed)\n",
    "    4. education (categorical: \"basic.4y\",\"basic.6y\",\"basic.9y\",\"high.school\",\"illiterate\",\"professional.course\",\"university.degree\",\"unknown\")\n",
    "    5. default: has credit in default? (categorical: \"no\",\"yes\",\"unknown\")\n",
    "    6. housing: has housing loan? (categorical: \"no\",\"yes\",\"unknown\")\n",
    "    7. loan: has personal loan? (categorical: \"no\",\"yes\",\"unknown\")\n",
    "   \n",
    "   **related with the last contact of the current campaign:**\n",
    "   \n",
    "       Информация, связанная с последним контактом в рекламной компании.\n",
    "   \n",
    "    8. contact: contact communication type (categorical: \"cellular\",\"telephone\") \n",
    "    9. month: last contact month of year (categorical: \"jan\", \"feb\", \"mar\", ..., \"nov\", \"dec\")\n",
    "    10. day_of_week: last contact day of the week (categorical: \"mon\",\"tue\",\"wed\",\"thu\",\"fri\")\n",
    "    11. duration: last contact duration, in seconds (numeric). Important note:  this attribute highly affects the output target (e.g., if duration=0 then y=\"no\"). Yet, the duration is not known before a call is performed. Also, after the end of the call y is obviously known. Thus, this input should only be included for benchmark purposes and should be discarded if the intention is to have a realistic predictive model.\n",
    "   \n",
    "   **other attributes:**\n",
    "   \n",
    "       Информация о самой компании\n",
    "   \n",
    "    12. campaign: number of contacts performed during this campaign and for this client (numeric, includes last contact)\n",
    "    13. pdays: number of days that passed by after the client was last contacted from a previous campaign (numeric; 999 means client was not previously contacted)\n",
    "    14. previous: number of contacts performed before this campaign and for this client (numeric)\n",
    "    15. poutcome: outcome of the previous marketing campaign (categorical: \"failure\",\"nonexistent\",\"success\")\n",
    "  \n",
    "  **social and economic context attributes**\n",
    "  \n",
    "      Социальный и экономической контекст\n",
    "  \n",
    "    16. emp.var.rate: employment variation rate - quarterly indicator (numeric)\n",
    "    17. cons.price.idx: consumer price index - monthly indicator (numeric)     \n",
    "    18. cons.conf.idx: consumer confidence index - monthly indicator (numeric)     \n",
    "    19. euribor3m: euribor 3 month rate - daily indicator (numeric)\n",
    "    20. nr.employed: number of employees - quarterly indicator (numeric)\n",
    "\n",
    "## Output variable (desired target):\n",
    "\n",
    "    21. y - has the client subscribed a term deposit? (binary: \"yes\",\"no\")"
   ]
  },
  {
   "cell_type": "markdown",
   "metadata": {},
   "source": [
    "Разбор переменных ниже, сначала я хочу подгрузить датасет, и посмотреть его основные показатели"
   ]
  },
  {
   "cell_type": "markdown",
   "metadata": {},
   "source": [
    "**Примечание**\n",
    "\n",
    "Мы знаем, из текста приложенного к датасету, что это выборка из выборки. "
   ]
  },
  {
   "cell_type": "markdown",
   "metadata": {},
   "source": [
    "# Смотрим датасет "
   ]
  },
  {
   "cell_type": "code",
   "execution_count": 3,
   "metadata": {},
   "outputs": [],
   "source": [
    "df = pd.read_csv('data/row/bank-additional-full.csv', sep=';')"
   ]
  },
  {
   "cell_type": "code",
   "execution_count": 4,
   "metadata": {},
   "outputs": [
    {
     "data": {
      "text/html": [
       "<div>\n",
       "<style scoped>\n",
       "    .dataframe tbody tr th:only-of-type {\n",
       "        vertical-align: middle;\n",
       "    }\n",
       "\n",
       "    .dataframe tbody tr th {\n",
       "        vertical-align: top;\n",
       "    }\n",
       "\n",
       "    .dataframe thead th {\n",
       "        text-align: right;\n",
       "    }\n",
       "</style>\n",
       "<table border=\"1\" class=\"dataframe\">\n",
       "  <thead>\n",
       "    <tr style=\"text-align: right;\">\n",
       "      <th></th>\n",
       "      <th>age</th>\n",
       "      <th>job</th>\n",
       "      <th>marital</th>\n",
       "      <th>education</th>\n",
       "      <th>default</th>\n",
       "      <th>housing</th>\n",
       "      <th>loan</th>\n",
       "      <th>contact</th>\n",
       "      <th>month</th>\n",
       "      <th>day_of_week</th>\n",
       "      <th>duration</th>\n",
       "      <th>campaign</th>\n",
       "      <th>pdays</th>\n",
       "      <th>previous</th>\n",
       "      <th>poutcome</th>\n",
       "      <th>emp.var.rate</th>\n",
       "      <th>cons.price.idx</th>\n",
       "      <th>cons.conf.idx</th>\n",
       "      <th>euribor3m</th>\n",
       "      <th>nr.employed</th>\n",
       "      <th>y</th>\n",
       "    </tr>\n",
       "  </thead>\n",
       "  <tbody>\n",
       "    <tr>\n",
       "      <th>0</th>\n",
       "      <td>56</td>\n",
       "      <td>housemaid</td>\n",
       "      <td>married</td>\n",
       "      <td>basic.4y</td>\n",
       "      <td>no</td>\n",
       "      <td>no</td>\n",
       "      <td>no</td>\n",
       "      <td>telephone</td>\n",
       "      <td>may</td>\n",
       "      <td>mon</td>\n",
       "      <td>261</td>\n",
       "      <td>1</td>\n",
       "      <td>999</td>\n",
       "      <td>0</td>\n",
       "      <td>nonexistent</td>\n",
       "      <td>1.1</td>\n",
       "      <td>93.994</td>\n",
       "      <td>-36.4</td>\n",
       "      <td>4.857</td>\n",
       "      <td>5191.0</td>\n",
       "      <td>no</td>\n",
       "    </tr>\n",
       "    <tr>\n",
       "      <th>1</th>\n",
       "      <td>57</td>\n",
       "      <td>services</td>\n",
       "      <td>married</td>\n",
       "      <td>high.school</td>\n",
       "      <td>unknown</td>\n",
       "      <td>no</td>\n",
       "      <td>no</td>\n",
       "      <td>telephone</td>\n",
       "      <td>may</td>\n",
       "      <td>mon</td>\n",
       "      <td>149</td>\n",
       "      <td>1</td>\n",
       "      <td>999</td>\n",
       "      <td>0</td>\n",
       "      <td>nonexistent</td>\n",
       "      <td>1.1</td>\n",
       "      <td>93.994</td>\n",
       "      <td>-36.4</td>\n",
       "      <td>4.857</td>\n",
       "      <td>5191.0</td>\n",
       "      <td>no</td>\n",
       "    </tr>\n",
       "    <tr>\n",
       "      <th>2</th>\n",
       "      <td>37</td>\n",
       "      <td>services</td>\n",
       "      <td>married</td>\n",
       "      <td>high.school</td>\n",
       "      <td>no</td>\n",
       "      <td>yes</td>\n",
       "      <td>no</td>\n",
       "      <td>telephone</td>\n",
       "      <td>may</td>\n",
       "      <td>mon</td>\n",
       "      <td>226</td>\n",
       "      <td>1</td>\n",
       "      <td>999</td>\n",
       "      <td>0</td>\n",
       "      <td>nonexistent</td>\n",
       "      <td>1.1</td>\n",
       "      <td>93.994</td>\n",
       "      <td>-36.4</td>\n",
       "      <td>4.857</td>\n",
       "      <td>5191.0</td>\n",
       "      <td>no</td>\n",
       "    </tr>\n",
       "    <tr>\n",
       "      <th>3</th>\n",
       "      <td>40</td>\n",
       "      <td>admin.</td>\n",
       "      <td>married</td>\n",
       "      <td>basic.6y</td>\n",
       "      <td>no</td>\n",
       "      <td>no</td>\n",
       "      <td>no</td>\n",
       "      <td>telephone</td>\n",
       "      <td>may</td>\n",
       "      <td>mon</td>\n",
       "      <td>151</td>\n",
       "      <td>1</td>\n",
       "      <td>999</td>\n",
       "      <td>0</td>\n",
       "      <td>nonexistent</td>\n",
       "      <td>1.1</td>\n",
       "      <td>93.994</td>\n",
       "      <td>-36.4</td>\n",
       "      <td>4.857</td>\n",
       "      <td>5191.0</td>\n",
       "      <td>no</td>\n",
       "    </tr>\n",
       "    <tr>\n",
       "      <th>4</th>\n",
       "      <td>56</td>\n",
       "      <td>services</td>\n",
       "      <td>married</td>\n",
       "      <td>high.school</td>\n",
       "      <td>no</td>\n",
       "      <td>no</td>\n",
       "      <td>yes</td>\n",
       "      <td>telephone</td>\n",
       "      <td>may</td>\n",
       "      <td>mon</td>\n",
       "      <td>307</td>\n",
       "      <td>1</td>\n",
       "      <td>999</td>\n",
       "      <td>0</td>\n",
       "      <td>nonexistent</td>\n",
       "      <td>1.1</td>\n",
       "      <td>93.994</td>\n",
       "      <td>-36.4</td>\n",
       "      <td>4.857</td>\n",
       "      <td>5191.0</td>\n",
       "      <td>no</td>\n",
       "    </tr>\n",
       "  </tbody>\n",
       "</table>\n",
       "</div>"
      ],
      "text/plain": [
       "   age        job  marital    education  default housing loan    contact  \\\n",
       "0   56  housemaid  married     basic.4y       no      no   no  telephone   \n",
       "1   57   services  married  high.school  unknown      no   no  telephone   \n",
       "2   37   services  married  high.school       no     yes   no  telephone   \n",
       "3   40     admin.  married     basic.6y       no      no   no  telephone   \n",
       "4   56   services  married  high.school       no      no  yes  telephone   \n",
       "\n",
       "  month day_of_week  duration  campaign  pdays  previous     poutcome  \\\n",
       "0   may         mon       261         1    999         0  nonexistent   \n",
       "1   may         mon       149         1    999         0  nonexistent   \n",
       "2   may         mon       226         1    999         0  nonexistent   \n",
       "3   may         mon       151         1    999         0  nonexistent   \n",
       "4   may         mon       307         1    999         0  nonexistent   \n",
       "\n",
       "   emp.var.rate  cons.price.idx  cons.conf.idx  euribor3m  nr.employed   y  \n",
       "0           1.1          93.994          -36.4      4.857       5191.0  no  \n",
       "1           1.1          93.994          -36.4      4.857       5191.0  no  \n",
       "2           1.1          93.994          -36.4      4.857       5191.0  no  \n",
       "3           1.1          93.994          -36.4      4.857       5191.0  no  \n",
       "4           1.1          93.994          -36.4      4.857       5191.0  no  "
      ]
     },
     "execution_count": 4,
     "metadata": {},
     "output_type": "execute_result"
    }
   ],
   "source": [
    "df.head()"
   ]
  },
  {
   "cell_type": "code",
   "execution_count": 5,
   "metadata": {},
   "outputs": [
    {
     "name": "stdout",
     "output_type": "stream",
     "text": [
      "Shape of training data : (41188, 21)\n"
     ]
    }
   ],
   "source": [
    "print(\"Shape of training data :\", df.shape)"
   ]
  },
  {
   "cell_type": "markdown",
   "metadata": {},
   "source": [
    "Как мы видим, в датасете 21 фича и 41188 наблюдений"
   ]
  },
  {
   "cell_type": "markdown",
   "metadata": {},
   "source": [
    "Из приложенной информации к датасету \n",
    "\n",
    "Missing Attribute Values: There are several missing values in some categorical attributes, all coded with the \"unknown\" label. These missing values can be treated as a possible class label or using deletion or imputation techniques. "
   ]
  },
  {
   "cell_type": "code",
   "execution_count": 6,
   "metadata": {},
   "outputs": [
    {
     "data": {
      "text/plain": [
       "age                  0\n",
       "job                330\n",
       "marital             80\n",
       "education         1731\n",
       "default           8597\n",
       "housing            990\n",
       "loan               990\n",
       "contact              0\n",
       "month                0\n",
       "day_of_week          0\n",
       "duration             0\n",
       "campaign             0\n",
       "pdays                0\n",
       "previous             0\n",
       "poutcome             0\n",
       "emp.var.rate         0\n",
       "cons.price.idx       0\n",
       "cons.conf.idx        0\n",
       "euribor3m            0\n",
       "nr.employed          0\n",
       "y                    0\n",
       "dtype: int64"
      ]
     },
     "execution_count": 6,
     "metadata": {},
     "output_type": "execute_result"
    }
   ],
   "source": [
    "df.isin([\"unknown\"]).sum(axis=0)"
   ]
  },
  {
   "cell_type": "markdown",
   "metadata": {},
   "source": [
    "**ВЫВОД**\n",
    "\n",
    "Скорее всего люди неохотно расскрывают информацию о том, если у них кредит или нет "
   ]
  },
  {
   "cell_type": "code",
   "execution_count": 16,
   "metadata": {},
   "outputs": [
    {
     "data": {
      "text/html": [
       "<div>\n",
       "<style scoped>\n",
       "    .dataframe tbody tr th:only-of-type {\n",
       "        vertical-align: middle;\n",
       "    }\n",
       "\n",
       "    .dataframe tbody tr th {\n",
       "        vertical-align: top;\n",
       "    }\n",
       "\n",
       "    .dataframe thead th {\n",
       "        text-align: right;\n",
       "    }\n",
       "</style>\n",
       "<table border=\"1\" class=\"dataframe\">\n",
       "  <thead>\n",
       "    <tr style=\"text-align: right;\">\n",
       "      <th></th>\n",
       "      <th>age</th>\n",
       "      <th>duration</th>\n",
       "      <th>campaign</th>\n",
       "      <th>pdays</th>\n",
       "      <th>previous</th>\n",
       "      <th>emp.var.rate</th>\n",
       "      <th>cons.price.idx</th>\n",
       "      <th>cons.conf.idx</th>\n",
       "      <th>euribor3m</th>\n",
       "      <th>nr.employed</th>\n",
       "    </tr>\n",
       "  </thead>\n",
       "  <tbody>\n",
       "    <tr>\n",
       "      <th>count</th>\n",
       "      <td>41188.00000</td>\n",
       "      <td>41188.000000</td>\n",
       "      <td>41188.000000</td>\n",
       "      <td>41188.000000</td>\n",
       "      <td>41188.000000</td>\n",
       "      <td>41188.000000</td>\n",
       "      <td>41188.000000</td>\n",
       "      <td>41188.000000</td>\n",
       "      <td>41188.000000</td>\n",
       "      <td>41188.000000</td>\n",
       "    </tr>\n",
       "    <tr>\n",
       "      <th>mean</th>\n",
       "      <td>40.02406</td>\n",
       "      <td>258.285010</td>\n",
       "      <td>2.567593</td>\n",
       "      <td>962.475454</td>\n",
       "      <td>0.172963</td>\n",
       "      <td>0.081886</td>\n",
       "      <td>93.575664</td>\n",
       "      <td>-40.502600</td>\n",
       "      <td>3.621291</td>\n",
       "      <td>5167.035911</td>\n",
       "    </tr>\n",
       "    <tr>\n",
       "      <th>std</th>\n",
       "      <td>10.42125</td>\n",
       "      <td>259.279249</td>\n",
       "      <td>2.770014</td>\n",
       "      <td>186.910907</td>\n",
       "      <td>0.494901</td>\n",
       "      <td>1.570960</td>\n",
       "      <td>0.578840</td>\n",
       "      <td>4.628198</td>\n",
       "      <td>1.734447</td>\n",
       "      <td>72.251528</td>\n",
       "    </tr>\n",
       "    <tr>\n",
       "      <th>min</th>\n",
       "      <td>17.00000</td>\n",
       "      <td>0.000000</td>\n",
       "      <td>1.000000</td>\n",
       "      <td>0.000000</td>\n",
       "      <td>0.000000</td>\n",
       "      <td>-3.400000</td>\n",
       "      <td>92.201000</td>\n",
       "      <td>-50.800000</td>\n",
       "      <td>0.634000</td>\n",
       "      <td>4963.600000</td>\n",
       "    </tr>\n",
       "    <tr>\n",
       "      <th>25%</th>\n",
       "      <td>32.00000</td>\n",
       "      <td>102.000000</td>\n",
       "      <td>1.000000</td>\n",
       "      <td>999.000000</td>\n",
       "      <td>0.000000</td>\n",
       "      <td>-1.800000</td>\n",
       "      <td>93.075000</td>\n",
       "      <td>-42.700000</td>\n",
       "      <td>1.344000</td>\n",
       "      <td>5099.100000</td>\n",
       "    </tr>\n",
       "    <tr>\n",
       "      <th>50%</th>\n",
       "      <td>38.00000</td>\n",
       "      <td>180.000000</td>\n",
       "      <td>2.000000</td>\n",
       "      <td>999.000000</td>\n",
       "      <td>0.000000</td>\n",
       "      <td>1.100000</td>\n",
       "      <td>93.749000</td>\n",
       "      <td>-41.800000</td>\n",
       "      <td>4.857000</td>\n",
       "      <td>5191.000000</td>\n",
       "    </tr>\n",
       "    <tr>\n",
       "      <th>75%</th>\n",
       "      <td>47.00000</td>\n",
       "      <td>319.000000</td>\n",
       "      <td>3.000000</td>\n",
       "      <td>999.000000</td>\n",
       "      <td>0.000000</td>\n",
       "      <td>1.400000</td>\n",
       "      <td>93.994000</td>\n",
       "      <td>-36.400000</td>\n",
       "      <td>4.961000</td>\n",
       "      <td>5228.100000</td>\n",
       "    </tr>\n",
       "    <tr>\n",
       "      <th>max</th>\n",
       "      <td>98.00000</td>\n",
       "      <td>4918.000000</td>\n",
       "      <td>56.000000</td>\n",
       "      <td>999.000000</td>\n",
       "      <td>7.000000</td>\n",
       "      <td>1.400000</td>\n",
       "      <td>94.767000</td>\n",
       "      <td>-26.900000</td>\n",
       "      <td>5.045000</td>\n",
       "      <td>5228.100000</td>\n",
       "    </tr>\n",
       "  </tbody>\n",
       "</table>\n",
       "</div>"
      ],
      "text/plain": [
       "               age      duration      campaign         pdays      previous  \\\n",
       "count  41188.00000  41188.000000  41188.000000  41188.000000  41188.000000   \n",
       "mean      40.02406    258.285010      2.567593    962.475454      0.172963   \n",
       "std       10.42125    259.279249      2.770014    186.910907      0.494901   \n",
       "min       17.00000      0.000000      1.000000      0.000000      0.000000   \n",
       "25%       32.00000    102.000000      1.000000    999.000000      0.000000   \n",
       "50%       38.00000    180.000000      2.000000    999.000000      0.000000   \n",
       "75%       47.00000    319.000000      3.000000    999.000000      0.000000   \n",
       "max       98.00000   4918.000000     56.000000    999.000000      7.000000   \n",
       "\n",
       "       emp.var.rate  cons.price.idx  cons.conf.idx     euribor3m   nr.employed  \n",
       "count  41188.000000    41188.000000   41188.000000  41188.000000  41188.000000  \n",
       "mean       0.081886       93.575664     -40.502600      3.621291   5167.035911  \n",
       "std        1.570960        0.578840       4.628198      1.734447     72.251528  \n",
       "min       -3.400000       92.201000     -50.800000      0.634000   4963.600000  \n",
       "25%       -1.800000       93.075000     -42.700000      1.344000   5099.100000  \n",
       "50%        1.100000       93.749000     -41.800000      4.857000   5191.000000  \n",
       "75%        1.400000       93.994000     -36.400000      4.961000   5228.100000  \n",
       "max        1.400000       94.767000     -26.900000      5.045000   5228.100000  "
      ]
     },
     "execution_count": 16,
     "metadata": {},
     "output_type": "execute_result"
    }
   ],
   "source": [
    "df.describe()"
   ]
  },
  {
   "cell_type": "markdown",
   "metadata": {},
   "source": [
    "# Разберем переменные подробней\n"
   ]
  },
  {
   "cell_type": "markdown",
   "metadata": {},
   "source": [
    "## Bank client data"
   ]
  },
  {
   "cell_type": "markdown",
   "metadata": {},
   "source": [
    "В этой группе представленны демографические характеристике, который или позвонил в банк, или был набран банком.\n",
    "\n",
    "Все переменные этой группы являются категориальными, кроме возраста.  "
   ]
  },
  {
   "cell_type": "markdown",
   "metadata": {},
   "source": [
    "### Age\n",
    "\n",
    "Чтобы было можно наглядней посмотреть на зависимость между согласием открыть долгосрочный вклад и возрастом - разделим по возраст на демографические группы. Думаю, будет интересней, если не просто разбить на интервалы по разному возрасту, а посмотреть на разные поколения. То есть, нам будут интересны хронологические поколнения. \n",
    "\n",
    "Поколение - это объединение людей в границах конкретного возрастного интервала. \n",
    "\n",
    "Хронологическое поколение - совокупность людей, жизнедеятельность которых проявляется в данный момент времени.\n",
    "\n",
    "[Статья про разницу между поколениями](https://prostudio.ru/journal/generation-x-y-z/)"
   ]
  },
  {
   "cell_type": "markdown",
   "metadata": {},
   "source": [
    "В начале проверим, есть ли у нас странные записи, в которых возраст человека меньше 18 лет.\n",
    "\n",
    "You must be aged at least 18 and provide proof of identity (e.g. a passport), your address in Portugal and your fiscal number. \n",
    "\n",
    "[Статья про требования в португальских банках](https://www.justlanded.com/english/Portugal/Portugal-Guide/Money/Accounts)"
   ]
  },
  {
   "cell_type": "code",
   "execution_count": 7,
   "metadata": {},
   "outputs": [
    {
     "data": {
      "text/html": [
       "<div>\n",
       "<style scoped>\n",
       "    .dataframe tbody tr th:only-of-type {\n",
       "        vertical-align: middle;\n",
       "    }\n",
       "\n",
       "    .dataframe tbody tr th {\n",
       "        vertical-align: top;\n",
       "    }\n",
       "\n",
       "    .dataframe thead th {\n",
       "        text-align: right;\n",
       "    }\n",
       "</style>\n",
       "<table border=\"1\" class=\"dataframe\">\n",
       "  <thead>\n",
       "    <tr style=\"text-align: right;\">\n",
       "      <th></th>\n",
       "      <th>age</th>\n",
       "      <th>job</th>\n",
       "      <th>marital</th>\n",
       "      <th>education</th>\n",
       "      <th>default</th>\n",
       "      <th>housing</th>\n",
       "      <th>loan</th>\n",
       "      <th>contact</th>\n",
       "      <th>month</th>\n",
       "      <th>day_of_week</th>\n",
       "      <th>duration</th>\n",
       "      <th>campaign</th>\n",
       "      <th>pdays</th>\n",
       "      <th>previous</th>\n",
       "      <th>poutcome</th>\n",
       "      <th>emp.var.rate</th>\n",
       "      <th>cons.price.idx</th>\n",
       "      <th>cons.conf.idx</th>\n",
       "      <th>euribor3m</th>\n",
       "      <th>nr.employed</th>\n",
       "      <th>y</th>\n",
       "    </tr>\n",
       "  </thead>\n",
       "  <tbody>\n",
       "    <tr>\n",
       "      <th>37140</th>\n",
       "      <td>17</td>\n",
       "      <td>student</td>\n",
       "      <td>single</td>\n",
       "      <td>unknown</td>\n",
       "      <td>no</td>\n",
       "      <td>yes</td>\n",
       "      <td>no</td>\n",
       "      <td>cellular</td>\n",
       "      <td>aug</td>\n",
       "      <td>wed</td>\n",
       "      <td>432</td>\n",
       "      <td>3</td>\n",
       "      <td>4</td>\n",
       "      <td>2</td>\n",
       "      <td>success</td>\n",
       "      <td>-2.9</td>\n",
       "      <td>92.201</td>\n",
       "      <td>-31.4</td>\n",
       "      <td>0.884</td>\n",
       "      <td>5076.2</td>\n",
       "      <td>no</td>\n",
       "    </tr>\n",
       "    <tr>\n",
       "      <th>37539</th>\n",
       "      <td>17</td>\n",
       "      <td>student</td>\n",
       "      <td>single</td>\n",
       "      <td>basic.9y</td>\n",
       "      <td>no</td>\n",
       "      <td>yes</td>\n",
       "      <td>no</td>\n",
       "      <td>cellular</td>\n",
       "      <td>aug</td>\n",
       "      <td>fri</td>\n",
       "      <td>182</td>\n",
       "      <td>2</td>\n",
       "      <td>999</td>\n",
       "      <td>2</td>\n",
       "      <td>failure</td>\n",
       "      <td>-2.9</td>\n",
       "      <td>92.201</td>\n",
       "      <td>-31.4</td>\n",
       "      <td>0.869</td>\n",
       "      <td>5076.2</td>\n",
       "      <td>no</td>\n",
       "    </tr>\n",
       "    <tr>\n",
       "      <th>37558</th>\n",
       "      <td>17</td>\n",
       "      <td>student</td>\n",
       "      <td>single</td>\n",
       "      <td>basic.9y</td>\n",
       "      <td>no</td>\n",
       "      <td>yes</td>\n",
       "      <td>no</td>\n",
       "      <td>cellular</td>\n",
       "      <td>aug</td>\n",
       "      <td>fri</td>\n",
       "      <td>92</td>\n",
       "      <td>3</td>\n",
       "      <td>4</td>\n",
       "      <td>2</td>\n",
       "      <td>success</td>\n",
       "      <td>-2.9</td>\n",
       "      <td>92.201</td>\n",
       "      <td>-31.4</td>\n",
       "      <td>0.869</td>\n",
       "      <td>5076.2</td>\n",
       "      <td>no</td>\n",
       "    </tr>\n",
       "    <tr>\n",
       "      <th>37579</th>\n",
       "      <td>17</td>\n",
       "      <td>student</td>\n",
       "      <td>single</td>\n",
       "      <td>basic.9y</td>\n",
       "      <td>no</td>\n",
       "      <td>unknown</td>\n",
       "      <td>unknown</td>\n",
       "      <td>cellular</td>\n",
       "      <td>aug</td>\n",
       "      <td>fri</td>\n",
       "      <td>498</td>\n",
       "      <td>2</td>\n",
       "      <td>999</td>\n",
       "      <td>1</td>\n",
       "      <td>failure</td>\n",
       "      <td>-2.9</td>\n",
       "      <td>92.201</td>\n",
       "      <td>-31.4</td>\n",
       "      <td>0.869</td>\n",
       "      <td>5076.2</td>\n",
       "      <td>yes</td>\n",
       "    </tr>\n",
       "    <tr>\n",
       "      <th>38274</th>\n",
       "      <td>17</td>\n",
       "      <td>student</td>\n",
       "      <td>single</td>\n",
       "      <td>unknown</td>\n",
       "      <td>no</td>\n",
       "      <td>no</td>\n",
       "      <td>yes</td>\n",
       "      <td>cellular</td>\n",
       "      <td>oct</td>\n",
       "      <td>tue</td>\n",
       "      <td>896</td>\n",
       "      <td>1</td>\n",
       "      <td>2</td>\n",
       "      <td>2</td>\n",
       "      <td>success</td>\n",
       "      <td>-3.4</td>\n",
       "      <td>92.431</td>\n",
       "      <td>-26.9</td>\n",
       "      <td>0.742</td>\n",
       "      <td>5017.5</td>\n",
       "      <td>yes</td>\n",
       "    </tr>\n",
       "  </tbody>\n",
       "</table>\n",
       "</div>"
      ],
      "text/plain": [
       "       age      job marital education default  housing     loan   contact  \\\n",
       "37140   17  student  single   unknown      no      yes       no  cellular   \n",
       "37539   17  student  single  basic.9y      no      yes       no  cellular   \n",
       "37558   17  student  single  basic.9y      no      yes       no  cellular   \n",
       "37579   17  student  single  basic.9y      no  unknown  unknown  cellular   \n",
       "38274   17  student  single   unknown      no       no      yes  cellular   \n",
       "\n",
       "      month day_of_week  duration  campaign  pdays  previous poutcome  \\\n",
       "37140   aug         wed       432         3      4         2  success   \n",
       "37539   aug         fri       182         2    999         2  failure   \n",
       "37558   aug         fri        92         3      4         2  success   \n",
       "37579   aug         fri       498         2    999         1  failure   \n",
       "38274   oct         tue       896         1      2         2  success   \n",
       "\n",
       "       emp.var.rate  cons.price.idx  cons.conf.idx  euribor3m  nr.employed  \\\n",
       "37140          -2.9          92.201          -31.4      0.884       5076.2   \n",
       "37539          -2.9          92.201          -31.4      0.869       5076.2   \n",
       "37558          -2.9          92.201          -31.4      0.869       5076.2   \n",
       "37579          -2.9          92.201          -31.4      0.869       5076.2   \n",
       "38274          -3.4          92.431          -26.9      0.742       5017.5   \n",
       "\n",
       "         y  \n",
       "37140   no  \n",
       "37539   no  \n",
       "37558   no  \n",
       "37579  yes  \n",
       "38274  yes  "
      ]
     },
     "execution_count": 7,
     "metadata": {},
     "output_type": "execute_result"
    }
   ],
   "source": [
    "df[df['age'] < 18]"
   ]
  },
  {
   "cell_type": "markdown",
   "metadata": {},
   "source": [
    "Как мы видим, есть 5 таких звонков. Особенно интересный звонок под id = 39274, у студента уже был займ. \n",
    "\n",
    "**Мое предположение такое, что студенты сами звонили в банк, с просьбой открыть депозит. Но по фиче pdays мы видим, что в 3 из 5 случаев, это не было первым звонком в банк или из банка.** "
   ]
  },
  {
   "cell_type": "markdown",
   "metadata": {},
   "source": [
    "Проверим, как распределена эта величина, построив гистограмму"
   ]
  },
  {
   "cell_type": "code",
   "execution_count": 58,
   "metadata": {},
   "outputs": [
    {
     "data": {
      "image/png": "[encoded data removed]",
      "text/plain": [
       "<Figure size 432x432 with 1 Axes>"
      ]
     },
     "metadata": {},
     "output_type": "display_data"
    }
   ],
   "source": [
    "plt.figure(figsize=(6,6))\n",
    "sns.distplot(df[\"age\"])\n",
    "plt.title('Распределение в выборке переменной age')\n",
    "plt.show()"
   ]
  },
  {
   "cell_type": "markdown",
   "metadata": {},
   "source": [
    "Так как у нас не может быть людей моложе 18 лет, и мало кто доживает до 100, то можно взять за приблизетельный средний возраст 40 лет. Из граффика видно, что в данную выборку попало больше людей 30 летнего возраста. Мы видим, что граффик немного похож на нормальное распределение. Он унимодален, и skewed в правую сторону. \n",
    "\n",
    "Можно сравнить эти данные с демографическим показателеми Португалии за эти года. \n",
    "\n",
    "#TODO: Если успею, то поищу датасет с этими данными "
   ]
  },
  {
   "cell_type": "markdown",
   "metadata": {},
   "source": [
    "Для проверки на нормальность построю QQ плот, так как объем выборки большой "
   ]
  },
  {
   "cell_type": "code",
   "execution_count": 78,
   "metadata": {},
   "outputs": [
    {
     "data": {
      "image/png": "[encoded data removed]",
      "text/plain": [
       "<Figure size 432x288 with 1 Axes>"
      ]
     },
     "metadata": {
      "needs_background": "light"
     },
     "output_type": "display_data"
    }
   ],
   "source": [
    "sm.qqplot(df['age'], line='s')\n",
    "plt.title('QQ плот для проверки на нормальность переменной age')\n",
    "plt.show()"
   ]
  },
  {
   "cell_type": "markdown",
   "metadata": {},
   "source": [
    "**Вывод**\n",
    "\n",
    "Видим, что переменная распределена не нормально, концы очень тяжелые "
   ]
  },
  {
   "cell_type": "markdown",
   "metadata": {},
   "source": [
    "Так как у нас нет данных, для того, чтобы точно определить в каком году был совершен звонок, я думаю взять среднее годов, когда собирались данные. В данном случае это не целое число, поэтому округлю."
   ]
  },
  {
   "cell_type": "code",
   "execution_count": 8,
   "metadata": {},
   "outputs": [
    {
     "name": "stdout",
     "output_type": "stream",
     "text": [
      "Средний год звонка клиенту - 2010\n"
     ]
    }
   ],
   "source": [
    "year = round(np.mean([2008,2013]))\n",
    "print(f'Средний год звонка клиенту - {year}')"
   ]
  },
  {
   "cell_type": "markdown",
   "metadata": {},
   "source": [
    "|Название поколнения | года |\n",
    "|--------------|-----------|\n",
    "|Молчаливое поколение | 1925 – 1944|\n",
    "|Поколение бэби-бумеров | 1944 – 1967|\n",
    "|Поколение Х (икс) | 1967 – 1984|\n",
    "|Поколение Y (игрек) или миллениалы | 1984 – 2000|\n",
    "|Поколение Z (зет) или зумеры | 2000 – 2015|\n",
    "|Поколение A (альфа) | c 2011 |"
   ]
  },
  {
   "cell_type": "markdown",
   "metadata": {},
   "source": [
    "Поколения Z и A нас не интересуют, так как они не достигли совершеннолетия, чтобы открыть депозит в банке. "
   ]
  },
  {
   "cell_type": "code",
   "execution_count": 9,
   "metadata": {},
   "outputs": [],
   "source": [
    "bins = pd.IntervalIndex.from_tuples([ (year - 2000, year - 1984 ),(year - 1984, year - 1967),( year - 1967, year - 1944), (year - 1944, year - 1925)])\n",
    "d = dict(zip(bins,['Millenial', 'GenX', 'BabyBoom', 'Silent' ]))\n",
    "df['Generation'] = pd.cut(df['age'], bins = bins, right = True).map(d)"
   ]
  },
  {
   "cell_type": "markdown",
   "metadata": {},
   "source": [
    "Посмотрим на абсолютное число значений людей, с которыми связался банк, или которые сами с ним связались, разделенное на поколения"
   ]
  },
  {
   "cell_type": "code",
   "execution_count": 87,
   "metadata": {},
   "outputs": [
    {
     "data": {
      "application/vnd.plotly.v1+json": {
       "config": {
        "plotlyServerURL": "https://plot.ly"
       },
       "data": [
        {
         "hovertemplate": "x=%{x}<br>y=%{y}<extra></extra>",
         "legendgroup": "",
         "marker": {
          "color": "#636efa"
         },
         "name": "",
         "orientation": "h",
         "showlegend": false,
         "type": "funnel",
         "x": [
          24879,
          13383,
          2364,
          519
         ],
         "xaxis": "x",
         "y": [
          "GenX",
          "BabyBoom",
          "Millenial",
          "Silent"
         ],
         "yaxis": "y"
        }
       ],
       "layout": {
        "legend": {
         "tracegroupgap": 0
        },
        "template": {
         "data": {
          "bar": [
           {
            "error_x": {
             "color": "#2a3f5f"
            },
            "error_y": {
             "color": "#2a3f5f"
            },
            "marker": {
             "line": {
              "color": "#E5ECF6",
              "width": 0.5
             }
            },
            "type": "bar"
           }
          ],
          "barpolar": [
           {
            "marker": {
             "line": {
              "color": "#E5ECF6",
              "width": 0.5
             }
            },
            "type": "barpolar"
           }
          ],
          "carpet": [
           {
            "aaxis": {
             "endlinecolor": "#2a3f5f",
             "gridcolor": "white",
             "linecolor": "white",
             "minorgridcolor": "white",
             "startlinecolor": "#2a3f5f"
            },
            "baxis": {
             "endlinecolor": "#2a3f5f",
             "gridcolor": "white",
             "linecolor": "white",
             "minorgridcolor": "white",
             "startlinecolor": "#2a3f5f"
            },
            "type": "carpet"
           }
          ],
          "choropleth": [
           {
            "colorbar": {
             "outlinewidth": 0,
             "ticks": ""
            },
            "type": "choropleth"
           }
          ],
          "contour": [
           {
            "colorbar": {
             "outlinewidth": 0,
             "ticks": ""
            },
            "colorscale": [
             [
              0,
              "#0d0887"
             ],
             [
              0.1111111111111111,
              "#46039f"
             ],
             [
              0.2222222222222222,
              "#7201a8"
             ],
             [
              0.3333333333333333,
              "#9c179e"
             ],
             [
              0.4444444444444444,
              "#bd3786"
             ],
             [
              0.5555555555555556,
              "#d8576b"
             ],
             [
              0.6666666666666666,
              "#ed7953"
             ],
             [
              0.7777777777777778,
              "#fb9f3a"
             ],
             [
              0.8888888888888888,
              "#fdca26"
             ],
             [
              1,
              "#f0f921"
             ]
            ],
            "type": "contour"
           }
          ],
          "contourcarpet": [
           {
            "colorbar": {
             "outlinewidth": 0,
             "ticks": ""
            },
            "type": "contourcarpet"
           }
          ],
          "heatmap": [
           {
            "colorbar": {
             "outlinewidth": 0,
             "ticks": ""
            },
            "colorscale": [
             [
              0,
              "#0d0887"
             ],
             [
              0.1111111111111111,
              "#46039f"
             ],
             [
              0.2222222222222222,
              "#7201a8"
             ],
             [
              0.3333333333333333,
              "#9c179e"
             ],
             [
              0.4444444444444444,
              "#bd3786"
             ],
             [
              0.5555555555555556,
              "#d8576b"
             ],
             [
              0.6666666666666666,
              "#ed7953"
             ],
             [
              0.7777777777777778,
              "#fb9f3a"
             ],
             [
              0.8888888888888888,
              "#fdca26"
             ],
             [
              1,
              "#f0f921"
             ]
            ],
            "type": "heatmap"
           }
          ],
          "heatmapgl": [
           {
            "colorbar": {
             "outlinewidth": 0,
             "ticks": ""
            },
            "colorscale": [
             [
              0,
              "#0d0887"
             ],
             [
              0.1111111111111111,
              "#46039f"
             ],
             [
              0.2222222222222222,
              "#7201a8"
             ],
             [
              0.3333333333333333,
              "#9c179e"
             ],
             [
              0.4444444444444444,
              "#bd3786"
             ],
             [
              0.5555555555555556,
              "#d8576b"
             ],
             [
              0.6666666666666666,
              "#ed7953"
             ],
             [
              0.7777777777777778,
              "#fb9f3a"
             ],
             [
              0.8888888888888888,
              "#fdca26"
             ],
             [
              1,
              "#f0f921"
             ]
            ],
            "type": "heatmapgl"
           }
          ],
          "histogram": [
           {
            "marker": {
             "colorbar": {
              "outlinewidth": 0,
              "ticks": ""
             }
            },
            "type": "histogram"
           }
          ],
          "histogram2d": [
           {
            "colorbar": {
             "outlinewidth": 0,
             "ticks": ""
            },
            "colorscale": [
             [
              0,
              "#0d0887"
             ],
             [
              0.1111111111111111,
              "#46039f"
             ],
             [
              0.2222222222222222,
              "#7201a8"
             ],
             [
              0.3333333333333333,
              "#9c179e"
             ],
             [
              0.4444444444444444,
              "#bd3786"
             ],
             [
              0.5555555555555556,
              "#d8576b"
             ],
             [
              0.6666666666666666,
              "#ed7953"
             ],
             [
              0.7777777777777778,
              "#fb9f3a"
             ],
             [
              0.8888888888888888,
              "#fdca26"
             ],
             [
              1,
              "#f0f921"
             ]
            ],
            "type": "histogram2d"
           }
          ],
          "histogram2dcontour": [
           {
            "colorbar": {
             "outlinewidth": 0,
             "ticks": ""
            },
            "colorscale": [
             [
              0,
              "#0d0887"
             ],
             [
              0.1111111111111111,
              "#46039f"
             ],
             [
              0.2222222222222222,
              "#7201a8"
             ],
             [
              0.3333333333333333,
              "#9c179e"
             ],
             [
              0.4444444444444444,
              "#bd3786"
             ],
             [
              0.5555555555555556,
              "#d8576b"
             ],
             [
              0.6666666666666666,
              "#ed7953"
             ],
             [
              0.7777777777777778,
              "#fb9f3a"
             ],
             [
              0.8888888888888888,
              "#fdca26"
             ],
             [
              1,
              "#f0f921"
             ]
            ],
            "type": "histogram2dcontour"
           }
          ],
          "mesh3d": [
           {
            "colorbar": {
             "outlinewidth": 0,
             "ticks": ""
            },
            "type": "mesh3d"
           }
          ],
          "parcoords": [
           {
            "line": {
             "colorbar": {
              "outlinewidth": 0,
              "ticks": ""
             }
            },
            "type": "parcoords"
           }
          ],
          "pie": [
           {
            "automargin": true,
            "type": "pie"
           }
          ],
          "scatter": [
           {
            "marker": {
             "colorbar": {
              "outlinewidth": 0,
              "ticks": ""
             }
            },
            "type": "scatter"
           }
          ],
          "scatter3d": [
           {
            "line": {
             "colorbar": {
              "outlinewidth": 0,
              "ticks": ""
             }
            },
            "marker": {
             "colorbar": {
              "outlinewidth": 0,
              "ticks": ""
             }
            },
            "type": "scatter3d"
           }
          ],
          "scattercarpet": [
           {
            "marker": {
             "colorbar": {
              "outlinewidth": 0,
              "ticks": ""
             }
            },
            "type": "scattercarpet"
           }
          ],
          "scattergeo": [
           {
            "marker": {
             "colorbar": {
              "outlinewidth": 0,
              "ticks": ""
             }
            },
            "type": "scattergeo"
           }
          ],
          "scattergl": [
           {
            "marker": {
             "colorbar": {
              "outlinewidth": 0,
              "ticks": ""
             }
            },
            "type": "scattergl"
           }
          ],
          "scattermapbox": [
           {
            "marker": {
             "colorbar": {
              "outlinewidth": 0,
              "ticks": ""
             }
            },
            "type": "scattermapbox"
           }
          ],
          "scatterpolar": [
           {
            "marker": {
             "colorbar": {
              "outlinewidth": 0,
              "ticks": ""
             }
            },
            "type": "scatterpolar"
           }
          ],
          "scatterpolargl": [
           {
            "marker": {
             "colorbar": {
              "outlinewidth": 0,
              "ticks": ""
             }
            },
            "type": "scatterpolargl"
           }
          ],
          "scatterternary": [
           {
            "marker": {
             "colorbar": {
              "outlinewidth": 0,
              "ticks": ""
             }
            },
            "type": "scatterternary"
           }
          ],
          "surface": [
           {
            "colorbar": {
             "outlinewidth": 0,
             "ticks": ""
            },
            "colorscale": [
             [
              0,
              "#0d0887"
             ],
             [
              0.1111111111111111,
              "#46039f"
             ],
             [
              0.2222222222222222,
              "#7201a8"
             ],
             [
              0.3333333333333333,
              "#9c179e"
             ],
             [
              0.4444444444444444,
              "#bd3786"
             ],
             [
              0.5555555555555556,
              "#d8576b"
             ],
             [
              0.6666666666666666,
              "#ed7953"
             ],
             [
              0.7777777777777778,
              "#fb9f3a"
             ],
             [
              0.8888888888888888,
              "#fdca26"
             ],
             [
              1,
              "#f0f921"
             ]
            ],
            "type": "surface"
           }
          ],
          "table": [
           {
            "cells": {
             "fill": {
              "color": "#EBF0F8"
             },
             "line": {
              "color": "white"
             }
            },
            "header": {
             "fill": {
              "color": "#C8D4E3"
             },
             "line": {
              "color": "white"
             }
            },
            "type": "table"
           }
          ]
         },
         "layout": {
          "annotationdefaults": {
           "arrowcolor": "#2a3f5f",
           "arrowhead": 0,
           "arrowwidth": 1
          },
          "coloraxis": {
           "colorbar": {
            "outlinewidth": 0,
            "ticks": ""
           }
          },
          "colorscale": {
           "diverging": [
            [
             0,
             "#8e0152"
            ],
            [
             0.1,
             "#c51b7d"
            ],
            [
             0.2,
             "#de77ae"
            ],
            [
             0.3,
             "#f1b6da"
            ],
            [
             0.4,
             "#fde0ef"
            ],
            [
             0.5,
             "#f7f7f7"
            ],
            [
             0.6,
             "#e6f5d0"
            ],
            [
             0.7,
             "#b8e186"
            ],
            [
             0.8,
             "#7fbc41"
            ],
            [
             0.9,
             "#4d9221"
            ],
            [
             1,
             "#276419"
            ]
           ],
           "sequential": [
            [
             0,
             "#0d0887"
            ],
            [
             0.1111111111111111,
             "#46039f"
            ],
            [
             0.2222222222222222,
             "#7201a8"
            ],
            [
             0.3333333333333333,
             "#9c179e"
            ],
            [
             0.4444444444444444,
             "#bd3786"
            ],
            [
             0.5555555555555556,
             "#d8576b"
            ],
            [
             0.6666666666666666,
             "#ed7953"
            ],
            [
             0.7777777777777778,
             "#fb9f3a"
            ],
            [
             0.8888888888888888,
             "#fdca26"
            ],
            [
             1,
             "#f0f921"
            ]
           ],
           "sequentialminus": [
            [
             0,
             "#0d0887"
            ],
            [
             0.1111111111111111,
             "#46039f"
            ],
            [
             0.2222222222222222,
             "#7201a8"
            ],
            [
             0.3333333333333333,
             "#9c179e"
            ],
            [
             0.4444444444444444,
             "#bd3786"
            ],
            [
             0.5555555555555556,
             "#d8576b"
            ],
            [
             0.6666666666666666,
             "#ed7953"
            ],
            [
             0.7777777777777778,
             "#fb9f3a"
            ],
            [
             0.8888888888888888,
             "#fdca26"
            ],
            [
             1,
             "#f0f921"
            ]
           ]
          },
          "colorway": [
           "#636efa",
           "#EF553B",
           "#00cc96",
           "#ab63fa",
           "#FFA15A",
           "#19d3f3",
           "#FF6692",
           "#B6E880",
           "#FF97FF",
           "#FECB52"
          ],
          "font": {
           "color": "#2a3f5f"
          },
          "geo": {
           "bgcolor": "white",
           "lakecolor": "white",
           "landcolor": "#E5ECF6",
           "showlakes": true,
           "showland": true,
           "subunitcolor": "white"
          },
          "hoverlabel": {
           "align": "left"
          },
          "hovermode": "closest",
          "mapbox": {
           "style": "light"
          },
          "paper_bgcolor": "white",
          "plot_bgcolor": "#E5ECF6",
          "polar": {
           "angularaxis": {
            "gridcolor": "white",
            "linecolor": "white",
            "ticks": ""
           },
           "bgcolor": "#E5ECF6",
           "radialaxis": {
            "gridcolor": "white",
            "linecolor": "white",
            "ticks": ""
           }
          },
          "scene": {
           "xaxis": {
            "backgroundcolor": "#E5ECF6",
            "gridcolor": "white",
            "gridwidth": 2,
            "linecolor": "white",
            "showbackground": true,
            "ticks": "",
            "zerolinecolor": "white"
           },
           "yaxis": {
            "backgroundcolor": "#E5ECF6",
            "gridcolor": "white",
            "gridwidth": 2,
            "linecolor": "white",
            "showbackground": true,
            "ticks": "",
            "zerolinecolor": "white"
           },
           "zaxis": {
            "backgroundcolor": "#E5ECF6",
            "gridcolor": "white",
            "gridwidth": 2,
            "linecolor": "white",
            "showbackground": true,
            "ticks": "",
            "zerolinecolor": "white"
           }
          },
          "shapedefaults": {
           "line": {
            "color": "#2a3f5f"
           }
          },
          "ternary": {
           "aaxis": {
            "gridcolor": "white",
            "linecolor": "white",
            "ticks": ""
           },
           "baxis": {
            "gridcolor": "white",
            "linecolor": "white",
            "ticks": ""
           },
           "bgcolor": "#E5ECF6",
           "caxis": {
            "gridcolor": "white",
            "linecolor": "white",
            "ticks": ""
           }
          },
          "title": {
           "x": 0.05
          },
          "xaxis": {
           "automargin": true,
           "gridcolor": "white",
           "linecolor": "white",
           "ticks": "",
           "title": {
            "standoff": 15
           },
           "zerolinecolor": "white",
           "zerolinewidth": 2
          },
          "yaxis": {
           "automargin": true,
           "gridcolor": "white",
           "linecolor": "white",
           "ticks": "",
           "title": {
            "standoff": 15
           },
           "zerolinecolor": "white",
           "zerolinewidth": 2
          }
         }
        },
        "title": {
         "text": "Распределение поколений в выборке в абсолютных значениях"
        },
        "xaxis": {
         "anchor": "y",
         "domain": [
          0,
          1
         ],
         "title": {
          "text": "x"
         }
        },
        "yaxis": {
         "anchor": "x",
         "domain": [
          0,
          1
         ],
         "title": {
          "text": "y"
         }
        }
       }
      },
      "text/html": [
       "<div>\n",
       "        \n",
       "        \n",
       "            <div id=\"bc4985bc-a162-455f-99a5-7fd5d5af8db3\" class=\"plotly-graph-div\" style=\"height:525px; width:100%;\"></div>\n",
       "            <script type=\"text/javascript\">\n",
       "                require([\"plotly\"], function(Plotly) {\n",
       "                    window.PLOTLYENV=window.PLOTLYENV || {};\n",
       "                    \n",
       "                if (document.getElementById(\"bc4985bc-a162-455f-99a5-7fd5d5af8db3\")) {\n",
       "                    Plotly.newPlot(\n",
       "                        'bc4985bc-a162-455f-99a5-7fd5d5af8db3',\n",
       "                        [{\"hovertemplate\": \"x=%{x}<br>y=%{y}<extra></extra>\", \"legendgroup\": \"\", \"marker\": {\"color\": \"#636efa\"}, \"name\": \"\", \"orientation\": \"h\", \"showlegend\": false, \"type\": \"funnel\", \"x\": [24879, 13383, 2364, 519], \"xaxis\": \"x\", \"y\": [\"GenX\", \"BabyBoom\", \"Millenial\", \"Silent\"], \"yaxis\": \"y\"}],\n",
       "                        {\"legend\": {\"tracegroupgap\": 0}, \"template\": {\"data\": {\"bar\": [{\"error_x\": {\"color\": \"#2a3f5f\"}, \"error_y\": {\"color\": \"#2a3f5f\"}, \"marker\": {\"line\": {\"color\": \"#E5ECF6\", \"width\": 0.5}}, \"type\": \"bar\"}], \"barpolar\": [{\"marker\": {\"line\": {\"color\": \"#E5ECF6\", \"width\": 0.5}}, \"type\": \"barpolar\"}], \"carpet\": [{\"aaxis\": {\"endlinecolor\": \"#2a3f5f\", \"gridcolor\": \"white\", \"linecolor\": \"white\", \"minorgridcolor\": \"white\", \"startlinecolor\": \"#2a3f5f\"}, \"baxis\": {\"endlinecolor\": \"#2a3f5f\", \"gridcolor\": \"white\", \"linecolor\": \"white\", \"minorgridcolor\": \"white\", \"startlinecolor\": \"#2a3f5f\"}, \"type\": \"carpet\"}], \"choropleth\": [{\"colorbar\": {\"outlinewidth\": 0, \"ticks\": \"\"}, \"type\": \"choropleth\"}], \"contour\": [{\"colorbar\": {\"outlinewidth\": 0, \"ticks\": \"\"}, \"colorscale\": [[0.0, \"#0d0887\"], [0.1111111111111111, \"#46039f\"], [0.2222222222222222, \"#7201a8\"], [0.3333333333333333, \"#9c179e\"], [0.4444444444444444, \"#bd3786\"], [0.5555555555555556, \"#d8576b\"], [0.6666666666666666, \"#ed7953\"], [0.7777777777777778, \"#fb9f3a\"], [0.8888888888888888, \"#fdca26\"], [1.0, \"#f0f921\"]], \"type\": \"contour\"}], \"contourcarpet\": [{\"colorbar\": {\"outlinewidth\": 0, \"ticks\": \"\"}, \"type\": \"contourcarpet\"}], \"heatmap\": [{\"colorbar\": {\"outlinewidth\": 0, \"ticks\": \"\"}, \"colorscale\": [[0.0, \"#0d0887\"], [0.1111111111111111, \"#46039f\"], [0.2222222222222222, \"#7201a8\"], [0.3333333333333333, \"#9c179e\"], [0.4444444444444444, \"#bd3786\"], [0.5555555555555556, \"#d8576b\"], [0.6666666666666666, \"#ed7953\"], [0.7777777777777778, \"#fb9f3a\"], [0.8888888888888888, \"#fdca26\"], [1.0, \"#f0f921\"]], \"type\": \"heatmap\"}], \"heatmapgl\": [{\"colorbar\": {\"outlinewidth\": 0, \"ticks\": \"\"}, \"colorscale\": [[0.0, \"#0d0887\"], [0.1111111111111111, \"#46039f\"], [0.2222222222222222, \"#7201a8\"], [0.3333333333333333, \"#9c179e\"], [0.4444444444444444, \"#bd3786\"], [0.5555555555555556, \"#d8576b\"], [0.6666666666666666, \"#ed7953\"], [0.7777777777777778, \"#fb9f3a\"], [0.8888888888888888, \"#fdca26\"], [1.0, \"#f0f921\"]], \"type\": \"heatmapgl\"}], \"histogram\": [{\"marker\": {\"colorbar\": {\"outlinewidth\": 0, \"ticks\": \"\"}}, \"type\": \"histogram\"}], \"histogram2d\": [{\"colorbar\": {\"outlinewidth\": 0, \"ticks\": \"\"}, \"colorscale\": [[0.0, \"#0d0887\"], [0.1111111111111111, \"#46039f\"], [0.2222222222222222, \"#7201a8\"], [0.3333333333333333, \"#9c179e\"], [0.4444444444444444, \"#bd3786\"], [0.5555555555555556, \"#d8576b\"], [0.6666666666666666, \"#ed7953\"], [0.7777777777777778, \"#fb9f3a\"], [0.8888888888888888, \"#fdca26\"], [1.0, \"#f0f921\"]], \"type\": \"histogram2d\"}], \"histogram2dcontour\": [{\"colorbar\": {\"outlinewidth\": 0, \"ticks\": \"\"}, \"colorscale\": [[0.0, \"#0d0887\"], [0.1111111111111111, \"#46039f\"], [0.2222222222222222, \"#7201a8\"], [0.3333333333333333, \"#9c179e\"], [0.4444444444444444, \"#bd3786\"], [0.5555555555555556, \"#d8576b\"], [0.6666666666666666, \"#ed7953\"], [0.7777777777777778, \"#fb9f3a\"], [0.8888888888888888, \"#fdca26\"], [1.0, \"#f0f921\"]], \"type\": \"histogram2dcontour\"}], \"mesh3d\": [{\"colorbar\": {\"outlinewidth\": 0, \"ticks\": \"\"}, \"type\": \"mesh3d\"}], \"parcoords\": [{\"line\": {\"colorbar\": {\"outlinewidth\": 0, \"ticks\": \"\"}}, \"type\": \"parcoords\"}], \"pie\": [{\"automargin\": true, \"type\": \"pie\"}], \"scatter\": [{\"marker\": {\"colorbar\": {\"outlinewidth\": 0, \"ticks\": \"\"}}, \"type\": \"scatter\"}], \"scatter3d\": [{\"line\": {\"colorbar\": {\"outlinewidth\": 0, \"ticks\": \"\"}}, \"marker\": {\"colorbar\": {\"outlinewidth\": 0, \"ticks\": \"\"}}, \"type\": \"scatter3d\"}], \"scattercarpet\": [{\"marker\": {\"colorbar\": {\"outlinewidth\": 0, \"ticks\": \"\"}}, \"type\": \"scattercarpet\"}], \"scattergeo\": [{\"marker\": {\"colorbar\": {\"outlinewidth\": 0, \"ticks\": \"\"}}, \"type\": \"scattergeo\"}], \"scattergl\": [{\"marker\": {\"colorbar\": {\"outlinewidth\": 0, \"ticks\": \"\"}}, \"type\": \"scattergl\"}], \"scattermapbox\": [{\"marker\": {\"colorbar\": {\"outlinewidth\": 0, \"ticks\": \"\"}}, \"type\": \"scattermapbox\"}], \"scatterpolar\": [{\"marker\": {\"colorbar\": {\"outlinewidth\": 0, \"ticks\": \"\"}}, \"type\": \"scatterpolar\"}], \"scatterpolargl\": [{\"marker\": {\"colorbar\": {\"outlinewidth\": 0, \"ticks\": \"\"}}, \"type\": \"scatterpolargl\"}], \"scatterternary\": [{\"marker\": {\"colorbar\": {\"outlinewidth\": 0, \"ticks\": \"\"}}, \"type\": \"scatterternary\"}], \"surface\": [{\"colorbar\": {\"outlinewidth\": 0, \"ticks\": \"\"}, \"colorscale\": [[0.0, \"#0d0887\"], [0.1111111111111111, \"#46039f\"], [0.2222222222222222, \"#7201a8\"], [0.3333333333333333, \"#9c179e\"], [0.4444444444444444, \"#bd3786\"], [0.5555555555555556, \"#d8576b\"], [0.6666666666666666, \"#ed7953\"], [0.7777777777777778, \"#fb9f3a\"], [0.8888888888888888, \"#fdca26\"], [1.0, \"#f0f921\"]], \"type\": \"surface\"}], \"table\": [{\"cells\": {\"fill\": {\"color\": \"#EBF0F8\"}, \"line\": {\"color\": \"white\"}}, \"header\": {\"fill\": {\"color\": \"#C8D4E3\"}, \"line\": {\"color\": \"white\"}}, \"type\": \"table\"}]}, \"layout\": {\"annotationdefaults\": {\"arrowcolor\": \"#2a3f5f\", \"arrowhead\": 0, \"arrowwidth\": 1}, \"coloraxis\": {\"colorbar\": {\"outlinewidth\": 0, \"ticks\": \"\"}}, \"colorscale\": {\"diverging\": [[0, \"#8e0152\"], [0.1, \"#c51b7d\"], [0.2, \"#de77ae\"], [0.3, \"#f1b6da\"], [0.4, \"#fde0ef\"], [0.5, \"#f7f7f7\"], [0.6, \"#e6f5d0\"], [0.7, \"#b8e186\"], [0.8, \"#7fbc41\"], [0.9, \"#4d9221\"], [1, \"#276419\"]], \"sequential\": [[0.0, \"#0d0887\"], [0.1111111111111111, \"#46039f\"], [0.2222222222222222, \"#7201a8\"], [0.3333333333333333, \"#9c179e\"], [0.4444444444444444, \"#bd3786\"], [0.5555555555555556, \"#d8576b\"], [0.6666666666666666, \"#ed7953\"], [0.7777777777777778, \"#fb9f3a\"], [0.8888888888888888, \"#fdca26\"], [1.0, \"#f0f921\"]], \"sequentialminus\": [[0.0, \"#0d0887\"], [0.1111111111111111, \"#46039f\"], [0.2222222222222222, \"#7201a8\"], [0.3333333333333333, \"#9c179e\"], [0.4444444444444444, \"#bd3786\"], [0.5555555555555556, \"#d8576b\"], [0.6666666666666666, \"#ed7953\"], [0.7777777777777778, \"#fb9f3a\"], [0.8888888888888888, \"#fdca26\"], [1.0, \"#f0f921\"]]}, \"colorway\": [\"#636efa\", \"#EF553B\", \"#00cc96\", \"#ab63fa\", \"#FFA15A\", \"#19d3f3\", \"#FF6692\", \"#B6E880\", \"#FF97FF\", \"#FECB52\"], \"font\": {\"color\": \"#2a3f5f\"}, \"geo\": {\"bgcolor\": \"white\", \"lakecolor\": \"white\", \"landcolor\": \"#E5ECF6\", \"showlakes\": true, \"showland\": true, \"subunitcolor\": \"white\"}, \"hoverlabel\": {\"align\": \"left\"}, \"hovermode\": \"closest\", \"mapbox\": {\"style\": \"light\"}, \"paper_bgcolor\": \"white\", \"plot_bgcolor\": \"#E5ECF6\", \"polar\": {\"angularaxis\": {\"gridcolor\": \"white\", \"linecolor\": \"white\", \"ticks\": \"\"}, \"bgcolor\": \"#E5ECF6\", \"radialaxis\": {\"gridcolor\": \"white\", \"linecolor\": \"white\", \"ticks\": \"\"}}, \"scene\": {\"xaxis\": {\"backgroundcolor\": \"#E5ECF6\", \"gridcolor\": \"white\", \"gridwidth\": 2, \"linecolor\": \"white\", \"showbackground\": true, \"ticks\": \"\", \"zerolinecolor\": \"white\"}, \"yaxis\": {\"backgroundcolor\": \"#E5ECF6\", \"gridcolor\": \"white\", \"gridwidth\": 2, \"linecolor\": \"white\", \"showbackground\": true, \"ticks\": \"\", \"zerolinecolor\": \"white\"}, \"zaxis\": {\"backgroundcolor\": \"#E5ECF6\", \"gridcolor\": \"white\", \"gridwidth\": 2, \"linecolor\": \"white\", \"showbackground\": true, \"ticks\": \"\", \"zerolinecolor\": \"white\"}}, \"shapedefaults\": {\"line\": {\"color\": \"#2a3f5f\"}}, \"ternary\": {\"aaxis\": {\"gridcolor\": \"white\", \"linecolor\": \"white\", \"ticks\": \"\"}, \"baxis\": {\"gridcolor\": \"white\", \"linecolor\": \"white\", \"ticks\": \"\"}, \"bgcolor\": \"#E5ECF6\", \"caxis\": {\"gridcolor\": \"white\", \"linecolor\": \"white\", \"ticks\": \"\"}}, \"title\": {\"x\": 0.05}, \"xaxis\": {\"automargin\": true, \"gridcolor\": \"white\", \"linecolor\": \"white\", \"ticks\": \"\", \"title\": {\"standoff\": 15}, \"zerolinecolor\": \"white\", \"zerolinewidth\": 2}, \"yaxis\": {\"automargin\": true, \"gridcolor\": \"white\", \"linecolor\": \"white\", \"ticks\": \"\", \"title\": {\"standoff\": 15}, \"zerolinecolor\": \"white\", \"zerolinewidth\": 2}}}, \"title\": {\"text\": \"\\u0420\\u0430\\u0441\\u043f\\u0440\\u0435\\u0434\\u0435\\u043b\\u0435\\u043d\\u0438\\u0435 \\u043f\\u043e\\u043a\\u043e\\u043b\\u0435\\u043d\\u0438\\u0439 \\u0432 \\u0432\\u044b\\u0431\\u043e\\u0440\\u043a\\u0435 \\u0432 \\u0430\\u0431\\u0441\\u043e\\u043b\\u044e\\u0442\\u043d\\u044b\\u0445 \\u0437\\u043d\\u0430\\u0447\\u0435\\u043d\\u0438\\u044f\\u0445\"}, \"xaxis\": {\"anchor\": \"y\", \"domain\": [0.0, 1.0], \"title\": {\"text\": \"x\"}}, \"yaxis\": {\"anchor\": \"x\", \"domain\": [0.0, 1.0], \"title\": {\"text\": \"y\"}}},\n",
       "                        {\"responsive\": true}\n",
       "                    ).then(function(){\n",
       "                            \n",
       "var gd = document.getElementById('bc4985bc-a162-455f-99a5-7fd5d5af8db3');\n",
       "var x = new MutationObserver(function (mutations, observer) {{\n",
       "        var display = window.getComputedStyle(gd).display;\n",
       "        if (!display || display === 'none') {{\n",
       "            console.log([gd, 'removed!']);\n",
       "            Plotly.purge(gd);\n",
       "            observer.disconnect();\n",
       "        }}\n",
       "}});\n",
       "\n",
       "// Listen for the removal of the full notebook cells\n",
       "var notebookContainer = gd.closest('#notebook-container');\n",
       "if (notebookContainer) {{\n",
       "    x.observe(notebookContainer, {childList: true});\n",
       "}}\n",
       "\n",
       "// Listen for the clearing of the current output cell\n",
       "var outputEl = gd.closest('.output');\n",
       "if (outputEl) {{\n",
       "    x.observe(outputEl, {childList: true});\n",
       "}}\n",
       "\n",
       "                        })\n",
       "                };\n",
       "                });\n",
       "            </script>\n",
       "        </div>"
      ]
     },
     "metadata": {},
     "output_type": "display_data"
    }
   ],
   "source": [
    "fig = go.Figure(px.funnel(\n",
    "    y =df['Generation'].value_counts().index,\n",
    "    x = df['Generation'].value_counts(),\n",
    "    title = \"Распределение поколений в выборке в абсолютных значениях\"\n",
    "    ))\n",
    "\n",
    "fig.show()"
   ]
  },
  {
   "cell_type": "markdown",
   "metadata": {},
   "source": [
    "По этому граффику видно, что самое большое число людей, которые вступали в связь с банком, приходится на поколение X. На втором месте БейбиБумеры. В целом можно сказать, что большую часть выборки составляют люди 20и 30и 40а лет."
   ]
  },
  {
   "cell_type": "code",
   "execution_count": 101,
   "metadata": {},
   "outputs": [
    {
     "data": {
      "text/html": [
       "<div>\n",
       "<style scoped>\n",
       "    .dataframe tbody tr th:only-of-type {\n",
       "        vertical-align: middle;\n",
       "    }\n",
       "\n",
       "    .dataframe tbody tr th {\n",
       "        vertical-align: top;\n",
       "    }\n",
       "\n",
       "    .dataframe thead th {\n",
       "        text-align: right;\n",
       "    }\n",
       "</style>\n",
       "<table border=\"1\" class=\"dataframe\">\n",
       "  <thead>\n",
       "    <tr style=\"text-align: right;\">\n",
       "      <th>Generation</th>\n",
       "      <th>Millenial</th>\n",
       "      <th>GenX</th>\n",
       "      <th>BabyBoom</th>\n",
       "      <th>Silent</th>\n",
       "      <th>Total</th>\n",
       "    </tr>\n",
       "    <tr>\n",
       "      <th>y</th>\n",
       "      <th></th>\n",
       "      <th></th>\n",
       "      <th></th>\n",
       "      <th></th>\n",
       "      <th></th>\n",
       "    </tr>\n",
       "  </thead>\n",
       "  <tbody>\n",
       "    <tr>\n",
       "      <th>no</th>\n",
       "      <td>1893</td>\n",
       "      <td>22337</td>\n",
       "      <td>12017</td>\n",
       "      <td>280</td>\n",
       "      <td>36527</td>\n",
       "    </tr>\n",
       "    <tr>\n",
       "      <th>yes</th>\n",
       "      <td>471</td>\n",
       "      <td>2542</td>\n",
       "      <td>1366</td>\n",
       "      <td>239</td>\n",
       "      <td>4618</td>\n",
       "    </tr>\n",
       "    <tr>\n",
       "      <th>Total</th>\n",
       "      <td>2364</td>\n",
       "      <td>24879</td>\n",
       "      <td>13383</td>\n",
       "      <td>519</td>\n",
       "      <td>41145</td>\n",
       "    </tr>\n",
       "  </tbody>\n",
       "</table>\n",
       "</div>"
      ],
      "text/plain": [
       "Generation  Millenial   GenX  BabyBoom  Silent  Total\n",
       "y                                                    \n",
       "no               1893  22337     12017     280  36527\n",
       "yes               471   2542      1366     239   4618\n",
       "Total            2364  24879     13383     519  41145"
      ]
     },
     "execution_count": 101,
     "metadata": {},
     "output_type": "execute_result"
    }
   ],
   "source": [
    "ct_gg = pd.crosstab(df['y'], df['Generation'])\n",
    "ct_gg_m = pd.crosstab(df['y'], df['Generation'], margins=True, margins_name='Total')\n",
    "ct_gg_m"
   ]
  },
  {
   "cell_type": "markdown",
   "metadata": {},
   "source": [
    "Та же таблица, но в процентах"
   ]
  },
  {
   "cell_type": "code",
   "execution_count": 102,
   "metadata": {},
   "outputs": [
    {
     "data": {
      "text/html": [
       "<div>\n",
       "<style scoped>\n",
       "    .dataframe tbody tr th:only-of-type {\n",
       "        vertical-align: middle;\n",
       "    }\n",
       "\n",
       "    .dataframe tbody tr th {\n",
       "        vertical-align: top;\n",
       "    }\n",
       "\n",
       "    .dataframe thead th {\n",
       "        text-align: right;\n",
       "    }\n",
       "</style>\n",
       "<table border=\"1\" class=\"dataframe\">\n",
       "  <thead>\n",
       "    <tr style=\"text-align: right;\">\n",
       "      <th>Generation</th>\n",
       "      <th>Millenial</th>\n",
       "      <th>GenX</th>\n",
       "      <th>BabyBoom</th>\n",
       "      <th>Silent</th>\n",
       "    </tr>\n",
       "    <tr>\n",
       "      <th>y</th>\n",
       "      <th></th>\n",
       "      <th></th>\n",
       "      <th></th>\n",
       "      <th></th>\n",
       "    </tr>\n",
       "  </thead>\n",
       "  <tbody>\n",
       "    <tr>\n",
       "      <th>no</th>\n",
       "      <td>0.051825</td>\n",
       "      <td>0.611520</td>\n",
       "      <td>0.328990</td>\n",
       "      <td>0.007666</td>\n",
       "    </tr>\n",
       "    <tr>\n",
       "      <th>yes</th>\n",
       "      <td>0.101992</td>\n",
       "      <td>0.550455</td>\n",
       "      <td>0.295799</td>\n",
       "      <td>0.051754</td>\n",
       "    </tr>\n",
       "    <tr>\n",
       "      <th>Total</th>\n",
       "      <td>0.057455</td>\n",
       "      <td>0.604666</td>\n",
       "      <td>0.325264</td>\n",
       "      <td>0.012614</td>\n",
       "    </tr>\n",
       "  </tbody>\n",
       "</table>\n",
       "</div>"
      ],
      "text/plain": [
       "Generation  Millenial      GenX  BabyBoom    Silent\n",
       "y                                                  \n",
       "no           0.051825  0.611520  0.328990  0.007666\n",
       "yes          0.101992  0.550455  0.295799  0.051754\n",
       "Total        0.057455  0.604666  0.325264  0.012614"
      ]
     },
     "execution_count": 102,
     "metadata": {},
     "output_type": "execute_result"
    }
   ],
   "source": [
    "ct_gg_p = pd.crosstab(df['y'], df['Generation'] , normalize='index')\n",
    "ct_gg_pm = pd.crosstab(df['y'], df['Generation'], margins=True, margins_name='Total', normalize='index')\n",
    "ct_gg_pm"
   ]
  },
  {
   "cell_type": "markdown",
   "metadata": {},
   "source": [
    "**Вывод** \n",
    "\n",
    "Большинство вкладов было открыто людьми из поколения X (Поколение Х (икс) 1967 - 1984). То есть люди в возрасте от 26 до 42 лет. На втором месте БейбиБумеры (Поколение бэби-бумеров \t1944 – 1967) то есть, люди старшего возраста."
   ]
  },
  {
   "cell_type": "code",
   "execution_count": 104,
   "metadata": {},
   "outputs": [
    {
     "data": {
      "application/vnd.plotly.v1+json": {
       "config": {
        "plotlyServerURL": "https://plot.ly"
       },
       "data": [
        {
         "hovertemplate": "y=no<br>0=%{x}<br>Generation=%{y}<extra></extra>",
         "legendgroup": "no",
         "marker": {
          "color": "#636efa"
         },
         "name": "no",
         "orientation": "h",
         "showlegend": true,
         "type": "funnel",
         "x": [
          1893,
          22337,
          12017,
          280
         ],
         "xaxis": "x",
         "y": [
          "Millenial",
          "GenX",
          "BabyBoom",
          "Silent"
         ],
         "yaxis": "y"
        },
        {
         "hovertemplate": "y=yes<br>0=%{x}<br>Generation=%{y}<extra></extra>",
         "legendgroup": "yes",
         "marker": {
          "color": "#EF553B"
         },
         "name": "yes",
         "orientation": "h",
         "showlegend": true,
         "type": "funnel",
         "x": [
          471,
          2542,
          1366,
          239
         ],
         "xaxis": "x",
         "y": [
          "Millenial",
          "GenX",
          "BabyBoom",
          "Silent"
         ],
         "yaxis": "y"
        }
       ],
       "layout": {
        "legend": {
         "title": {
          "text": "y"
         },
         "tracegroupgap": 0
        },
        "template": {
         "data": {
          "bar": [
           {
            "error_x": {
             "color": "#2a3f5f"
            },
            "error_y": {
             "color": "#2a3f5f"
            },
            "marker": {
             "line": {
              "color": "#E5ECF6",
              "width": 0.5
             }
            },
            "type": "bar"
           }
          ],
          "barpolar": [
           {
            "marker": {
             "line": {
              "color": "#E5ECF6",
              "width": 0.5
             }
            },
            "type": "barpolar"
           }
          ],
          "carpet": [
           {
            "aaxis": {
             "endlinecolor": "#2a3f5f",
             "gridcolor": "white",
             "linecolor": "white",
             "minorgridcolor": "white",
             "startlinecolor": "#2a3f5f"
            },
            "baxis": {
             "endlinecolor": "#2a3f5f",
             "gridcolor": "white",
             "linecolor": "white",
             "minorgridcolor": "white",
             "startlinecolor": "#2a3f5f"
            },
            "type": "carpet"
           }
          ],
          "choropleth": [
           {
            "colorbar": {
             "outlinewidth": 0,
             "ticks": ""
            },
            "type": "choropleth"
           }
          ],
          "contour": [
           {
            "colorbar": {
             "outlinewidth": 0,
             "ticks": ""
            },
            "colorscale": [
             [
              0,
              "#0d0887"
             ],
             [
              0.1111111111111111,
              "#46039f"
             ],
             [
              0.2222222222222222,
              "#7201a8"
             ],
             [
              0.3333333333333333,
              "#9c179e"
             ],
             [
              0.4444444444444444,
              "#bd3786"
             ],
             [
              0.5555555555555556,
              "#d8576b"
             ],
             [
              0.6666666666666666,
              "#ed7953"
             ],
             [
              0.7777777777777778,
              "#fb9f3a"
             ],
             [
              0.8888888888888888,
              "#fdca26"
             ],
             [
              1,
              "#f0f921"
             ]
            ],
            "type": "contour"
           }
          ],
          "contourcarpet": [
           {
            "colorbar": {
             "outlinewidth": 0,
             "ticks": ""
            },
            "type": "contourcarpet"
           }
          ],
          "heatmap": [
           {
            "colorbar": {
             "outlinewidth": 0,
             "ticks": ""
            },
            "colorscale": [
             [
              0,
              "#0d0887"
             ],
             [
              0.1111111111111111,
              "#46039f"
             ],
             [
              0.2222222222222222,
              "#7201a8"
             ],
             [
              0.3333333333333333,
              "#9c179e"
             ],
             [
              0.4444444444444444,
              "#bd3786"
             ],
             [
              0.5555555555555556,
              "#d8576b"
             ],
             [
              0.6666666666666666,
              "#ed7953"
             ],
             [
              0.7777777777777778,
              "#fb9f3a"
             ],
             [
              0.8888888888888888,
              "#fdca26"
             ],
             [
              1,
              "#f0f921"
             ]
            ],
            "type": "heatmap"
           }
          ],
          "heatmapgl": [
           {
            "colorbar": {
             "outlinewidth": 0,
             "ticks": ""
            },
            "colorscale": [
             [
              0,
              "#0d0887"
             ],
             [
              0.1111111111111111,
              "#46039f"
             ],
             [
              0.2222222222222222,
              "#7201a8"
             ],
             [
              0.3333333333333333,
              "#9c179e"
             ],
             [
              0.4444444444444444,
              "#bd3786"
             ],
             [
              0.5555555555555556,
              "#d8576b"
             ],
             [
              0.6666666666666666,
              "#ed7953"
             ],
             [
              0.7777777777777778,
              "#fb9f3a"
             ],
             [
              0.8888888888888888,
              "#fdca26"
             ],
             [
              1,
              "#f0f921"
             ]
            ],
            "type": "heatmapgl"
           }
          ],
          "histogram": [
           {
            "marker": {
             "colorbar": {
              "outlinewidth": 0,
              "ticks": ""
             }
            },
            "type": "histogram"
           }
          ],
          "histogram2d": [
           {
            "colorbar": {
             "outlinewidth": 0,
             "ticks": ""
            },
            "colorscale": [
             [
              0,
              "#0d0887"
             ],
             [
              0.1111111111111111,
              "#46039f"
             ],
             [
              0.2222222222222222,
              "#7201a8"
             ],
             [
              0.3333333333333333,
              "#9c179e"
             ],
             [
              0.4444444444444444,
              "#bd3786"
             ],
             [
              0.5555555555555556,
              "#d8576b"
             ],
             [
              0.6666666666666666,
              "#ed7953"
             ],
             [
              0.7777777777777778,
              "#fb9f3a"
             ],
             [
              0.8888888888888888,
              "#fdca26"
             ],
             [
              1,
              "#f0f921"
             ]
            ],
            "type": "histogram2d"
           }
          ],
          "histogram2dcontour": [
           {
            "colorbar": {
             "outlinewidth": 0,
             "ticks": ""
            },
            "colorscale": [
             [
              0,
              "#0d0887"
             ],
             [
              0.1111111111111111,
              "#46039f"
             ],
             [
              0.2222222222222222,
              "#7201a8"
             ],
             [
              0.3333333333333333,
              "#9c179e"
             ],
             [
              0.4444444444444444,
              "#bd3786"
             ],
             [
              0.5555555555555556,
              "#d8576b"
             ],
             [
              0.6666666666666666,
              "#ed7953"
             ],
             [
              0.7777777777777778,
              "#fb9f3a"
             ],
             [
              0.8888888888888888,
              "#fdca26"
             ],
             [
              1,
              "#f0f921"
             ]
            ],
            "type": "histogram2dcontour"
           }
          ],
          "mesh3d": [
           {
            "colorbar": {
             "outlinewidth": 0,
             "ticks": ""
            },
            "type": "mesh3d"
           }
          ],
          "parcoords": [
           {
            "line": {
             "colorbar": {
              "outlinewidth": 0,
              "ticks": ""
             }
            },
            "type": "parcoords"
           }
          ],
          "pie": [
           {
            "automargin": true,
            "type": "pie"
           }
          ],
          "scatter": [
           {
            "marker": {
             "colorbar": {
              "outlinewidth": 0,
              "ticks": ""
             }
            },
            "type": "scatter"
           }
          ],
          "scatter3d": [
           {
            "line": {
             "colorbar": {
              "outlinewidth": 0,
              "ticks": ""
             }
            },
            "marker": {
             "colorbar": {
              "outlinewidth": 0,
              "ticks": ""
             }
            },
            "type": "scatter3d"
           }
          ],
          "scattercarpet": [
           {
            "marker": {
             "colorbar": {
              "outlinewidth": 0,
              "ticks": ""
             }
            },
            "type": "scattercarpet"
           }
          ],
          "scattergeo": [
           {
            "marker": {
             "colorbar": {
              "outlinewidth": 0,
              "ticks": ""
             }
            },
            "type": "scattergeo"
           }
          ],
          "scattergl": [
           {
            "marker": {
             "colorbar": {
              "outlinewidth": 0,
              "ticks": ""
             }
            },
            "type": "scattergl"
           }
          ],
          "scattermapbox": [
           {
            "marker": {
             "colorbar": {
              "outlinewidth": 0,
              "ticks": ""
             }
            },
            "type": "scattermapbox"
           }
          ],
          "scatterpolar": [
           {
            "marker": {
             "colorbar": {
              "outlinewidth": 0,
              "ticks": ""
             }
            },
            "type": "scatterpolar"
           }
          ],
          "scatterpolargl": [
           {
            "marker": {
             "colorbar": {
              "outlinewidth": 0,
              "ticks": ""
             }
            },
            "type": "scatterpolargl"
           }
          ],
          "scatterternary": [
           {
            "marker": {
             "colorbar": {
              "outlinewidth": 0,
              "ticks": ""
             }
            },
            "type": "scatterternary"
           }
          ],
          "surface": [
           {
            "colorbar": {
             "outlinewidth": 0,
             "ticks": ""
            },
            "colorscale": [
             [
              0,
              "#0d0887"
             ],
             [
              0.1111111111111111,
              "#46039f"
             ],
             [
              0.2222222222222222,
              "#7201a8"
             ],
             [
              0.3333333333333333,
              "#9c179e"
             ],
             [
              0.4444444444444444,
              "#bd3786"
             ],
             [
              0.5555555555555556,
              "#d8576b"
             ],
             [
              0.6666666666666666,
              "#ed7953"
             ],
             [
              0.7777777777777778,
              "#fb9f3a"
             ],
             [
              0.8888888888888888,
              "#fdca26"
             ],
             [
              1,
              "#f0f921"
             ]
            ],
            "type": "surface"
           }
          ],
          "table": [
           {
            "cells": {
             "fill": {
              "color": "#EBF0F8"
             },
             "line": {
              "color": "white"
             }
            },
            "header": {
             "fill": {
              "color": "#C8D4E3"
             },
             "line": {
              "color": "white"
             }
            },
            "type": "table"
           }
          ]
         },
         "layout": {
          "annotationdefaults": {
           "arrowcolor": "#2a3f5f",
           "arrowhead": 0,
           "arrowwidth": 1
          },
          "coloraxis": {
           "colorbar": {
            "outlinewidth": 0,
            "ticks": ""
           }
          },
          "colorscale": {
           "diverging": [
            [
             0,
             "#8e0152"
            ],
            [
             0.1,
             "#c51b7d"
            ],
            [
             0.2,
             "#de77ae"
            ],
            [
             0.3,
             "#f1b6da"
            ],
            [
             0.4,
             "#fde0ef"
            ],
            [
             0.5,
             "#f7f7f7"
            ],
            [
             0.6,
             "#e6f5d0"
            ],
            [
             0.7,
             "#b8e186"
            ],
            [
             0.8,
             "#7fbc41"
            ],
            [
             0.9,
             "#4d9221"
            ],
            [
             1,
             "#276419"
            ]
           ],
           "sequential": [
            [
             0,
             "#0d0887"
            ],
            [
             0.1111111111111111,
             "#46039f"
            ],
            [
             0.2222222222222222,
             "#7201a8"
            ],
            [
             0.3333333333333333,
             "#9c179e"
            ],
            [
             0.4444444444444444,
             "#bd3786"
            ],
            [
             0.5555555555555556,
             "#d8576b"
            ],
            [
             0.6666666666666666,
             "#ed7953"
            ],
            [
             0.7777777777777778,
             "#fb9f3a"
            ],
            [
             0.8888888888888888,
             "#fdca26"
            ],
            [
             1,
             "#f0f921"
            ]
           ],
           "sequentialminus": [
            [
             0,
             "#0d0887"
            ],
            [
             0.1111111111111111,
             "#46039f"
            ],
            [
             0.2222222222222222,
             "#7201a8"
            ],
            [
             0.3333333333333333,
             "#9c179e"
            ],
            [
             0.4444444444444444,
             "#bd3786"
            ],
            [
             0.5555555555555556,
             "#d8576b"
            ],
            [
             0.6666666666666666,
             "#ed7953"
            ],
            [
             0.7777777777777778,
             "#fb9f3a"
            ],
            [
             0.8888888888888888,
             "#fdca26"
            ],
            [
             1,
             "#f0f921"
            ]
           ]
          },
          "colorway": [
           "#636efa",
           "#EF553B",
           "#00cc96",
           "#ab63fa",
           "#FFA15A",
           "#19d3f3",
           "#FF6692",
           "#B6E880",
           "#FF97FF",
           "#FECB52"
          ],
          "font": {
           "color": "#2a3f5f"
          },
          "geo": {
           "bgcolor": "white",
           "lakecolor": "white",
           "landcolor": "#E5ECF6",
           "showlakes": true,
           "showland": true,
           "subunitcolor": "white"
          },
          "hoverlabel": {
           "align": "left"
          },
          "hovermode": "closest",
          "mapbox": {
           "style": "light"
          },
          "paper_bgcolor": "white",
          "plot_bgcolor": "#E5ECF6",
          "polar": {
           "angularaxis": {
            "gridcolor": "white",
            "linecolor": "white",
            "ticks": ""
           },
           "bgcolor": "#E5ECF6",
           "radialaxis": {
            "gridcolor": "white",
            "linecolor": "white",
            "ticks": ""
           }
          },
          "scene": {
           "xaxis": {
            "backgroundcolor": "#E5ECF6",
            "gridcolor": "white",
            "gridwidth": 2,
            "linecolor": "white",
            "showbackground": true,
            "ticks": "",
            "zerolinecolor": "white"
           },
           "yaxis": {
            "backgroundcolor": "#E5ECF6",
            "gridcolor": "white",
            "gridwidth": 2,
            "linecolor": "white",
            "showbackground": true,
            "ticks": "",
            "zerolinecolor": "white"
           },
           "zaxis": {
            "backgroundcolor": "#E5ECF6",
            "gridcolor": "white",
            "gridwidth": 2,
            "linecolor": "white",
            "showbackground": true,
            "ticks": "",
            "zerolinecolor": "white"
           }
          },
          "shapedefaults": {
           "line": {
            "color": "#2a3f5f"
           }
          },
          "ternary": {
           "aaxis": {
            "gridcolor": "white",
            "linecolor": "white",
            "ticks": ""
           },
           "baxis": {
            "gridcolor": "white",
            "linecolor": "white",
            "ticks": ""
           },
           "bgcolor": "#E5ECF6",
           "caxis": {
            "gridcolor": "white",
            "linecolor": "white",
            "ticks": ""
           }
          },
          "title": {
           "x": 0.05
          },
          "xaxis": {
           "automargin": true,
           "gridcolor": "white",
           "linecolor": "white",
           "ticks": "",
           "title": {
            "standoff": 15
           },
           "zerolinecolor": "white",
           "zerolinewidth": 2
          },
          "yaxis": {
           "automargin": true,
           "gridcolor": "white",
           "linecolor": "white",
           "ticks": "",
           "title": {
            "standoff": 15
           },
           "zerolinecolor": "white",
           "zerolinewidth": 2
          }
         }
        },
        "title": {
         "text": "Распределение тех кто открыл депозит и тех кто не открывал по поколениям в абс. значениях"
        },
        "xaxis": {
         "anchor": "y",
         "domain": [
          0,
          1
         ],
         "title": {
          "text": "0"
         }
        },
        "yaxis": {
         "anchor": "x",
         "domain": [
          0,
          1
         ],
         "title": {
          "text": "Generation"
         }
        }
       }
      },
      "text/html": [
       "<div>\n",
       "        \n",
       "        \n",
       "            <div id=\"af13cdbd-4654-4017-b19e-b709499adaab\" class=\"plotly-graph-div\" style=\"height:525px; width:100%;\"></div>\n",
       "            <script type=\"text/javascript\">\n",
       "                require([\"plotly\"], function(Plotly) {\n",
       "                    window.PLOTLYENV=window.PLOTLYENV || {};\n",
       "                    \n",
       "                if (document.getElementById(\"af13cdbd-4654-4017-b19e-b709499adaab\")) {\n",
       "                    Plotly.newPlot(\n",
       "                        'af13cdbd-4654-4017-b19e-b709499adaab',\n",
       "                        [{\"hovertemplate\": \"y=no<br>0=%{x}<br>Generation=%{y}<extra></extra>\", \"legendgroup\": \"no\", \"marker\": {\"color\": \"#636efa\"}, \"name\": \"no\", \"orientation\": \"h\", \"showlegend\": true, \"type\": \"funnel\", \"x\": [1893, 22337, 12017, 280], \"xaxis\": \"x\", \"y\": [\"Millenial\", \"GenX\", \"BabyBoom\", \"Silent\"], \"yaxis\": \"y\"}, {\"hovertemplate\": \"y=yes<br>0=%{x}<br>Generation=%{y}<extra></extra>\", \"legendgroup\": \"yes\", \"marker\": {\"color\": \"#EF553B\"}, \"name\": \"yes\", \"orientation\": \"h\", \"showlegend\": true, \"type\": \"funnel\", \"x\": [471, 2542, 1366, 239], \"xaxis\": \"x\", \"y\": [\"Millenial\", \"GenX\", \"BabyBoom\", \"Silent\"], \"yaxis\": \"y\"}],\n",
       "                        {\"legend\": {\"title\": {\"text\": \"y\"}, \"tracegroupgap\": 0}, \"template\": {\"data\": {\"bar\": [{\"error_x\": {\"color\": \"#2a3f5f\"}, \"error_y\": {\"color\": \"#2a3f5f\"}, \"marker\": {\"line\": {\"color\": \"#E5ECF6\", \"width\": 0.5}}, \"type\": \"bar\"}], \"barpolar\": [{\"marker\": {\"line\": {\"color\": \"#E5ECF6\", \"width\": 0.5}}, \"type\": \"barpolar\"}], \"carpet\": [{\"aaxis\": {\"endlinecolor\": \"#2a3f5f\", \"gridcolor\": \"white\", \"linecolor\": \"white\", \"minorgridcolor\": \"white\", \"startlinecolor\": \"#2a3f5f\"}, \"baxis\": {\"endlinecolor\": \"#2a3f5f\", \"gridcolor\": \"white\", \"linecolor\": \"white\", \"minorgridcolor\": \"white\", \"startlinecolor\": \"#2a3f5f\"}, \"type\": \"carpet\"}], \"choropleth\": [{\"colorbar\": {\"outlinewidth\": 0, \"ticks\": \"\"}, \"type\": \"choropleth\"}], \"contour\": [{\"colorbar\": {\"outlinewidth\": 0, \"ticks\": \"\"}, \"colorscale\": [[0.0, \"#0d0887\"], [0.1111111111111111, \"#46039f\"], [0.2222222222222222, \"#7201a8\"], [0.3333333333333333, \"#9c179e\"], [0.4444444444444444, \"#bd3786\"], [0.5555555555555556, \"#d8576b\"], [0.6666666666666666, \"#ed7953\"], [0.7777777777777778, \"#fb9f3a\"], [0.8888888888888888, \"#fdca26\"], [1.0, \"#f0f921\"]], \"type\": \"contour\"}], \"contourcarpet\": [{\"colorbar\": {\"outlinewidth\": 0, \"ticks\": \"\"}, \"type\": \"contourcarpet\"}], \"heatmap\": [{\"colorbar\": {\"outlinewidth\": 0, \"ticks\": \"\"}, \"colorscale\": [[0.0, \"#0d0887\"], [0.1111111111111111, \"#46039f\"], [0.2222222222222222, \"#7201a8\"], [0.3333333333333333, \"#9c179e\"], [0.4444444444444444, \"#bd3786\"], [0.5555555555555556, \"#d8576b\"], [0.6666666666666666, \"#ed7953\"], [0.7777777777777778, \"#fb9f3a\"], [0.8888888888888888, \"#fdca26\"], [1.0, \"#f0f921\"]], \"type\": \"heatmap\"}], \"heatmapgl\": [{\"colorbar\": {\"outlinewidth\": 0, \"ticks\": \"\"}, \"colorscale\": [[0.0, \"#0d0887\"], [0.1111111111111111, \"#46039f\"], [0.2222222222222222, \"#7201a8\"], [0.3333333333333333, \"#9c179e\"], [0.4444444444444444, \"#bd3786\"], [0.5555555555555556, \"#d8576b\"], [0.6666666666666666, \"#ed7953\"], [0.7777777777777778, \"#fb9f3a\"], [0.8888888888888888, \"#fdca26\"], [1.0, \"#f0f921\"]], \"type\": \"heatmapgl\"}], \"histogram\": [{\"marker\": {\"colorbar\": {\"outlinewidth\": 0, \"ticks\": \"\"}}, \"type\": \"histogram\"}], \"histogram2d\": [{\"colorbar\": {\"outlinewidth\": 0, \"ticks\": \"\"}, \"colorscale\": [[0.0, \"#0d0887\"], [0.1111111111111111, \"#46039f\"], [0.2222222222222222, \"#7201a8\"], [0.3333333333333333, \"#9c179e\"], [0.4444444444444444, \"#bd3786\"], [0.5555555555555556, \"#d8576b\"], [0.6666666666666666, \"#ed7953\"], [0.7777777777777778, \"#fb9f3a\"], [0.8888888888888888, \"#fdca26\"], [1.0, \"#f0f921\"]], \"type\": \"histogram2d\"}], \"histogram2dcontour\": [{\"colorbar\": {\"outlinewidth\": 0, \"ticks\": \"\"}, \"colorscale\": [[0.0, \"#0d0887\"], [0.1111111111111111, \"#46039f\"], [0.2222222222222222, \"#7201a8\"], [0.3333333333333333, \"#9c179e\"], [0.4444444444444444, \"#bd3786\"], [0.5555555555555556, \"#d8576b\"], [0.6666666666666666, \"#ed7953\"], [0.7777777777777778, \"#fb9f3a\"], [0.8888888888888888, \"#fdca26\"], [1.0, \"#f0f921\"]], \"type\": \"histogram2dcontour\"}], \"mesh3d\": [{\"colorbar\": {\"outlinewidth\": 0, \"ticks\": \"\"}, \"type\": \"mesh3d\"}], \"parcoords\": [{\"line\": {\"colorbar\": {\"outlinewidth\": 0, \"ticks\": \"\"}}, \"type\": \"parcoords\"}], \"pie\": [{\"automargin\": true, \"type\": \"pie\"}], \"scatter\": [{\"marker\": {\"colorbar\": {\"outlinewidth\": 0, \"ticks\": \"\"}}, \"type\": \"scatter\"}], \"scatter3d\": [{\"line\": {\"colorbar\": {\"outlinewidth\": 0, \"ticks\": \"\"}}, \"marker\": {\"colorbar\": {\"outlinewidth\": 0, \"ticks\": \"\"}}, \"type\": \"scatter3d\"}], \"scattercarpet\": [{\"marker\": {\"colorbar\": {\"outlinewidth\": 0, \"ticks\": \"\"}}, \"type\": \"scattercarpet\"}], \"scattergeo\": [{\"marker\": {\"colorbar\": {\"outlinewidth\": 0, \"ticks\": \"\"}}, \"type\": \"scattergeo\"}], \"scattergl\": [{\"marker\": {\"colorbar\": {\"outlinewidth\": 0, \"ticks\": \"\"}}, \"type\": \"scattergl\"}], \"scattermapbox\": [{\"marker\": {\"colorbar\": {\"outlinewidth\": 0, \"ticks\": \"\"}}, \"type\": \"scattermapbox\"}], \"scatterpolar\": [{\"marker\": {\"colorbar\": {\"outlinewidth\": 0, \"ticks\": \"\"}}, \"type\": \"scatterpolar\"}], \"scatterpolargl\": [{\"marker\": {\"colorbar\": {\"outlinewidth\": 0, \"ticks\": \"\"}}, \"type\": \"scatterpolargl\"}], \"scatterternary\": [{\"marker\": {\"colorbar\": {\"outlinewidth\": 0, \"ticks\": \"\"}}, \"type\": \"scatterternary\"}], \"surface\": [{\"colorbar\": {\"outlinewidth\": 0, \"ticks\": \"\"}, \"colorscale\": [[0.0, \"#0d0887\"], [0.1111111111111111, \"#46039f\"], [0.2222222222222222, \"#7201a8\"], [0.3333333333333333, \"#9c179e\"], [0.4444444444444444, \"#bd3786\"], [0.5555555555555556, \"#d8576b\"], [0.6666666666666666, \"#ed7953\"], [0.7777777777777778, \"#fb9f3a\"], [0.8888888888888888, \"#fdca26\"], [1.0, \"#f0f921\"]], \"type\": \"surface\"}], \"table\": [{\"cells\": {\"fill\": {\"color\": \"#EBF0F8\"}, \"line\": {\"color\": \"white\"}}, \"header\": {\"fill\": {\"color\": \"#C8D4E3\"}, \"line\": {\"color\": \"white\"}}, \"type\": \"table\"}]}, \"layout\": {\"annotationdefaults\": {\"arrowcolor\": \"#2a3f5f\", \"arrowhead\": 0, \"arrowwidth\": 1}, \"coloraxis\": {\"colorbar\": {\"outlinewidth\": 0, \"ticks\": \"\"}}, \"colorscale\": {\"diverging\": [[0, \"#8e0152\"], [0.1, \"#c51b7d\"], [0.2, \"#de77ae\"], [0.3, \"#f1b6da\"], [0.4, \"#fde0ef\"], [0.5, \"#f7f7f7\"], [0.6, \"#e6f5d0\"], [0.7, \"#b8e186\"], [0.8, \"#7fbc41\"], [0.9, \"#4d9221\"], [1, \"#276419\"]], \"sequential\": [[0.0, \"#0d0887\"], [0.1111111111111111, \"#46039f\"], [0.2222222222222222, \"#7201a8\"], [0.3333333333333333, \"#9c179e\"], [0.4444444444444444, \"#bd3786\"], [0.5555555555555556, \"#d8576b\"], [0.6666666666666666, \"#ed7953\"], [0.7777777777777778, \"#fb9f3a\"], [0.8888888888888888, \"#fdca26\"], [1.0, \"#f0f921\"]], \"sequentialminus\": [[0.0, \"#0d0887\"], [0.1111111111111111, \"#46039f\"], [0.2222222222222222, \"#7201a8\"], [0.3333333333333333, \"#9c179e\"], [0.4444444444444444, \"#bd3786\"], [0.5555555555555556, \"#d8576b\"], [0.6666666666666666, \"#ed7953\"], [0.7777777777777778, \"#fb9f3a\"], [0.8888888888888888, \"#fdca26\"], [1.0, \"#f0f921\"]]}, \"colorway\": [\"#636efa\", \"#EF553B\", \"#00cc96\", \"#ab63fa\", \"#FFA15A\", \"#19d3f3\", \"#FF6692\", \"#B6E880\", \"#FF97FF\", \"#FECB52\"], \"font\": {\"color\": \"#2a3f5f\"}, \"geo\": {\"bgcolor\": \"white\", \"lakecolor\": \"white\", \"landcolor\": \"#E5ECF6\", \"showlakes\": true, \"showland\": true, \"subunitcolor\": \"white\"}, \"hoverlabel\": {\"align\": \"left\"}, \"hovermode\": \"closest\", \"mapbox\": {\"style\": \"light\"}, \"paper_bgcolor\": \"white\", \"plot_bgcolor\": \"#E5ECF6\", \"polar\": {\"angularaxis\": {\"gridcolor\": \"white\", \"linecolor\": \"white\", \"ticks\": \"\"}, \"bgcolor\": \"#E5ECF6\", \"radialaxis\": {\"gridcolor\": \"white\", \"linecolor\": \"white\", \"ticks\": \"\"}}, \"scene\": {\"xaxis\": {\"backgroundcolor\": \"#E5ECF6\", \"gridcolor\": \"white\", \"gridwidth\": 2, \"linecolor\": \"white\", \"showbackground\": true, \"ticks\": \"\", \"zerolinecolor\": \"white\"}, \"yaxis\": {\"backgroundcolor\": \"#E5ECF6\", \"gridcolor\": \"white\", \"gridwidth\": 2, \"linecolor\": \"white\", \"showbackground\": true, \"ticks\": \"\", \"zerolinecolor\": \"white\"}, \"zaxis\": {\"backgroundcolor\": \"#E5ECF6\", \"gridcolor\": \"white\", \"gridwidth\": 2, \"linecolor\": \"white\", \"showbackground\": true, \"ticks\": \"\", \"zerolinecolor\": \"white\"}}, \"shapedefaults\": {\"line\": {\"color\": \"#2a3f5f\"}}, \"ternary\": {\"aaxis\": {\"gridcolor\": \"white\", \"linecolor\": \"white\", \"ticks\": \"\"}, \"baxis\": {\"gridcolor\": \"white\", \"linecolor\": \"white\", \"ticks\": \"\"}, \"bgcolor\": \"#E5ECF6\", \"caxis\": {\"gridcolor\": \"white\", \"linecolor\": \"white\", \"ticks\": \"\"}}, \"title\": {\"x\": 0.05}, \"xaxis\": {\"automargin\": true, \"gridcolor\": \"white\", \"linecolor\": \"white\", \"ticks\": \"\", \"title\": {\"standoff\": 15}, \"zerolinecolor\": \"white\", \"zerolinewidth\": 2}, \"yaxis\": {\"automargin\": true, \"gridcolor\": \"white\", \"linecolor\": \"white\", \"ticks\": \"\", \"title\": {\"standoff\": 15}, \"zerolinecolor\": \"white\", \"zerolinewidth\": 2}}}, \"title\": {\"text\": \"\\u0420\\u0430\\u0441\\u043f\\u0440\\u0435\\u0434\\u0435\\u043b\\u0435\\u043d\\u0438\\u0435 \\u0442\\u0435\\u0445 \\u043a\\u0442\\u043e \\u043e\\u0442\\u043a\\u0440\\u044b\\u043b \\u0434\\u0435\\u043f\\u043e\\u0437\\u0438\\u0442 \\u0438 \\u0442\\u0435\\u0445 \\u043a\\u0442\\u043e \\u043d\\u0435 \\u043e\\u0442\\u043a\\u0440\\u044b\\u0432\\u0430\\u043b \\u043f\\u043e \\u043f\\u043e\\u043a\\u043e\\u043b\\u0435\\u043d\\u0438\\u044f\\u043c \\u0432 \\u0430\\u0431\\u0441. \\u0437\\u043d\\u0430\\u0447\\u0435\\u043d\\u0438\\u044f\\u0445\"}, \"xaxis\": {\"anchor\": \"y\", \"domain\": [0.0, 1.0], \"title\": {\"text\": \"0\"}}, \"yaxis\": {\"anchor\": \"x\", \"domain\": [0.0, 1.0], \"title\": {\"text\": \"Generation\"}}},\n",
       "                        {\"responsive\": true}\n",
       "                    ).then(function(){\n",
       "                            \n",
       "var gd = document.getElementById('af13cdbd-4654-4017-b19e-b709499adaab');\n",
       "var x = new MutationObserver(function (mutations, observer) {{\n",
       "        var display = window.getComputedStyle(gd).display;\n",
       "        if (!display || display === 'none') {{\n",
       "            console.log([gd, 'removed!']);\n",
       "            Plotly.purge(gd);\n",
       "            observer.disconnect();\n",
       "        }}\n",
       "}});\n",
       "\n",
       "// Listen for the removal of the full notebook cells\n",
       "var notebookContainer = gd.closest('#notebook-container');\n",
       "if (notebookContainer) {{\n",
       "    x.observe(notebookContainer, {childList: true});\n",
       "}}\n",
       "\n",
       "// Listen for the clearing of the current output cell\n",
       "var outputEl = gd.closest('.output');\n",
       "if (outputEl) {{\n",
       "    x.observe(outputEl, {childList: true});\n",
       "}}\n",
       "\n",
       "                        })\n",
       "                };\n",
       "                });\n",
       "            </script>\n",
       "        </div>"
      ]
     },
     "metadata": {},
     "output_type": "display_data"
    }
   ],
   "source": [
    "fig = px.funnel(ct_gg.stack().reset_index(), x=0, y='Generation', color='y', title = \"Распределение тех кто открыл депозит и тех кто не открывал по поколениям в абс. значениях\")\n",
    "fig.show()"
   ]
  },
  {
   "cell_type": "markdown",
   "metadata": {},
   "source": [
    "Кросс таблица по группам поколений и тех кто открывал\\неоткрывал депозит в банке"
   ]
  },
  {
   "cell_type": "code",
   "execution_count": 135,
   "metadata": {},
   "outputs": [
    {
     "data": {
      "text/html": [
       "<div>\n",
       "<style scoped>\n",
       "    .dataframe tbody tr th:only-of-type {\n",
       "        vertical-align: middle;\n",
       "    }\n",
       "\n",
       "    .dataframe tbody tr th {\n",
       "        vertical-align: top;\n",
       "    }\n",
       "\n",
       "    .dataframe thead th {\n",
       "        text-align: right;\n",
       "    }\n",
       "</style>\n",
       "<table border=\"1\" class=\"dataframe\">\n",
       "  <thead>\n",
       "    <tr style=\"text-align: right;\">\n",
       "      <th>Generation</th>\n",
       "      <th>Millenial</th>\n",
       "      <th>GenX</th>\n",
       "      <th>BabyBoom</th>\n",
       "      <th>Silent</th>\n",
       "    </tr>\n",
       "    <tr>\n",
       "      <th>y</th>\n",
       "      <th></th>\n",
       "      <th></th>\n",
       "      <th></th>\n",
       "      <th></th>\n",
       "    </tr>\n",
       "  </thead>\n",
       "  <tbody>\n",
       "    <tr>\n",
       "      <th>no</th>\n",
       "      <td>0.800761</td>\n",
       "      <td>0.897825</td>\n",
       "      <td>0.89793</td>\n",
       "      <td>0.539499</td>\n",
       "    </tr>\n",
       "    <tr>\n",
       "      <th>yes</th>\n",
       "      <td>0.199239</td>\n",
       "      <td>0.102175</td>\n",
       "      <td>0.10207</td>\n",
       "      <td>0.460501</td>\n",
       "    </tr>\n",
       "  </tbody>\n",
       "</table>\n",
       "</div>"
      ],
      "text/plain": [
       "Generation  Millenial  GenX       BabyBoom   Silent   \n",
       "y                                                     \n",
       "no           0.800761   0.897825    0.89793   0.539499\n",
       "yes          0.199239   0.102175    0.10207   0.460501"
      ]
     },
     "execution_count": 135,
     "metadata": {},
     "output_type": "execute_result"
    }
   ],
   "source": [
    "ct_gg_g = pd.crosstab(df['y'], df['Generation'] , normalize='columns')\n",
    "ct_gg_g"
   ]
  },
  {
   "cell_type": "markdown",
   "metadata": {},
   "source": [
    "Построим граффик абсолютных значений, тех кто открыл в банке вклад, или был в контакте с банком и не открыл вкад, в разрезе поколений. "
   ]
  },
  {
   "cell_type": "markdown",
   "metadata": {},
   "source": [
    "Построим граффик процентных значений, тех кто открыл в банке вклад, или был в контакте с банком и не открыл вкад, в разрезе поколений.\n"
   ]
  },
  {
   "cell_type": "code",
   "execution_count": 142,
   "metadata": {},
   "outputs": [
    {
     "data": {
      "application/vnd.plotly.v1+json": {
       "config": {
        "plotlyServerURL": "https://plot.ly"
       },
       "data": [
        {
         "hovertemplate": "y=no<br>0=%{x}<br>Generation=%{y}<extra></extra>",
         "legendgroup": "no",
         "marker": {
          "color": "#636efa"
         },
         "name": "no",
         "orientation": "h",
         "showlegend": true,
         "type": "funnel",
         "x": [
          0.800761421319797,
          0.8978254753004542,
          0.8979302099678697,
          0.5394990366088632
         ],
         "xaxis": "x",
         "y": [
          "Millenial",
          "GenX",
          "BabyBoom",
          "Silent"
         ],
         "yaxis": "y"
        },
        {
         "hovertemplate": "y=yes<br>0=%{x}<br>Generation=%{y}<extra></extra>",
         "legendgroup": "yes",
         "marker": {
          "color": "#EF553B"
         },
         "name": "yes",
         "orientation": "h",
         "showlegend": true,
         "type": "funnel",
         "x": [
          0.19923857868020303,
          0.1021745246995458,
          0.10206979003213032,
          0.4605009633911368
         ],
         "xaxis": "x",
         "y": [
          "Millenial",
          "GenX",
          "BabyBoom",
          "Silent"
         ],
         "yaxis": "y"
        }
       ],
       "layout": {
        "legend": {
         "title": {
          "text": "y"
         },
         "tracegroupgap": 0
        },
        "template": {
         "data": {
          "bar": [
           {
            "error_x": {
             "color": "#2a3f5f"
            },
            "error_y": {
             "color": "#2a3f5f"
            },
            "marker": {
             "line": {
              "color": "#E5ECF6",
              "width": 0.5
             }
            },
            "type": "bar"
           }
          ],
          "barpolar": [
           {
            "marker": {
             "line": {
              "color": "#E5ECF6",
              "width": 0.5
             }
            },
            "type": "barpolar"
           }
          ],
          "carpet": [
           {
            "aaxis": {
             "endlinecolor": "#2a3f5f",
             "gridcolor": "white",
             "linecolor": "white",
             "minorgridcolor": "white",
             "startlinecolor": "#2a3f5f"
            },
            "baxis": {
             "endlinecolor": "#2a3f5f",
             "gridcolor": "white",
             "linecolor": "white",
             "minorgridcolor": "white",
             "startlinecolor": "#2a3f5f"
            },
            "type": "carpet"
           }
          ],
          "choropleth": [
           {
            "colorbar": {
             "outlinewidth": 0,
             "ticks": ""
            },
            "type": "choropleth"
           }
          ],
          "contour": [
           {
            "colorbar": {
             "outlinewidth": 0,
             "ticks": ""
            },
            "colorscale": [
             [
              0,
              "#0d0887"
             ],
             [
              0.1111111111111111,
              "#46039f"
             ],
             [
              0.2222222222222222,
              "#7201a8"
             ],
             [
              0.3333333333333333,
              "#9c179e"
             ],
             [
              0.4444444444444444,
              "#bd3786"
             ],
             [
              0.5555555555555556,
              "#d8576b"
             ],
             [
              0.6666666666666666,
              "#ed7953"
             ],
             [
              0.7777777777777778,
              "#fb9f3a"
             ],
             [
              0.8888888888888888,
              "#fdca26"
             ],
             [
              1,
              "#f0f921"
             ]
            ],
            "type": "contour"
           }
          ],
          "contourcarpet": [
           {
            "colorbar": {
             "outlinewidth": 0,
             "ticks": ""
            },
            "type": "contourcarpet"
           }
          ],
          "heatmap": [
           {
            "colorbar": {
             "outlinewidth": 0,
             "ticks": ""
            },
            "colorscale": [
             [
              0,
              "#0d0887"
             ],
             [
              0.1111111111111111,
              "#46039f"
             ],
             [
              0.2222222222222222,
              "#7201a8"
             ],
             [
              0.3333333333333333,
              "#9c179e"
             ],
             [
              0.4444444444444444,
              "#bd3786"
             ],
             [
              0.5555555555555556,
              "#d8576b"
             ],
             [
              0.6666666666666666,
              "#ed7953"
             ],
             [
              0.7777777777777778,
              "#fb9f3a"
             ],
             [
              0.8888888888888888,
              "#fdca26"
             ],
             [
              1,
              "#f0f921"
             ]
            ],
            "type": "heatmap"
           }
          ],
          "heatmapgl": [
           {
            "colorbar": {
             "outlinewidth": 0,
             "ticks": ""
            },
            "colorscale": [
             [
              0,
              "#0d0887"
             ],
             [
              0.1111111111111111,
              "#46039f"
             ],
             [
              0.2222222222222222,
              "#7201a8"
             ],
             [
              0.3333333333333333,
              "#9c179e"
             ],
             [
              0.4444444444444444,
              "#bd3786"
             ],
             [
              0.5555555555555556,
              "#d8576b"
             ],
             [
              0.6666666666666666,
              "#ed7953"
             ],
             [
              0.7777777777777778,
              "#fb9f3a"
             ],
             [
              0.8888888888888888,
              "#fdca26"
             ],
             [
              1,
              "#f0f921"
             ]
            ],
            "type": "heatmapgl"
           }
          ],
          "histogram": [
           {
            "marker": {
             "colorbar": {
              "outlinewidth": 0,
              "ticks": ""
             }
            },
            "type": "histogram"
           }
          ],
          "histogram2d": [
           {
            "colorbar": {
             "outlinewidth": 0,
             "ticks": ""
            },
            "colorscale": [
             [
              0,
              "#0d0887"
             ],
             [
              0.1111111111111111,
              "#46039f"
             ],
             [
              0.2222222222222222,
              "#7201a8"
             ],
             [
              0.3333333333333333,
              "#9c179e"
             ],
             [
              0.4444444444444444,
              "#bd3786"
             ],
             [
              0.5555555555555556,
              "#d8576b"
             ],
             [
              0.6666666666666666,
              "#ed7953"
             ],
             [
              0.7777777777777778,
              "#fb9f3a"
             ],
             [
              0.8888888888888888,
              "#fdca26"
             ],
             [
              1,
              "#f0f921"
             ]
            ],
            "type": "histogram2d"
           }
          ],
          "histogram2dcontour": [
           {
            "colorbar": {
             "outlinewidth": 0,
             "ticks": ""
            },
            "colorscale": [
             [
              0,
              "#0d0887"
             ],
             [
              0.1111111111111111,
              "#46039f"
             ],
             [
              0.2222222222222222,
              "#7201a8"
             ],
             [
              0.3333333333333333,
              "#9c179e"
             ],
             [
              0.4444444444444444,
              "#bd3786"
             ],
             [
              0.5555555555555556,
              "#d8576b"
             ],
             [
              0.6666666666666666,
              "#ed7953"
             ],
             [
              0.7777777777777778,
              "#fb9f3a"
             ],
             [
              0.8888888888888888,
              "#fdca26"
             ],
             [
              1,
              "#f0f921"
             ]
            ],
            "type": "histogram2dcontour"
           }
          ],
          "mesh3d": [
           {
            "colorbar": {
             "outlinewidth": 0,
             "ticks": ""
            },
            "type": "mesh3d"
           }
          ],
          "parcoords": [
           {
            "line": {
             "colorbar": {
              "outlinewidth": 0,
              "ticks": ""
             }
            },
            "type": "parcoords"
           }
          ],
          "pie": [
           {
            "automargin": true,
            "type": "pie"
           }
          ],
          "scatter": [
           {
            "marker": {
             "colorbar": {
              "outlinewidth": 0,
              "ticks": ""
             }
            },
            "type": "scatter"
           }
          ],
          "scatter3d": [
           {
            "line": {
             "colorbar": {
              "outlinewidth": 0,
              "ticks": ""
             }
            },
            "marker": {
             "colorbar": {
              "outlinewidth": 0,
              "ticks": ""
             }
            },
            "type": "scatter3d"
           }
          ],
          "scattercarpet": [
           {
            "marker": {
             "colorbar": {
              "outlinewidth": 0,
              "ticks": ""
             }
            },
            "type": "scattercarpet"
           }
          ],
          "scattergeo": [
           {
            "marker": {
             "colorbar": {
              "outlinewidth": 0,
              "ticks": ""
             }
            },
            "type": "scattergeo"
           }
          ],
          "scattergl": [
           {
            "marker": {
             "colorbar": {
              "outlinewidth": 0,
              "ticks": ""
             }
            },
            "type": "scattergl"
           }
          ],
          "scattermapbox": [
           {
            "marker": {
             "colorbar": {
              "outlinewidth": 0,
              "ticks": ""
             }
            },
            "type": "scattermapbox"
           }
          ],
          "scatterpolar": [
           {
            "marker": {
             "colorbar": {
              "outlinewidth": 0,
              "ticks": ""
             }
            },
            "type": "scatterpolar"
           }
          ],
          "scatterpolargl": [
           {
            "marker": {
             "colorbar": {
              "outlinewidth": 0,
              "ticks": ""
             }
            },
            "type": "scatterpolargl"
           }
          ],
          "scatterternary": [
           {
            "marker": {
             "colorbar": {
              "outlinewidth": 0,
              "ticks": ""
             }
            },
            "type": "scatterternary"
           }
          ],
          "surface": [
           {
            "colorbar": {
             "outlinewidth": 0,
             "ticks": ""
            },
            "colorscale": [
             [
              0,
              "#0d0887"
             ],
             [
              0.1111111111111111,
              "#46039f"
             ],
             [
              0.2222222222222222,
              "#7201a8"
             ],
             [
              0.3333333333333333,
              "#9c179e"
             ],
             [
              0.4444444444444444,
              "#bd3786"
             ],
             [
              0.5555555555555556,
              "#d8576b"
             ],
             [
              0.6666666666666666,
              "#ed7953"
             ],
             [
              0.7777777777777778,
              "#fb9f3a"
             ],
             [
              0.8888888888888888,
              "#fdca26"
             ],
             [
              1,
              "#f0f921"
             ]
            ],
            "type": "surface"
           }
          ],
          "table": [
           {
            "cells": {
             "fill": {
              "color": "#EBF0F8"
             },
             "line": {
              "color": "white"
             }
            },
            "header": {
             "fill": {
              "color": "#C8D4E3"
             },
             "line": {
              "color": "white"
             }
            },
            "type": "table"
           }
          ]
         },
         "layout": {
          "annotationdefaults": {
           "arrowcolor": "#2a3f5f",
           "arrowhead": 0,
           "arrowwidth": 1
          },
          "coloraxis": {
           "colorbar": {
            "outlinewidth": 0,
            "ticks": ""
           }
          },
          "colorscale": {
           "diverging": [
            [
             0,
             "#8e0152"
            ],
            [
             0.1,
             "#c51b7d"
            ],
            [
             0.2,
             "#de77ae"
            ],
            [
             0.3,
             "#f1b6da"
            ],
            [
             0.4,
             "#fde0ef"
            ],
            [
             0.5,
             "#f7f7f7"
            ],
            [
             0.6,
             "#e6f5d0"
            ],
            [
             0.7,
             "#b8e186"
            ],
            [
             0.8,
             "#7fbc41"
            ],
            [
             0.9,
             "#4d9221"
            ],
            [
             1,
             "#276419"
            ]
           ],
           "sequential": [
            [
             0,
             "#0d0887"
            ],
            [
             0.1111111111111111,
             "#46039f"
            ],
            [
             0.2222222222222222,
             "#7201a8"
            ],
            [
             0.3333333333333333,
             "#9c179e"
            ],
            [
             0.4444444444444444,
             "#bd3786"
            ],
            [
             0.5555555555555556,
             "#d8576b"
            ],
            [
             0.6666666666666666,
             "#ed7953"
            ],
            [
             0.7777777777777778,
             "#fb9f3a"
            ],
            [
             0.8888888888888888,
             "#fdca26"
            ],
            [
             1,
             "#f0f921"
            ]
           ],
           "sequentialminus": [
            [
             0,
             "#0d0887"
            ],
            [
             0.1111111111111111,
             "#46039f"
            ],
            [
             0.2222222222222222,
             "#7201a8"
            ],
            [
             0.3333333333333333,
             "#9c179e"
            ],
            [
             0.4444444444444444,
             "#bd3786"
            ],
            [
             0.5555555555555556,
             "#d8576b"
            ],
            [
             0.6666666666666666,
             "#ed7953"
            ],
            [
             0.7777777777777778,
             "#fb9f3a"
            ],
            [
             0.8888888888888888,
             "#fdca26"
            ],
            [
             1,
             "#f0f921"
            ]
           ]
          },
          "colorway": [
           "#636efa",
           "#EF553B",
           "#00cc96",
           "#ab63fa",
           "#FFA15A",
           "#19d3f3",
           "#FF6692",
           "#B6E880",
           "#FF97FF",
           "#FECB52"
          ],
          "font": {
           "color": "#2a3f5f"
          },
          "geo": {
           "bgcolor": "white",
           "lakecolor": "white",
           "landcolor": "#E5ECF6",
           "showlakes": true,
           "showland": true,
           "subunitcolor": "white"
          },
          "hoverlabel": {
           "align": "left"
          },
          "hovermode": "closest",
          "mapbox": {
           "style": "light"
          },
          "paper_bgcolor": "white",
          "plot_bgcolor": "#E5ECF6",
          "polar": {
           "angularaxis": {
            "gridcolor": "white",
            "linecolor": "white",
            "ticks": ""
           },
           "bgcolor": "#E5ECF6",
           "radialaxis": {
            "gridcolor": "white",
            "linecolor": "white",
            "ticks": ""
           }
          },
          "scene": {
           "xaxis": {
            "backgroundcolor": "#E5ECF6",
            "gridcolor": "white",
            "gridwidth": 2,
            "linecolor": "white",
            "showbackground": true,
            "ticks": "",
            "zerolinecolor": "white"
           },
           "yaxis": {
            "backgroundcolor": "#E5ECF6",
            "gridcolor": "white",
            "gridwidth": 2,
            "linecolor": "white",
            "showbackground": true,
            "ticks": "",
            "zerolinecolor": "white"
           },
           "zaxis": {
            "backgroundcolor": "#E5ECF6",
            "gridcolor": "white",
            "gridwidth": 2,
            "linecolor": "white",
            "showbackground": true,
            "ticks": "",
            "zerolinecolor": "white"
           }
          },
          "shapedefaults": {
           "line": {
            "color": "#2a3f5f"
           }
          },
          "ternary": {
           "aaxis": {
            "gridcolor": "white",
            "linecolor": "white",
            "ticks": ""
           },
           "baxis": {
            "gridcolor": "white",
            "linecolor": "white",
            "ticks": ""
           },
           "bgcolor": "#E5ECF6",
           "caxis": {
            "gridcolor": "white",
            "linecolor": "white",
            "ticks": ""
           }
          },
          "title": {
           "x": 0.05
          },
          "xaxis": {
           "automargin": true,
           "gridcolor": "white",
           "linecolor": "white",
           "ticks": "",
           "title": {
            "standoff": 15
           },
           "zerolinecolor": "white",
           "zerolinewidth": 2
          },
          "yaxis": {
           "automargin": true,
           "gridcolor": "white",
           "linecolor": "white",
           "ticks": "",
           "title": {
            "standoff": 15
           },
           "zerolinecolor": "white",
           "zerolinewidth": 2
          }
         }
        },
        "title": {
         "text": "Процентное отношение открытых вкладов к неоткрытым вкладом в срезе поколений"
        },
        "xaxis": {
         "anchor": "y",
         "domain": [
          0,
          1
         ],
         "title": {
          "text": "0"
         }
        },
        "yaxis": {
         "anchor": "x",
         "domain": [
          0,
          1
         ],
         "title": {
          "text": "Generation"
         }
        }
       }
      },
      "text/html": [
       "<div>\n",
       "        \n",
       "        \n",
       "            <div id=\"f5e4b68d-286f-4133-847f-ececc7ba048f\" class=\"plotly-graph-div\" style=\"height:525px; width:100%;\"></div>\n",
       "            <script type=\"text/javascript\">\n",
       "                require([\"plotly\"], function(Plotly) {\n",
       "                    window.PLOTLYENV=window.PLOTLYENV || {};\n",
       "                    \n",
       "                if (document.getElementById(\"f5e4b68d-286f-4133-847f-ececc7ba048f\")) {\n",
       "                    Plotly.newPlot(\n",
       "                        'f5e4b68d-286f-4133-847f-ececc7ba048f',\n",
       "                        [{\"hovertemplate\": \"y=no<br>0=%{x}<br>Generation=%{y}<extra></extra>\", \"legendgroup\": \"no\", \"marker\": {\"color\": \"#636efa\"}, \"name\": \"no\", \"orientation\": \"h\", \"showlegend\": true, \"type\": \"funnel\", \"x\": [0.800761421319797, 0.8978254753004542, 0.8979302099678697, 0.5394990366088632], \"xaxis\": \"x\", \"y\": [\"Millenial\", \"GenX\", \"BabyBoom\", \"Silent\"], \"yaxis\": \"y\"}, {\"hovertemplate\": \"y=yes<br>0=%{x}<br>Generation=%{y}<extra></extra>\", \"legendgroup\": \"yes\", \"marker\": {\"color\": \"#EF553B\"}, \"name\": \"yes\", \"orientation\": \"h\", \"showlegend\": true, \"type\": \"funnel\", \"x\": [0.19923857868020303, 0.1021745246995458, 0.10206979003213032, 0.4605009633911368], \"xaxis\": \"x\", \"y\": [\"Millenial\", \"GenX\", \"BabyBoom\", \"Silent\"], \"yaxis\": \"y\"}],\n",
       "                        {\"legend\": {\"title\": {\"text\": \"y\"}, \"tracegroupgap\": 0}, \"template\": {\"data\": {\"bar\": [{\"error_x\": {\"color\": \"#2a3f5f\"}, \"error_y\": {\"color\": \"#2a3f5f\"}, \"marker\": {\"line\": {\"color\": \"#E5ECF6\", \"width\": 0.5}}, \"type\": \"bar\"}], \"barpolar\": [{\"marker\": {\"line\": {\"color\": \"#E5ECF6\", \"width\": 0.5}}, \"type\": \"barpolar\"}], \"carpet\": [{\"aaxis\": {\"endlinecolor\": \"#2a3f5f\", \"gridcolor\": \"white\", \"linecolor\": \"white\", \"minorgridcolor\": \"white\", \"startlinecolor\": \"#2a3f5f\"}, \"baxis\": {\"endlinecolor\": \"#2a3f5f\", \"gridcolor\": \"white\", \"linecolor\": \"white\", \"minorgridcolor\": \"white\", \"startlinecolor\": \"#2a3f5f\"}, \"type\": \"carpet\"}], \"choropleth\": [{\"colorbar\": {\"outlinewidth\": 0, \"ticks\": \"\"}, \"type\": \"choropleth\"}], \"contour\": [{\"colorbar\": {\"outlinewidth\": 0, \"ticks\": \"\"}, \"colorscale\": [[0.0, \"#0d0887\"], [0.1111111111111111, \"#46039f\"], [0.2222222222222222, \"#7201a8\"], [0.3333333333333333, \"#9c179e\"], [0.4444444444444444, \"#bd3786\"], [0.5555555555555556, \"#d8576b\"], [0.6666666666666666, \"#ed7953\"], [0.7777777777777778, \"#fb9f3a\"], [0.8888888888888888, \"#fdca26\"], [1.0, \"#f0f921\"]], \"type\": \"contour\"}], \"contourcarpet\": [{\"colorbar\": {\"outlinewidth\": 0, \"ticks\": \"\"}, \"type\": \"contourcarpet\"}], \"heatmap\": [{\"colorbar\": {\"outlinewidth\": 0, \"ticks\": \"\"}, \"colorscale\": [[0.0, \"#0d0887\"], [0.1111111111111111, \"#46039f\"], [0.2222222222222222, \"#7201a8\"], [0.3333333333333333, \"#9c179e\"], [0.4444444444444444, \"#bd3786\"], [0.5555555555555556, \"#d8576b\"], [0.6666666666666666, \"#ed7953\"], [0.7777777777777778, \"#fb9f3a\"], [0.8888888888888888, \"#fdca26\"], [1.0, \"#f0f921\"]], \"type\": \"heatmap\"}], \"heatmapgl\": [{\"colorbar\": {\"outlinewidth\": 0, \"ticks\": \"\"}, \"colorscale\": [[0.0, \"#0d0887\"], [0.1111111111111111, \"#46039f\"], [0.2222222222222222, \"#7201a8\"], [0.3333333333333333, \"#9c179e\"], [0.4444444444444444, \"#bd3786\"], [0.5555555555555556, \"#d8576b\"], [0.6666666666666666, \"#ed7953\"], [0.7777777777777778, \"#fb9f3a\"], [0.8888888888888888, \"#fdca26\"], [1.0, \"#f0f921\"]], \"type\": \"heatmapgl\"}], \"histogram\": [{\"marker\": {\"colorbar\": {\"outlinewidth\": 0, \"ticks\": \"\"}}, \"type\": \"histogram\"}], \"histogram2d\": [{\"colorbar\": {\"outlinewidth\": 0, \"ticks\": \"\"}, \"colorscale\": [[0.0, \"#0d0887\"], [0.1111111111111111, \"#46039f\"], [0.2222222222222222, \"#7201a8\"], [0.3333333333333333, \"#9c179e\"], [0.4444444444444444, \"#bd3786\"], [0.5555555555555556, \"#d8576b\"], [0.6666666666666666, \"#ed7953\"], [0.7777777777777778, \"#fb9f3a\"], [0.8888888888888888, \"#fdca26\"], [1.0, \"#f0f921\"]], \"type\": \"histogram2d\"}], \"histogram2dcontour\": [{\"colorbar\": {\"outlinewidth\": 0, \"ticks\": \"\"}, \"colorscale\": [[0.0, \"#0d0887\"], [0.1111111111111111, \"#46039f\"], [0.2222222222222222, \"#7201a8\"], [0.3333333333333333, \"#9c179e\"], [0.4444444444444444, \"#bd3786\"], [0.5555555555555556, \"#d8576b\"], [0.6666666666666666, \"#ed7953\"], [0.7777777777777778, \"#fb9f3a\"], [0.8888888888888888, \"#fdca26\"], [1.0, \"#f0f921\"]], \"type\": \"histogram2dcontour\"}], \"mesh3d\": [{\"colorbar\": {\"outlinewidth\": 0, \"ticks\": \"\"}, \"type\": \"mesh3d\"}], \"parcoords\": [{\"line\": {\"colorbar\": {\"outlinewidth\": 0, \"ticks\": \"\"}}, \"type\": \"parcoords\"}], \"pie\": [{\"automargin\": true, \"type\": \"pie\"}], \"scatter\": [{\"marker\": {\"colorbar\": {\"outlinewidth\": 0, \"ticks\": \"\"}}, \"type\": \"scatter\"}], \"scatter3d\": [{\"line\": {\"colorbar\": {\"outlinewidth\": 0, \"ticks\": \"\"}}, \"marker\": {\"colorbar\": {\"outlinewidth\": 0, \"ticks\": \"\"}}, \"type\": \"scatter3d\"}], \"scattercarpet\": [{\"marker\": {\"colorbar\": {\"outlinewidth\": 0, \"ticks\": \"\"}}, \"type\": \"scattercarpet\"}], \"scattergeo\": [{\"marker\": {\"colorbar\": {\"outlinewidth\": 0, \"ticks\": \"\"}}, \"type\": \"scattergeo\"}], \"scattergl\": [{\"marker\": {\"colorbar\": {\"outlinewidth\": 0, \"ticks\": \"\"}}, \"type\": \"scattergl\"}], \"scattermapbox\": [{\"marker\": {\"colorbar\": {\"outlinewidth\": 0, \"ticks\": \"\"}}, \"type\": \"scattermapbox\"}], \"scatterpolar\": [{\"marker\": {\"colorbar\": {\"outlinewidth\": 0, \"ticks\": \"\"}}, \"type\": \"scatterpolar\"}], \"scatterpolargl\": [{\"marker\": {\"colorbar\": {\"outlinewidth\": 0, \"ticks\": \"\"}}, \"type\": \"scatterpolargl\"}], \"scatterternary\": [{\"marker\": {\"colorbar\": {\"outlinewidth\": 0, \"ticks\": \"\"}}, \"type\": \"scatterternary\"}], \"surface\": [{\"colorbar\": {\"outlinewidth\": 0, \"ticks\": \"\"}, \"colorscale\": [[0.0, \"#0d0887\"], [0.1111111111111111, \"#46039f\"], [0.2222222222222222, \"#7201a8\"], [0.3333333333333333, \"#9c179e\"], [0.4444444444444444, \"#bd3786\"], [0.5555555555555556, \"#d8576b\"], [0.6666666666666666, \"#ed7953\"], [0.7777777777777778, \"#fb9f3a\"], [0.8888888888888888, \"#fdca26\"], [1.0, \"#f0f921\"]], \"type\": \"surface\"}], \"table\": [{\"cells\": {\"fill\": {\"color\": \"#EBF0F8\"}, \"line\": {\"color\": \"white\"}}, \"header\": {\"fill\": {\"color\": \"#C8D4E3\"}, \"line\": {\"color\": \"white\"}}, \"type\": \"table\"}]}, \"layout\": {\"annotationdefaults\": {\"arrowcolor\": \"#2a3f5f\", \"arrowhead\": 0, \"arrowwidth\": 1}, \"coloraxis\": {\"colorbar\": {\"outlinewidth\": 0, \"ticks\": \"\"}}, \"colorscale\": {\"diverging\": [[0, \"#8e0152\"], [0.1, \"#c51b7d\"], [0.2, \"#de77ae\"], [0.3, \"#f1b6da\"], [0.4, \"#fde0ef\"], [0.5, \"#f7f7f7\"], [0.6, \"#e6f5d0\"], [0.7, \"#b8e186\"], [0.8, \"#7fbc41\"], [0.9, \"#4d9221\"], [1, \"#276419\"]], \"sequential\": [[0.0, \"#0d0887\"], [0.1111111111111111, \"#46039f\"], [0.2222222222222222, \"#7201a8\"], [0.3333333333333333, \"#9c179e\"], [0.4444444444444444, \"#bd3786\"], [0.5555555555555556, \"#d8576b\"], [0.6666666666666666, \"#ed7953\"], [0.7777777777777778, \"#fb9f3a\"], [0.8888888888888888, \"#fdca26\"], [1.0, \"#f0f921\"]], \"sequentialminus\": [[0.0, \"#0d0887\"], [0.1111111111111111, \"#46039f\"], [0.2222222222222222, \"#7201a8\"], [0.3333333333333333, \"#9c179e\"], [0.4444444444444444, \"#bd3786\"], [0.5555555555555556, \"#d8576b\"], [0.6666666666666666, \"#ed7953\"], [0.7777777777777778, \"#fb9f3a\"], [0.8888888888888888, \"#fdca26\"], [1.0, \"#f0f921\"]]}, \"colorway\": [\"#636efa\", \"#EF553B\", \"#00cc96\", \"#ab63fa\", \"#FFA15A\", \"#19d3f3\", \"#FF6692\", \"#B6E880\", \"#FF97FF\", \"#FECB52\"], \"font\": {\"color\": \"#2a3f5f\"}, \"geo\": {\"bgcolor\": \"white\", \"lakecolor\": \"white\", \"landcolor\": \"#E5ECF6\", \"showlakes\": true, \"showland\": true, \"subunitcolor\": \"white\"}, \"hoverlabel\": {\"align\": \"left\"}, \"hovermode\": \"closest\", \"mapbox\": {\"style\": \"light\"}, \"paper_bgcolor\": \"white\", \"plot_bgcolor\": \"#E5ECF6\", \"polar\": {\"angularaxis\": {\"gridcolor\": \"white\", \"linecolor\": \"white\", \"ticks\": \"\"}, \"bgcolor\": \"#E5ECF6\", \"radialaxis\": {\"gridcolor\": \"white\", \"linecolor\": \"white\", \"ticks\": \"\"}}, \"scene\": {\"xaxis\": {\"backgroundcolor\": \"#E5ECF6\", \"gridcolor\": \"white\", \"gridwidth\": 2, \"linecolor\": \"white\", \"showbackground\": true, \"ticks\": \"\", \"zerolinecolor\": \"white\"}, \"yaxis\": {\"backgroundcolor\": \"#E5ECF6\", \"gridcolor\": \"white\", \"gridwidth\": 2, \"linecolor\": \"white\", \"showbackground\": true, \"ticks\": \"\", \"zerolinecolor\": \"white\"}, \"zaxis\": {\"backgroundcolor\": \"#E5ECF6\", \"gridcolor\": \"white\", \"gridwidth\": 2, \"linecolor\": \"white\", \"showbackground\": true, \"ticks\": \"\", \"zerolinecolor\": \"white\"}}, \"shapedefaults\": {\"line\": {\"color\": \"#2a3f5f\"}}, \"ternary\": {\"aaxis\": {\"gridcolor\": \"white\", \"linecolor\": \"white\", \"ticks\": \"\"}, \"baxis\": {\"gridcolor\": \"white\", \"linecolor\": \"white\", \"ticks\": \"\"}, \"bgcolor\": \"#E5ECF6\", \"caxis\": {\"gridcolor\": \"white\", \"linecolor\": \"white\", \"ticks\": \"\"}}, \"title\": {\"x\": 0.05}, \"xaxis\": {\"automargin\": true, \"gridcolor\": \"white\", \"linecolor\": \"white\", \"ticks\": \"\", \"title\": {\"standoff\": 15}, \"zerolinecolor\": \"white\", \"zerolinewidth\": 2}, \"yaxis\": {\"automargin\": true, \"gridcolor\": \"white\", \"linecolor\": \"white\", \"ticks\": \"\", \"title\": {\"standoff\": 15}, \"zerolinecolor\": \"white\", \"zerolinewidth\": 2}}}, \"title\": {\"text\": \"\\u041f\\u0440\\u043e\\u0446\\u0435\\u043d\\u0442\\u043d\\u043e\\u0435 \\u043e\\u0442\\u043d\\u043e\\u0448\\u0435\\u043d\\u0438\\u0435 \\u043e\\u0442\\u043a\\u0440\\u044b\\u0442\\u044b\\u0445 \\u0432\\u043a\\u043b\\u0430\\u0434\\u043e\\u0432 \\u043a \\u043d\\u0435\\u043e\\u0442\\u043a\\u0440\\u044b\\u0442\\u044b\\u043c \\u0432\\u043a\\u043b\\u0430\\u0434\\u043e\\u043c \\u0432 \\u0441\\u0440\\u0435\\u0437\\u0435 \\u043f\\u043e\\u043a\\u043e\\u043b\\u0435\\u043d\\u0438\\u0439\"}, \"xaxis\": {\"anchor\": \"y\", \"domain\": [0.0, 1.0], \"title\": {\"text\": \"0\"}}, \"yaxis\": {\"anchor\": \"x\", \"domain\": [0.0, 1.0], \"title\": {\"text\": \"Generation\"}}},\n",
       "                        {\"responsive\": true}\n",
       "                    ).then(function(){\n",
       "                            \n",
       "var gd = document.getElementById('f5e4b68d-286f-4133-847f-ececc7ba048f');\n",
       "var x = new MutationObserver(function (mutations, observer) {{\n",
       "        var display = window.getComputedStyle(gd).display;\n",
       "        if (!display || display === 'none') {{\n",
       "            console.log([gd, 'removed!']);\n",
       "            Plotly.purge(gd);\n",
       "            observer.disconnect();\n",
       "        }}\n",
       "}});\n",
       "\n",
       "// Listen for the removal of the full notebook cells\n",
       "var notebookContainer = gd.closest('#notebook-container');\n",
       "if (notebookContainer) {{\n",
       "    x.observe(notebookContainer, {childList: true});\n",
       "}}\n",
       "\n",
       "// Listen for the clearing of the current output cell\n",
       "var outputEl = gd.closest('.output');\n",
       "if (outputEl) {{\n",
       "    x.observe(outputEl, {childList: true});\n",
       "}}\n",
       "\n",
       "                        })\n",
       "                };\n",
       "                });\n",
       "            </script>\n",
       "        </div>"
      ]
     },
     "metadata": {},
     "output_type": "display_data"
    }
   ],
   "source": [
    "fig = px.funnel(ct_gg_g.stack().reset_index(), x=0, y='Generation', color='y', title = \"Процентное отношение открытых вкладов к неоткрытым вкладом в срезе поколений\")\n",
    "fig.show()"
   ]
  },
  {
   "cell_type": "markdown",
   "metadata": {},
   "source": [
    "**ВЫВОД**\n",
    "\n",
    "Видим, что охотнее всего, вклады в банке открывают люди старшего поколения с очень большим отрывом. Не будем забывать о том, что данные предоставлены за период Мирового Экономического кризиса. \n",
    "\n",
    "\n",
    "Millenial - В общем количестве их не так много, всего 2364, что составляет 0.05% от всех, кто участвовал. Поэтому, чтобы судить о том, что они делают депозиты чаще (о чем можно судить по графику выше), нужно провести тест. \n",
    "\n",
    "GenX - их большинство в выборке, почти 25 000. Что составляет 60%. Делают депозиты из них только 10%\n",
    "\n",
    "BabyBoomers - 13.383 в выборке, что составляет 32%. Как и люди из поколения X, только 10% из них сделало вклады (В этом банке) \n",
    "\n",
    "Silent - Их в выборку попало совсем немного, всего 519 человек. Что составило 1%. Но они охотней всего делали вклады после связи с банком - 46% из них. \n",
    "\n",
    "\n",
    "#TODO посмотреть, зачем пожилому поколению депозиты. "
   ]
  },
  {
   "cell_type": "markdown",
   "metadata": {},
   "source": [
    "# Job (фича)"
   ]
  },
  {
   "cell_type": "markdown",
   "metadata": {},
   "source": [
    "Категориальная фича, что сообщили люди о своей работе. Если человек не рассказывал про работу, или значение пропущено, то стоит категория \"unknow\"."
   ]
  },
  {
   "cell_type": "markdown",
   "metadata": {},
   "source": [
    "Построим кросс таблицу с процентами, чтобы посмотреть, как работа связана с открытие депозита. "
   ]
  },
  {
   "cell_type": "code",
   "execution_count": 167,
   "metadata": {},
   "outputs": [
    {
     "data": {
      "text/html": [
       "<style  type=\"text/css\" >\n",
       "#T_73457e62_e94a_11ea_98e0_00d8615acf43row0_col0{\n",
       "            background-color:  #399f39;\n",
       "            color:  #000000;\n",
       "        }#T_73457e62_e94a_11ea_98e0_00d8615acf43row0_col1,#T_73457e62_e94a_11ea_98e0_00d8615acf43row1_col8{\n",
       "            background-color:  #008000;\n",
       "            color:  #f1f1f1;\n",
       "        }#T_73457e62_e94a_11ea_98e0_00d8615acf43row0_col2{\n",
       "            background-color:  #0e880e;\n",
       "            color:  #f1f1f1;\n",
       "        }#T_73457e62_e94a_11ea_98e0_00d8615acf43row0_col3{\n",
       "            background-color:  #1d901d;\n",
       "            color:  #000000;\n",
       "        }#T_73457e62_e94a_11ea_98e0_00d8615acf43row0_col4,#T_73457e62_e94a_11ea_98e0_00d8615acf43row0_col11{\n",
       "            background-color:  #289628;\n",
       "            color:  #000000;\n",
       "        }#T_73457e62_e94a_11ea_98e0_00d8615acf43row0_col5{\n",
       "            background-color:  #acdfac;\n",
       "            color:  #000000;\n",
       "        }#T_73457e62_e94a_11ea_98e0_00d8615acf43row0_col6{\n",
       "            background-color:  #219221;\n",
       "            color:  #000000;\n",
       "        }#T_73457e62_e94a_11ea_98e0_00d8615acf43row0_col7{\n",
       "            background-color:  #0b860b;\n",
       "            color:  #f1f1f1;\n",
       "        }#T_73457e62_e94a_11ea_98e0_00d8615acf43row0_col8,#T_73457e62_e94a_11ea_98e0_00d8615acf43row1_col1{\n",
       "            background-color:  #e5ffe5;\n",
       "            color:  #000000;\n",
       "        }#T_73457e62_e94a_11ea_98e0_00d8615acf43row0_col9{\n",
       "            background-color:  #259425;\n",
       "            color:  #000000;\n",
       "        }#T_73457e62_e94a_11ea_98e0_00d8615acf43row0_col10{\n",
       "            background-color:  #44a644;\n",
       "            color:  #000000;\n",
       "        }#T_73457e62_e94a_11ea_98e0_00d8615acf43row1_col0{\n",
       "            background-color:  #ade0ad;\n",
       "            color:  #000000;\n",
       "        }#T_73457e62_e94a_11ea_98e0_00d8615acf43row1_col2{\n",
       "            background-color:  #d7f7d7;\n",
       "            color:  #000000;\n",
       "        }#T_73457e62_e94a_11ea_98e0_00d8615acf43row1_col3{\n",
       "            background-color:  #c9efc9;\n",
       "            color:  #000000;\n",
       "        }#T_73457e62_e94a_11ea_98e0_00d8615acf43row1_col4,#T_73457e62_e94a_11ea_98e0_00d8615acf43row1_col11{\n",
       "            background-color:  #bde9bd;\n",
       "            color:  #000000;\n",
       "        }#T_73457e62_e94a_11ea_98e0_00d8615acf43row1_col5{\n",
       "            background-color:  #3aa03a;\n",
       "            color:  #000000;\n",
       "        }#T_73457e62_e94a_11ea_98e0_00d8615acf43row1_col6{\n",
       "            background-color:  #c4edc4;\n",
       "            color:  #000000;\n",
       "        }#T_73457e62_e94a_11ea_98e0_00d8615acf43row1_col7{\n",
       "            background-color:  #dbf9db;\n",
       "            color:  #000000;\n",
       "        }#T_73457e62_e94a_11ea_98e0_00d8615acf43row1_col9{\n",
       "            background-color:  #c1ebc1;\n",
       "            color:  #000000;\n",
       "        }#T_73457e62_e94a_11ea_98e0_00d8615acf43row1_col10{\n",
       "            background-color:  #a1d9a1;\n",
       "            color:  #000000;\n",
       "        }</style><table id=\"T_73457e62_e94a_11ea_98e0_00d8615acf43\" ><thead>    <tr>        <th class=\"index_name level0\" >job</th>        <th class=\"col_heading level0 col0\" >admin.</th>        <th class=\"col_heading level0 col1\" >blue-collar</th>        <th class=\"col_heading level0 col2\" >entrepreneur</th>        <th class=\"col_heading level0 col3\" >housemaid</th>        <th class=\"col_heading level0 col4\" >management</th>        <th class=\"col_heading level0 col5\" >retired</th>        <th class=\"col_heading level0 col6\" >self-employed</th>        <th class=\"col_heading level0 col7\" >services</th>        <th class=\"col_heading level0 col8\" >student</th>        <th class=\"col_heading level0 col9\" >technician</th>        <th class=\"col_heading level0 col10\" >unemployed</th>        <th class=\"col_heading level0 col11\" >unknown</th>    </tr>    <tr>        <th class=\"index_name level0\" >y</th>        <th class=\"blank\" ></th>        <th class=\"blank\" ></th>        <th class=\"blank\" ></th>        <th class=\"blank\" ></th>        <th class=\"blank\" ></th>        <th class=\"blank\" ></th>        <th class=\"blank\" ></th>        <th class=\"blank\" ></th>        <th class=\"blank\" ></th>        <th class=\"blank\" ></th>        <th class=\"blank\" ></th>        <th class=\"blank\" ></th>    </tr></thead><tbody>\n",
       "                <tr>\n",
       "                        <th id=\"T_73457e62_e94a_11ea_98e0_00d8615acf43level0_row0\" class=\"row_heading level0 row0\" >no</th>\n",
       "                        <td id=\"T_73457e62_e94a_11ea_98e0_00d8615acf43row0_col0\" class=\"data row0 col0\" >0.870274</td>\n",
       "                        <td id=\"T_73457e62_e94a_11ea_98e0_00d8615acf43row0_col1\" class=\"data row0 col1\" >0.931057</td>\n",
       "                        <td id=\"T_73457e62_e94a_11ea_98e0_00d8615acf43row0_col2\" class=\"data row0 col2\" >0.914835</td>\n",
       "                        <td id=\"T_73457e62_e94a_11ea_98e0_00d8615acf43row0_col3\" class=\"data row0 col3\" >0.900000</td>\n",
       "                        <td id=\"T_73457e62_e94a_11ea_98e0_00d8615acf43row0_col4\" class=\"data row0 col4\" >0.887825</td>\n",
       "                        <td id=\"T_73457e62_e94a_11ea_98e0_00d8615acf43row0_col5\" class=\"data row0 col5\" >0.747674</td>\n",
       "                        <td id=\"T_73457e62_e94a_11ea_98e0_00d8615acf43row0_col6\" class=\"data row0 col6\" >0.895144</td>\n",
       "                        <td id=\"T_73457e62_e94a_11ea_98e0_00d8615acf43row0_col7\" class=\"data row0 col7\" >0.918619</td>\n",
       "                        <td id=\"T_73457e62_e94a_11ea_98e0_00d8615acf43row0_col8\" class=\"data row0 col8\" >0.685714</td>\n",
       "                        <td id=\"T_73457e62_e94a_11ea_98e0_00d8615acf43row0_col9\" class=\"data row0 col9\" >0.891740</td>\n",
       "                        <td id=\"T_73457e62_e94a_11ea_98e0_00d8615acf43row0_col10\" class=\"data row0 col10\" >0.857988</td>\n",
       "                        <td id=\"T_73457e62_e94a_11ea_98e0_00d8615acf43row0_col11\" class=\"data row0 col11\" >0.887879</td>\n",
       "            </tr>\n",
       "            <tr>\n",
       "                        <th id=\"T_73457e62_e94a_11ea_98e0_00d8615acf43level0_row1\" class=\"row_heading level0 row1\" >yes</th>\n",
       "                        <td id=\"T_73457e62_e94a_11ea_98e0_00d8615acf43row1_col0\" class=\"data row1 col0\" >0.129726</td>\n",
       "                        <td id=\"T_73457e62_e94a_11ea_98e0_00d8615acf43row1_col1\" class=\"data row1 col1\" >0.068943</td>\n",
       "                        <td id=\"T_73457e62_e94a_11ea_98e0_00d8615acf43row1_col2\" class=\"data row1 col2\" >0.085165</td>\n",
       "                        <td id=\"T_73457e62_e94a_11ea_98e0_00d8615acf43row1_col3\" class=\"data row1 col3\" >0.100000</td>\n",
       "                        <td id=\"T_73457e62_e94a_11ea_98e0_00d8615acf43row1_col4\" class=\"data row1 col4\" >0.112175</td>\n",
       "                        <td id=\"T_73457e62_e94a_11ea_98e0_00d8615acf43row1_col5\" class=\"data row1 col5\" >0.252326</td>\n",
       "                        <td id=\"T_73457e62_e94a_11ea_98e0_00d8615acf43row1_col6\" class=\"data row1 col6\" >0.104856</td>\n",
       "                        <td id=\"T_73457e62_e94a_11ea_98e0_00d8615acf43row1_col7\" class=\"data row1 col7\" >0.081381</td>\n",
       "                        <td id=\"T_73457e62_e94a_11ea_98e0_00d8615acf43row1_col8\" class=\"data row1 col8\" >0.314286</td>\n",
       "                        <td id=\"T_73457e62_e94a_11ea_98e0_00d8615acf43row1_col9\" class=\"data row1 col9\" >0.108260</td>\n",
       "                        <td id=\"T_73457e62_e94a_11ea_98e0_00d8615acf43row1_col10\" class=\"data row1 col10\" >0.142012</td>\n",
       "                        <td id=\"T_73457e62_e94a_11ea_98e0_00d8615acf43row1_col11\" class=\"data row1 col11\" >0.112121</td>\n",
       "            </tr>\n",
       "    </tbody></table>"
      ],
      "text/plain": [
       "<pandas.io.formats.style.Styler at 0x7fb01d560a30>"
      ]
     },
     "execution_count": 167,
     "metadata": {},
     "output_type": "execute_result"
    }
   ],
   "source": [
    "ct_jy_j = pd.crosstab(df['y'], df['job'] , normalize='columns')\n",
    "ct_jy_js = ct_jy_j.style.background_gradient(cmap=cm, axis = 1)\n",
    "ct_jy_js"
   ]
  },
  {
   "cell_type": "markdown",
   "metadata": {},
   "source": [
    "**Наблюдение**\n",
    "\n",
    "Тогда как все профессии показали примерно одни и те же результаты, выделяются две группы - student и retired. Retaired не очень интересно, так как предпологаю, что в ней много людей пожилового возраста из поколения Silent, которые довольно охотно оформляют депозит (Если успею, то я повнимательней присмотрюсь к этой группе). Интересна профессия студент. Так как видно, что они открывают депозит в три раза чаще. Предпологаю, что дело в том, что у студентов еще нет своего депозита в других банках и они охотней говотовы начать копить сбережения. "
   ]
  },
  {
   "cell_type": "markdown",
   "metadata": {},
   "source": [
    "Переменная, чтобы подсветить crosstable "
   ]
  },
  {
   "cell_type": "code",
   "execution_count": 154,
   "metadata": {},
   "outputs": [],
   "source": [
    "cm = sns.light_palette(\"green\", as_cmap=True)"
   ]
  },
  {
   "cell_type": "markdown",
   "metadata": {},
   "source": [
    "Построим crosstable для поколений и работ"
   ]
  },
  {
   "cell_type": "code",
   "execution_count": 155,
   "metadata": {},
   "outputs": [],
   "source": [
    "ct_jy_g = pd.crosstab([df['y'] , df['Generation']], df['job'] , normalize='columns')"
   ]
  },
  {
   "cell_type": "code",
   "execution_count": 157,
   "metadata": {},
   "outputs": [
    {
     "data": {
      "text/html": [
       "<style  type=\"text/css\" >\n",
       "#T_db2e579e_e948_11ea_98e0_00d8615acf43row0_col0,#T_db2e579e_e948_11ea_98e0_00d8615acf43row0_col6,#T_db2e579e_e948_11ea_98e0_00d8615acf43row6_col11{\n",
       "            background-color:  #d6f7d6;\n",
       "            color:  #000000;\n",
       "        }#T_db2e579e_e948_11ea_98e0_00d8615acf43row0_col1{\n",
       "            background-color:  #d3f5d3;\n",
       "            color:  #000000;\n",
       "        }#T_db2e579e_e948_11ea_98e0_00d8615acf43row0_col2,#T_db2e579e_e948_11ea_98e0_00d8615acf43row0_col3,#T_db2e579e_e948_11ea_98e0_00d8615acf43row5_col11,#T_db2e579e_e948_11ea_98e0_00d8615acf43row6_col9{\n",
       "            background-color:  #dcfadc;\n",
       "            color:  #000000;\n",
       "        }#T_db2e579e_e948_11ea_98e0_00d8615acf43row0_col4,#T_db2e579e_e948_11ea_98e0_00d8615acf43row4_col10{\n",
       "            background-color:  #defbde;\n",
       "            color:  #000000;\n",
       "        }#T_db2e579e_e948_11ea_98e0_00d8615acf43row0_col5,#T_db2e579e_e948_11ea_98e0_00d8615acf43row3_col0,#T_db2e579e_e948_11ea_98e0_00d8615acf43row3_col1,#T_db2e579e_e948_11ea_98e0_00d8615acf43row3_col2,#T_db2e579e_e948_11ea_98e0_00d8615acf43row3_col4,#T_db2e579e_e948_11ea_98e0_00d8615acf43row3_col6,#T_db2e579e_e948_11ea_98e0_00d8615acf43row3_col7,#T_db2e579e_e948_11ea_98e0_00d8615acf43row3_col8,#T_db2e579e_e948_11ea_98e0_00d8615acf43row3_col9,#T_db2e579e_e948_11ea_98e0_00d8615acf43row3_col10,#T_db2e579e_e948_11ea_98e0_00d8615acf43row3_col11,#T_db2e579e_e948_11ea_98e0_00d8615acf43row4_col1,#T_db2e579e_e948_11ea_98e0_00d8615acf43row4_col2,#T_db2e579e_e948_11ea_98e0_00d8615acf43row4_col3,#T_db2e579e_e948_11ea_98e0_00d8615acf43row4_col4,#T_db2e579e_e948_11ea_98e0_00d8615acf43row4_col5,#T_db2e579e_e948_11ea_98e0_00d8615acf43row5_col5,#T_db2e579e_e948_11ea_98e0_00d8615acf43row6_col8,#T_db2e579e_e948_11ea_98e0_00d8615acf43row7_col0,#T_db2e579e_e948_11ea_98e0_00d8615acf43row7_col1,#T_db2e579e_e948_11ea_98e0_00d8615acf43row7_col2,#T_db2e579e_e948_11ea_98e0_00d8615acf43row7_col4,#T_db2e579e_e948_11ea_98e0_00d8615acf43row7_col6,#T_db2e579e_e948_11ea_98e0_00d8615acf43row7_col7,#T_db2e579e_e948_11ea_98e0_00d8615acf43row7_col8,#T_db2e579e_e948_11ea_98e0_00d8615acf43row7_col9,#T_db2e579e_e948_11ea_98e0_00d8615acf43row7_col10{\n",
       "            background-color:  #e5ffe5;\n",
       "            color:  #000000;\n",
       "        }#T_db2e579e_e948_11ea_98e0_00d8615acf43row0_col7,#T_db2e579e_e948_11ea_98e0_00d8615acf43row5_col9{\n",
       "            background-color:  #caf0ca;\n",
       "            color:  #000000;\n",
       "        }#T_db2e579e_e948_11ea_98e0_00d8615acf43row0_col8,#T_db2e579e_e948_11ea_98e0_00d8615acf43row1_col0,#T_db2e579e_e948_11ea_98e0_00d8615acf43row1_col1,#T_db2e579e_e948_11ea_98e0_00d8615acf43row1_col2,#T_db2e579e_e948_11ea_98e0_00d8615acf43row1_col4,#T_db2e579e_e948_11ea_98e0_00d8615acf43row1_col6,#T_db2e579e_e948_11ea_98e0_00d8615acf43row1_col7,#T_db2e579e_e948_11ea_98e0_00d8615acf43row1_col9,#T_db2e579e_e948_11ea_98e0_00d8615acf43row1_col10,#T_db2e579e_e948_11ea_98e0_00d8615acf43row2_col3,#T_db2e579e_e948_11ea_98e0_00d8615acf43row2_col5,#T_db2e579e_e948_11ea_98e0_00d8615acf43row2_col11{\n",
       "            background-color:  #008000;\n",
       "            color:  #f1f1f1;\n",
       "        }#T_db2e579e_e948_11ea_98e0_00d8615acf43row0_col9{\n",
       "            background-color:  #daf9da;\n",
       "            color:  #000000;\n",
       "        }#T_db2e579e_e948_11ea_98e0_00d8615acf43row0_col10{\n",
       "            background-color:  #d4f6d4;\n",
       "            color:  #000000;\n",
       "        }#T_db2e579e_e948_11ea_98e0_00d8615acf43row0_col11,#T_db2e579e_e948_11ea_98e0_00d8615acf43row4_col0,#T_db2e579e_e948_11ea_98e0_00d8615acf43row4_col7{\n",
       "            background-color:  #e2fde2;\n",
       "            color:  #000000;\n",
       "        }#T_db2e579e_e948_11ea_98e0_00d8615acf43row1_col3{\n",
       "            background-color:  #128a12;\n",
       "            color:  #f1f1f1;\n",
       "        }#T_db2e579e_e948_11ea_98e0_00d8615acf43row1_col5,#T_db2e579e_e948_11ea_98e0_00d8615acf43row6_col6{\n",
       "            background-color:  #dbf9db;\n",
       "            color:  #000000;\n",
       "        }#T_db2e579e_e948_11ea_98e0_00d8615acf43row1_col8{\n",
       "            background-color:  #389f38;\n",
       "            color:  #000000;\n",
       "        }#T_db2e579e_e948_11ea_98e0_00d8615acf43row1_col11{\n",
       "            background-color:  #5eb45e;\n",
       "            color:  #000000;\n",
       "        }#T_db2e579e_e948_11ea_98e0_00d8615acf43row2_col0{\n",
       "            background-color:  #8cce8c;\n",
       "            color:  #000000;\n",
       "        }#T_db2e579e_e948_11ea_98e0_00d8615acf43row2_col1{\n",
       "            background-color:  #69ba69;\n",
       "            color:  #000000;\n",
       "        }#T_db2e579e_e948_11ea_98e0_00d8615acf43row2_col2{\n",
       "            background-color:  #41a441;\n",
       "            color:  #000000;\n",
       "        }#T_db2e579e_e948_11ea_98e0_00d8615acf43row2_col4{\n",
       "            background-color:  #319b31;\n",
       "            color:  #000000;\n",
       "        }#T_db2e579e_e948_11ea_98e0_00d8615acf43row2_col6{\n",
       "            background-color:  #60b560;\n",
       "            color:  #000000;\n",
       "        }#T_db2e579e_e948_11ea_98e0_00d8615acf43row2_col7{\n",
       "            background-color:  #7dc57d;\n",
       "            color:  #000000;\n",
       "        }#T_db2e579e_e948_11ea_98e0_00d8615acf43row2_col8,#T_db2e579e_e948_11ea_98e0_00d8615acf43row4_col9{\n",
       "            background-color:  #e4fee4;\n",
       "            color:  #000000;\n",
       "        }#T_db2e579e_e948_11ea_98e0_00d8615acf43row2_col9{\n",
       "            background-color:  #8bcd8b;\n",
       "            color:  #000000;\n",
       "        }#T_db2e579e_e948_11ea_98e0_00d8615acf43row2_col10{\n",
       "            background-color:  #63b763;\n",
       "            color:  #000000;\n",
       "        }#T_db2e579e_e948_11ea_98e0_00d8615acf43row3_col3,#T_db2e579e_e948_11ea_98e0_00d8615acf43row4_col11,#T_db2e579e_e948_11ea_98e0_00d8615acf43row6_col7,#T_db2e579e_e948_11ea_98e0_00d8615acf43row7_col3{\n",
       "            background-color:  #dffcdf;\n",
       "            color:  #000000;\n",
       "        }#T_db2e579e_e948_11ea_98e0_00d8615acf43row3_col5{\n",
       "            background-color:  #acdfac;\n",
       "            color:  #000000;\n",
       "        }#T_db2e579e_e948_11ea_98e0_00d8615acf43row4_col6{\n",
       "            background-color:  #e3fee3;\n",
       "            color:  #000000;\n",
       "        }#T_db2e579e_e948_11ea_98e0_00d8615acf43row4_col8{\n",
       "            background-color:  #65b865;\n",
       "            color:  #000000;\n",
       "        }#T_db2e579e_e948_11ea_98e0_00d8615acf43row5_col0{\n",
       "            background-color:  #c6eec6;\n",
       "            color:  #000000;\n",
       "        }#T_db2e579e_e948_11ea_98e0_00d8615acf43row5_col1{\n",
       "            background-color:  #d5f6d5;\n",
       "            color:  #000000;\n",
       "        }#T_db2e579e_e948_11ea_98e0_00d8615acf43row5_col2{\n",
       "            background-color:  #d0f3d0;\n",
       "            color:  #000000;\n",
       "        }#T_db2e579e_e948_11ea_98e0_00d8615acf43row5_col3,#T_db2e579e_e948_11ea_98e0_00d8615acf43row6_col0{\n",
       "            background-color:  #d9f8d9;\n",
       "            color:  #000000;\n",
       "        }#T_db2e579e_e948_11ea_98e0_00d8615acf43row5_col4{\n",
       "            background-color:  #c9efc9;\n",
       "            color:  #000000;\n",
       "        }#T_db2e579e_e948_11ea_98e0_00d8615acf43row5_col6{\n",
       "            background-color:  #c8efc8;\n",
       "            color:  #000000;\n",
       "        }#T_db2e579e_e948_11ea_98e0_00d8615acf43row5_col7,#T_db2e579e_e948_11ea_98e0_00d8615acf43row6_col4{\n",
       "            background-color:  #d1f4d1;\n",
       "            color:  #000000;\n",
       "        }#T_db2e579e_e948_11ea_98e0_00d8615acf43row5_col8{\n",
       "            background-color:  #afe1af;\n",
       "            color:  #000000;\n",
       "        }#T_db2e579e_e948_11ea_98e0_00d8615acf43row5_col10{\n",
       "            background-color:  #c3ecc3;\n",
       "            color:  #000000;\n",
       "        }#T_db2e579e_e948_11ea_98e0_00d8615acf43row6_col1{\n",
       "            background-color:  #ddfbdd;\n",
       "            color:  #000000;\n",
       "        }#T_db2e579e_e948_11ea_98e0_00d8615acf43row6_col2{\n",
       "            background-color:  #d8f8d8;\n",
       "            color:  #000000;\n",
       "        }#T_db2e579e_e948_11ea_98e0_00d8615acf43row6_col3{\n",
       "            background-color:  #c7eec7;\n",
       "            color:  #000000;\n",
       "        }#T_db2e579e_e948_11ea_98e0_00d8615acf43row6_col5{\n",
       "            background-color:  #b6e5b6;\n",
       "            color:  #000000;\n",
       "        }#T_db2e579e_e948_11ea_98e0_00d8615acf43row6_col10{\n",
       "            background-color:  #d2f4d2;\n",
       "            color:  #000000;\n",
       "        }#T_db2e579e_e948_11ea_98e0_00d8615acf43row7_col5{\n",
       "            background-color:  #b5e4b5;\n",
       "            color:  #000000;\n",
       "        }#T_db2e579e_e948_11ea_98e0_00d8615acf43row7_col11{\n",
       "            background-color:  #e1fde1;\n",
       "            color:  #000000;\n",
       "        }</style><table id=\"T_db2e579e_e948_11ea_98e0_00d8615acf43\" ><thead>    <tr>        <th class=\"blank\" ></th>        <th class=\"index_name level0\" >job</th>        <th class=\"col_heading level0 col0\" >admin.</th>        <th class=\"col_heading level0 col1\" >blue-collar</th>        <th class=\"col_heading level0 col2\" >entrepreneur</th>        <th class=\"col_heading level0 col3\" >housemaid</th>        <th class=\"col_heading level0 col4\" >management</th>        <th class=\"col_heading level0 col5\" >retired</th>        <th class=\"col_heading level0 col6\" >self-employed</th>        <th class=\"col_heading level0 col7\" >services</th>        <th class=\"col_heading level0 col8\" >student</th>        <th class=\"col_heading level0 col9\" >technician</th>        <th class=\"col_heading level0 col10\" >unemployed</th>        <th class=\"col_heading level0 col11\" >unknown</th>    </tr>    <tr>        <th class=\"index_name level0\" >y</th>        <th class=\"index_name level1\" >Generation</th>        <th class=\"blank\" ></th>        <th class=\"blank\" ></th>        <th class=\"blank\" ></th>        <th class=\"blank\" ></th>        <th class=\"blank\" ></th>        <th class=\"blank\" ></th>        <th class=\"blank\" ></th>        <th class=\"blank\" ></th>        <th class=\"blank\" ></th>        <th class=\"blank\" ></th>        <th class=\"blank\" ></th>        <th class=\"blank\" ></th>    </tr></thead><tbody>\n",
       "                <tr>\n",
       "                        <th id=\"T_db2e579e_e948_11ea_98e0_00d8615acf43level0_row0\" class=\"row_heading level0 row0\" rowspan=4>no</th>\n",
       "                        <th id=\"T_db2e579e_e948_11ea_98e0_00d8615acf43level1_row0\" class=\"row_heading level1 row0\" >Millenial</th>\n",
       "                        <td id=\"T_db2e579e_e948_11ea_98e0_00d8615acf43row0_col0\" class=\"data row0 col0\" >0.040107</td>\n",
       "                        <td id=\"T_db2e579e_e948_11ea_98e0_00d8615acf43row0_col1\" class=\"data row0 col1\" >0.047007</td>\n",
       "                        <td id=\"T_db2e579e_e948_11ea_98e0_00d8615acf43row0_col2\" class=\"data row0 col2\" >0.021978</td>\n",
       "                        <td id=\"T_db2e579e_e948_11ea_98e0_00d8615acf43row0_col3\" class=\"data row0 col3\" >0.018868</td>\n",
       "                        <td id=\"T_db2e579e_e948_11ea_98e0_00d8615acf43row0_col4\" class=\"data row0 col4\" >0.016758</td>\n",
       "                        <td id=\"T_db2e579e_e948_11ea_98e0_00d8615acf43row0_col5\" class=\"data row0 col5\" >0.001193</td>\n",
       "                        <td id=\"T_db2e579e_e948_11ea_98e0_00d8615acf43row0_col6\" class=\"data row0 col6\" >0.037298</td>\n",
       "                        <td id=\"T_db2e579e_e948_11ea_98e0_00d8615acf43row0_col7\" class=\"data row0 col7\" >0.070547</td>\n",
       "                        <td id=\"T_db2e579e_e948_11ea_98e0_00d8615acf43row0_col8\" class=\"data row0 col8\" >0.388571</td>\n",
       "                        <td id=\"T_db2e579e_e948_11ea_98e0_00d8615acf43row0_col9\" class=\"data row0 col9\" >0.032330</td>\n",
       "                        <td id=\"T_db2e579e_e948_11ea_98e0_00d8615acf43row0_col10\" class=\"data row0 col10\" >0.040434</td>\n",
       "                        <td id=\"T_db2e579e_e948_11ea_98e0_00d8615acf43row0_col11\" class=\"data row0 col11\" >0.015152</td>\n",
       "            </tr>\n",
       "            <tr>\n",
       "                                <th id=\"T_db2e579e_e948_11ea_98e0_00d8615acf43level1_row1\" class=\"row_heading level1 row1\" >GenX</th>\n",
       "                        <td id=\"T_db2e579e_e948_11ea_98e0_00d8615acf43row1_col0\" class=\"data row1 col0\" >0.596814</td>\n",
       "                        <td id=\"T_db2e579e_e948_11ea_98e0_00d8615acf43row1_col1\" class=\"data row1 col1\" >0.573914</td>\n",
       "                        <td id=\"T_db2e579e_e948_11ea_98e0_00d8615acf43row1_col2\" class=\"data row1 col2\" >0.519231</td>\n",
       "                        <td id=\"T_db2e579e_e948_11ea_98e0_00d8615acf43row1_col3\" class=\"data row1 col3\" >0.416038</td>\n",
       "                        <td id=\"T_db2e579e_e948_11ea_98e0_00d8615acf43row1_col4\" class=\"data row1 col4\" >0.487004</td>\n",
       "                        <td id=\"T_db2e579e_e948_11ea_98e0_00d8615acf43row1_col5\" class=\"data row1 col5\" >0.029219</td>\n",
       "                        <td id=\"T_db2e579e_e948_11ea_98e0_00d8615acf43row1_col6\" class=\"data row1 col6\" >0.542576</td>\n",
       "                        <td id=\"T_db2e579e_e948_11ea_98e0_00d8615acf43row1_col7\" class=\"data row1 col7\" >0.583018</td>\n",
       "                        <td id=\"T_db2e579e_e948_11ea_98e0_00d8615acf43row1_col8\" class=\"data row1 col8\" >0.293714</td>\n",
       "                        <td id=\"T_db2e579e_e948_11ea_98e0_00d8615acf43row1_col9\" class=\"data row1 col9\" >0.616639</td>\n",
       "                        <td id=\"T_db2e579e_e948_11ea_98e0_00d8615acf43row1_col10\" class=\"data row1 col10\" >0.521696</td>\n",
       "                        <td id=\"T_db2e579e_e948_11ea_98e0_00d8615acf43row1_col11\" class=\"data row1 col11\" >0.324242</td>\n",
       "            </tr>\n",
       "            <tr>\n",
       "                                <th id=\"T_db2e579e_e948_11ea_98e0_00d8615acf43level1_row2\" class=\"row_heading level1 row2\" >BabyBoom</th>\n",
       "                        <td id=\"T_db2e579e_e948_11ea_98e0_00d8615acf43row2_col0\" class=\"data row2 col0\" >0.232873</td>\n",
       "                        <td id=\"T_db2e579e_e948_11ea_98e0_00d8615acf43row2_col1\" class=\"data row2 col1\" >0.309812</td>\n",
       "                        <td id=\"T_db2e579e_e948_11ea_98e0_00d8615acf43row2_col2\" class=\"data row2 col2\" >0.372253</td>\n",
       "                        <td id=\"T_db2e579e_e948_11ea_98e0_00d8615acf43row2_col3\" class=\"data row2 col3\" >0.451887</td>\n",
       "                        <td id=\"T_db2e579e_e948_11ea_98e0_00d8615acf43row2_col4\" class=\"data row2 col4\" >0.383037</td>\n",
       "                        <td id=\"T_db2e579e_e948_11ea_98e0_00d8615acf43row2_col5\" class=\"data row2 col5\" >0.577818</td>\n",
       "                        <td id=\"T_db2e579e_e948_11ea_98e0_00d8615acf43row2_col6\" class=\"data row2 col6\" >0.313863</td>\n",
       "                        <td id=\"T_db2e579e_e948_11ea_98e0_00d8615acf43row2_col7\" class=\"data row2 col7\" >0.264802</td>\n",
       "                        <td id=\"T_db2e579e_e948_11ea_98e0_00d8615acf43row2_col8\" class=\"data row2 col8\" >0.003429</td>\n",
       "                        <td id=\"T_db2e579e_e948_11ea_98e0_00d8615acf43row2_col9\" class=\"data row2 col9\" >0.242325</td>\n",
       "                        <td id=\"T_db2e579e_e948_11ea_98e0_00d8615acf43row2_col10\" class=\"data row2 col10\" >0.295858</td>\n",
       "                        <td id=\"T_db2e579e_e948_11ea_98e0_00d8615acf43row2_col11\" class=\"data row2 col11\" >0.542424</td>\n",
       "            </tr>\n",
       "            <tr>\n",
       "                                <th id=\"T_db2e579e_e948_11ea_98e0_00d8615acf43level1_row3\" class=\"row_heading level1 row3\" >Silent</th>\n",
       "                        <td id=\"T_db2e579e_e948_11ea_98e0_00d8615acf43row3_col0\" class=\"data row3 col0\" >0.000480</td>\n",
       "                        <td id=\"T_db2e579e_e948_11ea_98e0_00d8615acf43row3_col1\" class=\"data row3 col1\" >0.000324</td>\n",
       "                        <td id=\"T_db2e579e_e948_11ea_98e0_00d8615acf43row3_col2\" class=\"data row3 col2\" >0.001374</td>\n",
       "                        <td id=\"T_db2e579e_e948_11ea_98e0_00d8615acf43row3_col3\" class=\"data row3 col3\" >0.013208</td>\n",
       "                        <td id=\"T_db2e579e_e948_11ea_98e0_00d8615acf43row3_col4\" class=\"data row3 col4\" >0.001026</td>\n",
       "                        <td id=\"T_db2e579e_e948_11ea_98e0_00d8615acf43row3_col5\" class=\"data row3 col5\" >0.146094</td>\n",
       "                        <td id=\"T_db2e579e_e948_11ea_98e0_00d8615acf43row3_col6\" class=\"data row3 col6\" >0.001407</td>\n",
       "                        <td id=\"T_db2e579e_e948_11ea_98e0_00d8615acf43row3_col7\" class=\"data row3 col7\" >0.000252</td>\n",
       "                        <td id=\"T_db2e579e_e948_11ea_98e0_00d8615acf43row3_col8\" class=\"data row3 col8\" >0.000000</td>\n",
       "                        <td id=\"T_db2e579e_e948_11ea_98e0_00d8615acf43row3_col9\" class=\"data row3 col9\" >0.000445</td>\n",
       "                        <td id=\"T_db2e579e_e948_11ea_98e0_00d8615acf43row3_col10\" class=\"data row3 col10\" >0.000000</td>\n",
       "                        <td id=\"T_db2e579e_e948_11ea_98e0_00d8615acf43row3_col11\" class=\"data row3 col11\" >0.006061</td>\n",
       "            </tr>\n",
       "            <tr>\n",
       "                        <th id=\"T_db2e579e_e948_11ea_98e0_00d8615acf43level0_row4\" class=\"row_heading level0 row4\" rowspan=4>yes</th>\n",
       "                        <th id=\"T_db2e579e_e948_11ea_98e0_00d8615acf43level1_row4\" class=\"row_heading level1 row4\" >Millenial</th>\n",
       "                        <td id=\"T_db2e579e_e948_11ea_98e0_00d8615acf43row4_col0\" class=\"data row4 col0\" >0.009883</td>\n",
       "                        <td id=\"T_db2e579e_e948_11ea_98e0_00d8615acf43row4_col1\" class=\"data row4 col1\" >0.004539</td>\n",
       "                        <td id=\"T_db2e579e_e948_11ea_98e0_00d8615acf43row4_col2\" class=\"data row4 col2\" >0.001374</td>\n",
       "                        <td id=\"T_db2e579e_e948_11ea_98e0_00d8615acf43row4_col3\" class=\"data row4 col3\" >0.000000</td>\n",
       "                        <td id=\"T_db2e579e_e948_11ea_98e0_00d8615acf43row4_col4\" class=\"data row4 col4\" >0.003420</td>\n",
       "                        <td id=\"T_db2e579e_e948_11ea_98e0_00d8615acf43row4_col5\" class=\"data row4 col5\" >0.000000</td>\n",
       "                        <td id=\"T_db2e579e_e948_11ea_98e0_00d8615acf43row4_col6\" class=\"data row4 col6\" >0.007037</td>\n",
       "                        <td id=\"T_db2e579e_e948_11ea_98e0_00d8615acf43row4_col7\" class=\"data row4 col7\" >0.010078</td>\n",
       "                        <td id=\"T_db2e579e_e948_11ea_98e0_00d8615acf43row4_col8\" class=\"data row4 col8\" >0.218286</td>\n",
       "                        <td id=\"T_db2e579e_e948_11ea_98e0_00d8615acf43row4_col9\" class=\"data row4 col9\" >0.007118</td>\n",
       "                        <td id=\"T_db2e579e_e948_11ea_98e0_00d8615acf43row4_col10\" class=\"data row4 col10\" >0.017751</td>\n",
       "                        <td id=\"T_db2e579e_e948_11ea_98e0_00d8615acf43row4_col11\" class=\"data row4 col11\" >0.021212</td>\n",
       "            </tr>\n",
       "            <tr>\n",
       "                                <th id=\"T_db2e579e_e948_11ea_98e0_00d8615acf43level1_row5\" class=\"row_heading level1 row5\" >GenX</th>\n",
       "                        <td id=\"T_db2e579e_e948_11ea_98e0_00d8615acf43row5_col0\" class=\"data row5 col0\" >0.084149</td>\n",
       "                        <td id=\"T_db2e579e_e948_11ea_98e0_00d8615acf43row5_col1\" class=\"data row5 col1\" >0.041820</td>\n",
       "                        <td id=\"T_db2e579e_e948_11ea_98e0_00d8615acf43row5_col2\" class=\"data row5 col2\" >0.050137</td>\n",
       "                        <td id=\"T_db2e579e_e948_11ea_98e0_00d8615acf43row5_col3\" class=\"data row5 col3\" >0.026415</td>\n",
       "                        <td id=\"T_db2e579e_e948_11ea_98e0_00d8615acf43row5_col4\" class=\"data row5 col4\" >0.061902</td>\n",
       "                        <td id=\"T_db2e579e_e948_11ea_98e0_00d8615acf43row5_col5\" class=\"data row5 col5\" >0.001789</td>\n",
       "                        <td id=\"T_db2e579e_e948_11ea_98e0_00d8615acf43row5_col6\" class=\"data row5 col6\" >0.071077</td>\n",
       "                        <td id=\"T_db2e579e_e948_11ea_98e0_00d8615acf43row5_col7\" class=\"data row5 col7\" >0.053666</td>\n",
       "                        <td id=\"T_db2e579e_e948_11ea_98e0_00d8615acf43row5_col8\" class=\"data row5 col8\" >0.093714</td>\n",
       "                        <td id=\"T_db2e579e_e948_11ea_98e0_00d8615acf43row5_col9\" class=\"data row5 col9\" >0.075337</td>\n",
       "                        <td id=\"T_db2e579e_e948_11ea_98e0_00d8615acf43row5_col10\" class=\"data row5 col10\" >0.077909</td>\n",
       "                        <td id=\"T_db2e579e_e948_11ea_98e0_00d8615acf43row5_col11\" class=\"data row5 col11\" >0.030303</td>\n",
       "            </tr>\n",
       "            <tr>\n",
       "                                <th id=\"T_db2e579e_e948_11ea_98e0_00d8615acf43level1_row6\" class=\"row_heading level1 row6\" >BabyBoom</th>\n",
       "                        <td id=\"T_db2e579e_e948_11ea_98e0_00d8615acf43row6_col0\" class=\"data row6 col0\" >0.035118</td>\n",
       "                        <td id=\"T_db2e579e_e948_11ea_98e0_00d8615acf43row6_col1\" class=\"data row6 col1\" >0.022477</td>\n",
       "                        <td id=\"T_db2e579e_e948_11ea_98e0_00d8615acf43row6_col2\" class=\"data row6 col2\" >0.032280</td>\n",
       "                        <td id=\"T_db2e579e_e948_11ea_98e0_00d8615acf43row6_col3\" class=\"data row6 col3\" >0.060377</td>\n",
       "                        <td id=\"T_db2e579e_e948_11ea_98e0_00d8615acf43row6_col4\" class=\"data row6 col4\" >0.045486</td>\n",
       "                        <td id=\"T_db2e579e_e948_11ea_98e0_00d8615acf43row6_col5\" class=\"data row6 col5\" >0.121646</td>\n",
       "                        <td id=\"T_db2e579e_e948_11ea_98e0_00d8615acf43row6_col6\" class=\"data row6 col6\" >0.026742</td>\n",
       "                        <td id=\"T_db2e579e_e948_11ea_98e0_00d8615acf43row6_col7\" class=\"data row6 col7\" >0.017637</td>\n",
       "                        <td id=\"T_db2e579e_e948_11ea_98e0_00d8615acf43row6_col8\" class=\"data row6 col8\" >0.002286</td>\n",
       "                        <td id=\"T_db2e579e_e948_11ea_98e0_00d8615acf43row6_col9\" class=\"data row6 col9\" >0.025656</td>\n",
       "                        <td id=\"T_db2e579e_e948_11ea_98e0_00d8615acf43row6_col10\" class=\"data row6 col10\" >0.046351</td>\n",
       "                        <td id=\"T_db2e579e_e948_11ea_98e0_00d8615acf43row6_col11\" class=\"data row6 col11\" >0.042424</td>\n",
       "            </tr>\n",
       "            <tr>\n",
       "                                <th id=\"T_db2e579e_e948_11ea_98e0_00d8615acf43level1_row7\" class=\"row_heading level1 row7\" >Silent</th>\n",
       "                        <td id=\"T_db2e579e_e948_11ea_98e0_00d8615acf43row7_col0\" class=\"data row7 col0\" >0.000576</td>\n",
       "                        <td id=\"T_db2e579e_e948_11ea_98e0_00d8615acf43row7_col1\" class=\"data row7 col1\" >0.000108</td>\n",
       "                        <td id=\"T_db2e579e_e948_11ea_98e0_00d8615acf43row7_col2\" class=\"data row7 col2\" >0.001374</td>\n",
       "                        <td id=\"T_db2e579e_e948_11ea_98e0_00d8615acf43row7_col3\" class=\"data row7 col3\" >0.013208</td>\n",
       "                        <td id=\"T_db2e579e_e948_11ea_98e0_00d8615acf43row7_col4\" class=\"data row7 col4\" >0.001368</td>\n",
       "                        <td id=\"T_db2e579e_e948_11ea_98e0_00d8615acf43row7_col5\" class=\"data row7 col5\" >0.122242</td>\n",
       "                        <td id=\"T_db2e579e_e948_11ea_98e0_00d8615acf43row7_col6\" class=\"data row7 col6\" >0.000000</td>\n",
       "                        <td id=\"T_db2e579e_e948_11ea_98e0_00d8615acf43row7_col7\" class=\"data row7 col7\" >0.000000</td>\n",
       "                        <td id=\"T_db2e579e_e948_11ea_98e0_00d8615acf43row7_col8\" class=\"data row7 col8\" >0.000000</td>\n",
       "                        <td id=\"T_db2e579e_e948_11ea_98e0_00d8615acf43row7_col9\" class=\"data row7 col9\" >0.000148</td>\n",
       "                        <td id=\"T_db2e579e_e948_11ea_98e0_00d8615acf43row7_col10\" class=\"data row7 col10\" >0.000000</td>\n",
       "                        <td id=\"T_db2e579e_e948_11ea_98e0_00d8615acf43row7_col11\" class=\"data row7 col11\" >0.018182</td>\n",
       "            </tr>\n",
       "    </tbody></table>"
      ],
      "text/plain": [
       "<pandas.io.formats.style.Styler at 0x7fb020b600d0>"
      ]
     },
     "execution_count": 157,
     "metadata": {},
     "output_type": "execute_result"
    }
   ],
   "source": [
    "ct_jy_s = ct_jy_g.style.background_gradient(cmap=cm)\n",
    "ct_jy_s"
   ]
  },
  {
   "cell_type": "markdown",
   "metadata": {},
   "source": [
    "_Не понял, как оформить индексы, чтобы было более очевидно где \"да\" и \"нет\"_"
   ]
  },
  {
   "cell_type": "markdown",
   "metadata": {},
   "source": [
    "**Наблюдение**\n",
    "\n",
    "Удивительной большой процент отказывающихся открыть вклад по всем профессиям приходиться на поколение X. И затрагивает поколение BabyBoomer`ов. Но у этих двух поколений и так самый большой процент отказов, что показало нам исследования поколений. \n",
    "\n",
    "Интересно то, что значительно меньше отказов в поколении X у ретейлоров. Думаю, они лучше всего обученны правильно распоряжаться своими финансами. Хотя могут быть и другие причины.\n",
    "\n",
    "Так же интересно, что у студентов милиниалов самый большой отказ от открытия депозита, и самое большой процент согласия на открытие. Но думаю, это связано с тем, что ими активно интересуются все банки, для открытия депозита, и предпологаю большую конкуренцию. Но может быть дело в том, что их совсем мало в выборке и поэтому точных выводов я бы не делал. "
   ]
  },
  {
   "cell_type": "code",
   "execution_count": 274,
   "metadata": {},
   "outputs": [],
   "source": [
    "def chi_squred(table):\n",
    "    stat, p, dof, expected = chi2_contingency([mm[0].values, m[0].values])\n",
    "    print('stat=%.3f, p=%.3f' % (stat, p))\n",
    "    if p > 0.05:\n",
    "        print('Probably independent')\n",
    "    else:\n",
    "        print('Probably dependent')"
   ]
  },
  {
   "cell_type": "markdown",
   "metadata": {},
   "source": [
    "**Гипотеза**\n",
    "\n",
    "Зависит ли, откроет человек депозит или нет, от работы \n",
    "\n",
    "Проведем $\\chi^2$ для проверки гипотезы\n"
   ]
  },
  {
   "cell_type": "code",
   "execution_count": 273,
   "metadata": {},
   "outputs": [],
   "source": [
    "ct_jy_chi =  pd.crosstab(df['y'], df['job'])\n",
    "ct_jy_chi = ct_jy_a.stack().reset_index()"
   ]
  },
  {
   "cell_type": "code",
   "execution_count": 275,
   "metadata": {},
   "outputs": [
    {
     "name": "stdout",
     "output_type": "stream",
     "text": [
      "stat=122.655, p=0.000\n",
      "Probably dependent\n"
     ]
    }
   ],
   "source": [
    "chi_squred([ct_jy_chi[ct_jy_chi['y'] == 'yes'][0].values, ct_jy_chi[ct_jy_chi['y'] == 'no'][0].values])"
   ]
  },
  {
   "cell_type": "markdown",
   "metadata": {},
   "source": [
    "С большой долей уверености наша гипотеза подтвердилась и эти переменные являются зависимыми"
   ]
  },
  {
   "cell_type": "markdown",
   "metadata": {},
   "source": [
    "# Marital"
   ]
  },
  {
   "cell_type": "markdown",
   "metadata": {},
   "source": [
    "Категориальная фич. Состоит ли человек в браке или нет.  (categorical: \"divorced\",\"married\",\"single\",\"unknown\"; note: \"divorced\" means divorced or widowed)"
   ]
  },
  {
   "cell_type": "code",
   "execution_count": 169,
   "metadata": {},
   "outputs": [
    {
     "data": {
      "text/html": [
       "<style  type=\"text/css\" >\n",
       "#T_069fee0e_e94b_11ea_98e0_00d8615acf43row0_col0{\n",
       "            background-color:  #078407;\n",
       "            color:  #f1f1f1;\n",
       "        }#T_069fee0e_e94b_11ea_98e0_00d8615acf43row0_col1,#T_069fee0e_e94b_11ea_98e0_00d8615acf43row1_col3{\n",
       "            background-color:  #008000;\n",
       "            color:  #f1f1f1;\n",
       "        }#T_069fee0e_e94b_11ea_98e0_00d8615acf43row0_col2{\n",
       "            background-color:  #b7e5b7;\n",
       "            color:  #000000;\n",
       "        }#T_069fee0e_e94b_11ea_98e0_00d8615acf43row0_col3,#T_069fee0e_e94b_11ea_98e0_00d8615acf43row1_col1{\n",
       "            background-color:  #e5ffe5;\n",
       "            color:  #000000;\n",
       "        }#T_069fee0e_e94b_11ea_98e0_00d8615acf43row1_col0{\n",
       "            background-color:  #defbde;\n",
       "            color:  #000000;\n",
       "        }#T_069fee0e_e94b_11ea_98e0_00d8615acf43row1_col2{\n",
       "            background-color:  #2f9a2f;\n",
       "            color:  #000000;\n",
       "        }</style><table id=\"T_069fee0e_e94b_11ea_98e0_00d8615acf43\" ><thead>    <tr>        <th class=\"index_name level0\" >marital</th>        <th class=\"col_heading level0 col0\" >divorced</th>        <th class=\"col_heading level0 col1\" >married</th>        <th class=\"col_heading level0 col2\" >single</th>        <th class=\"col_heading level0 col3\" >unknown</th>    </tr>    <tr>        <th class=\"index_name level0\" >y</th>        <th class=\"blank\" ></th>        <th class=\"blank\" ></th>        <th class=\"blank\" ></th>        <th class=\"blank\" ></th>    </tr></thead><tbody>\n",
       "                <tr>\n",
       "                        <th id=\"T_069fee0e_e94b_11ea_98e0_00d8615acf43level0_row0\" class=\"row_heading level0 row0\" >no</th>\n",
       "                        <td id=\"T_069fee0e_e94b_11ea_98e0_00d8615acf43row0_col0\" class=\"data row0 col0\" >0.896791</td>\n",
       "                        <td id=\"T_069fee0e_e94b_11ea_98e0_00d8615acf43row0_col1\" class=\"data row0 col1\" >0.898427</td>\n",
       "                        <td id=\"T_069fee0e_e94b_11ea_98e0_00d8615acf43row0_col2\" class=\"data row0 col2\" >0.859959</td>\n",
       "                        <td id=\"T_069fee0e_e94b_11ea_98e0_00d8615acf43row0_col3\" class=\"data row0 col3\" >0.850000</td>\n",
       "            </tr>\n",
       "            <tr>\n",
       "                        <th id=\"T_069fee0e_e94b_11ea_98e0_00d8615acf43level0_row1\" class=\"row_heading level0 row1\" >yes</th>\n",
       "                        <td id=\"T_069fee0e_e94b_11ea_98e0_00d8615acf43row1_col0\" class=\"data row1 col0\" >0.103209</td>\n",
       "                        <td id=\"T_069fee0e_e94b_11ea_98e0_00d8615acf43row1_col1\" class=\"data row1 col1\" >0.101573</td>\n",
       "                        <td id=\"T_069fee0e_e94b_11ea_98e0_00d8615acf43row1_col2\" class=\"data row1 col2\" >0.140041</td>\n",
       "                        <td id=\"T_069fee0e_e94b_11ea_98e0_00d8615acf43row1_col3\" class=\"data row1 col3\" >0.150000</td>\n",
       "            </tr>\n",
       "    </tbody></table>"
      ],
      "text/plain": [
       "<pandas.io.formats.style.Styler at 0x7fb00bda9a90>"
      ]
     },
     "execution_count": 169,
     "metadata": {},
     "output_type": "execute_result"
    }
   ],
   "source": [
    "ct_jy_m = pd.crosstab(df['y'], df['marital'] , normalize='columns')\n",
    "ct_jy_ms = ct_jy_m.style.background_gradient(cmap=cm, axis = 1)\n",
    "ct_jy_ms"
   ]
  },
  {
   "cell_type": "markdown",
   "metadata": {},
   "source": [
    "**Гипотеза**\n",
    "\n",
    "Интересно, что если человек состоял или до сих пор состоит в браке, то он скорее откажется от открытия депозита, чем если нет."
   ]
  },
  {
   "cell_type": "markdown",
   "metadata": {},
   "source": [
    "Проверим гипотезу посчитав $\\chi^2$"
   ]
  },
  {
   "cell_type": "code",
   "execution_count": 172,
   "metadata": {},
   "outputs": [
    {
     "data": {
      "text/html": [
       "<style  type=\"text/css\" >\n",
       "#T_48184516_e94b_11ea_98e0_00d8615acf43row0_col0,#T_48184516_e94b_11ea_98e0_00d8615acf43row2_col0{\n",
       "            background-color:  #ccf1cc;\n",
       "            color:  #000000;\n",
       "        }#T_48184516_e94b_11ea_98e0_00d8615acf43row0_col1{\n",
       "            background-color:  #59b159;\n",
       "            color:  #000000;\n",
       "        }#T_48184516_e94b_11ea_98e0_00d8615acf43row0_col2{\n",
       "            background-color:  #a7dda7;\n",
       "            color:  #000000;\n",
       "        }#T_48184516_e94b_11ea_98e0_00d8615acf43row0_col3,#T_48184516_e94b_11ea_98e0_00d8615acf43row1_col3,#T_48184516_e94b_11ea_98e0_00d8615acf43row2_col3{\n",
       "            background-color:  #e5ffe5;\n",
       "            color:  #000000;\n",
       "        }#T_48184516_e94b_11ea_98e0_00d8615acf43row0_col4,#T_48184516_e94b_11ea_98e0_00d8615acf43row1_col4,#T_48184516_e94b_11ea_98e0_00d8615acf43row2_col4{\n",
       "            background-color:  #008000;\n",
       "            color:  #f1f1f1;\n",
       "        }#T_48184516_e94b_11ea_98e0_00d8615acf43row1_col0{\n",
       "            background-color:  #cff3cf;\n",
       "            color:  #000000;\n",
       "        }#T_48184516_e94b_11ea_98e0_00d8615acf43row1_col1{\n",
       "            background-color:  #68ba68;\n",
       "            color:  #000000;\n",
       "        }#T_48184516_e94b_11ea_98e0_00d8615acf43row1_col2{\n",
       "            background-color:  #96d396;\n",
       "            color:  #000000;\n",
       "        }#T_48184516_e94b_11ea_98e0_00d8615acf43row2_col1{\n",
       "            background-color:  #5bb25b;\n",
       "            color:  #000000;\n",
       "        }#T_48184516_e94b_11ea_98e0_00d8615acf43row2_col2{\n",
       "            background-color:  #a6dca6;\n",
       "            color:  #000000;\n",
       "        }</style><table id=\"T_48184516_e94b_11ea_98e0_00d8615acf43\" ><thead>    <tr>        <th class=\"index_name level0\" >marital</th>        <th class=\"col_heading level0 col0\" >divorced</th>        <th class=\"col_heading level0 col1\" >married</th>        <th class=\"col_heading level0 col2\" >single</th>        <th class=\"col_heading level0 col3\" >unknown</th>        <th class=\"col_heading level0 col4\" >All</th>    </tr>    <tr>        <th class=\"index_name level0\" >y</th>        <th class=\"blank\" ></th>        <th class=\"blank\" ></th>        <th class=\"blank\" ></th>        <th class=\"blank\" ></th>        <th class=\"blank\" ></th>    </tr></thead><tbody>\n",
       "                <tr>\n",
       "                        <th id=\"T_48184516_e94b_11ea_98e0_00d8615acf43level0_row0\" class=\"row_heading level0 row0\" >no</th>\n",
       "                        <td id=\"T_48184516_e94b_11ea_98e0_00d8615acf43row0_col0\" class=\"data row0 col0\" >4136</td>\n",
       "                        <td id=\"T_48184516_e94b_11ea_98e0_00d8615acf43row0_col1\" class=\"data row0 col1\" >22396</td>\n",
       "                        <td id=\"T_48184516_e94b_11ea_98e0_00d8615acf43row0_col2\" class=\"data row0 col2\" >9948</td>\n",
       "                        <td id=\"T_48184516_e94b_11ea_98e0_00d8615acf43row0_col3\" class=\"data row0 col3\" >68</td>\n",
       "                        <td id=\"T_48184516_e94b_11ea_98e0_00d8615acf43row0_col4\" class=\"data row0 col4\" >36548</td>\n",
       "            </tr>\n",
       "            <tr>\n",
       "                        <th id=\"T_48184516_e94b_11ea_98e0_00d8615acf43level0_row1\" class=\"row_heading level0 row1\" >yes</th>\n",
       "                        <td id=\"T_48184516_e94b_11ea_98e0_00d8615acf43row1_col0\" class=\"data row1 col0\" >476</td>\n",
       "                        <td id=\"T_48184516_e94b_11ea_98e0_00d8615acf43row1_col1\" class=\"data row1 col1\" >2532</td>\n",
       "                        <td id=\"T_48184516_e94b_11ea_98e0_00d8615acf43row1_col2\" class=\"data row1 col2\" >1620</td>\n",
       "                        <td id=\"T_48184516_e94b_11ea_98e0_00d8615acf43row1_col3\" class=\"data row1 col3\" >12</td>\n",
       "                        <td id=\"T_48184516_e94b_11ea_98e0_00d8615acf43row1_col4\" class=\"data row1 col4\" >4640</td>\n",
       "            </tr>\n",
       "            <tr>\n",
       "                        <th id=\"T_48184516_e94b_11ea_98e0_00d8615acf43level0_row2\" class=\"row_heading level0 row2\" >All</th>\n",
       "                        <td id=\"T_48184516_e94b_11ea_98e0_00d8615acf43row2_col0\" class=\"data row2 col0\" >4612</td>\n",
       "                        <td id=\"T_48184516_e94b_11ea_98e0_00d8615acf43row2_col1\" class=\"data row2 col1\" >24928</td>\n",
       "                        <td id=\"T_48184516_e94b_11ea_98e0_00d8615acf43row2_col2\" class=\"data row2 col2\" >11568</td>\n",
       "                        <td id=\"T_48184516_e94b_11ea_98e0_00d8615acf43row2_col3\" class=\"data row2 col3\" >80</td>\n",
       "                        <td id=\"T_48184516_e94b_11ea_98e0_00d8615acf43row2_col4\" class=\"data row2 col4\" >41188</td>\n",
       "            </tr>\n",
       "    </tbody></table>"
      ],
      "text/plain": [
       "<pandas.io.formats.style.Styler at 0x7fb01acaaf40>"
      ]
     },
     "execution_count": 172,
     "metadata": {},
     "output_type": "execute_result"
    }
   ],
   "source": [
    "ct_jy_ma = pd.crosstab(df['y'], df['marital'], margins = True)\n",
    "ct_jy_mas = ct_jy_ma.style.background_gradient(cmap=cm, axis = 1)\n",
    "ct_jy_mas"
   ]
  },
  {
   "cell_type": "code",
   "execution_count": 260,
   "metadata": {},
   "outputs": [],
   "source": [
    "ct_jy_a = pd.crosstab(df['y'], df['marital'])"
   ]
  },
  {
   "cell_type": "code",
   "execution_count": 226,
   "metadata": {},
   "outputs": [],
   "source": [
    "chi_m = ct_jy_a.stack().reset_index()"
   ]
  },
  {
   "cell_type": "code",
   "execution_count": 276,
   "metadata": {},
   "outputs": [
    {
     "name": "stdout",
     "output_type": "stream",
     "text": [
      "stat=122.655, p=0.000\n",
      "Probably dependent\n"
     ]
    }
   ],
   "source": [
    "chi_squred([chi_m[chi_m['y'] == 'yes'][0].values, chi_m[chi_m['y'] == 'no'][0].values])"
   ]
  },
  {
   "cell_type": "markdown",
   "metadata": {},
   "source": [
    "**Вывод** \n",
    "\n",
    "Как мы видим, наша гипотеза подтвердилась и это зависимые переменные"
   ]
  },
  {
   "cell_type": "code",
   "execution_count": null,
   "metadata": {},
   "outputs": [],
   "source": []
  }
 ],
 "metadata": {
  "kernelspec": {
   "display_name": "Python 3",
   "language": "python",
   "name": "python3"
  },
  "language_info": {
   "codemirror_mode": {
    "name": "ipython",
    "version": 3
   },
   "file_extension": ".py",
   "mimetype": "text/x-python",
   "name": "python",
   "nbconvert_exporter": "python",
   "pygments_lexer": "ipython3",
   "version": "3.8.5"
  },
  "latex_envs": {
   "LaTeX_envs_menu_present": true,
   "autoclose": false,
   "autocomplete": true,
   "bibliofile": "biblio.bib",
   "cite_by": "apalike",
   "current_citInitial": 1,
   "eqLabelWithNumbers": true,
   "eqNumInitial": 1,
   "hotkeys": {
    "equation": "Ctrl-E",
    "itemize": "Ctrl-I"
   },
   "labels_anchors": false,
   "latex_user_defs": false,
   "report_style_numbering": false,
   "user_envs_cfg": false
  }
 },
 "nbformat": 4,
 "nbformat_minor": 4
}
