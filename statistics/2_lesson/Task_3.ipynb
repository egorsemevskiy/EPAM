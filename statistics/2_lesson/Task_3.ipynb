{
 "cells": [
  {
   "cell_type": "code",
   "execution_count": 183,
   "metadata": {},
   "outputs": [],
   "source": [
    "import pandas as pd\n",
    "import numpy as np\n",
    "\n",
    "import matplotlib.pyplot as plt\n",
    "%matplotlib inline\n",
    "\n",
    "from scipy.stats import ttest_ind, bartlett,levene, f_oneway, shapiro, probplot\n",
    "\n",
    "import statsmodels.api as sm\n",
    "from statsmodels.formula.api import ols\n",
    "\n",
    "import seaborn as sns\n",
    "import researchpy as rp\n",
    " \n",
    "import umap\n",
    "from pingouin import welch_anova"
   ]
  },
  {
   "cell_type": "markdown",
   "metadata": {},
   "source": [
    "# Task 3\n",
    "\n",
    "You can find and download a dataset there:\n",
    "https://www.kaggle.com/russellyates88/suicide-rates-overview-1985-to-2016\n",
    "\n",
    "\n",
    "1) For any country (you are free to choose any of the presented) \n",
    " *  Visualize a feature **suicides_no** considering other features: **sex**, **age** (or **generation**) and year;\n",
    " *  Check whether there is statistical difference for suicide number between these groups: men / women. If it is found, can we claim that people of certain sex are more prone to suicides or do we need additional information?"
   ]
  },
  {
   "cell_type": "code",
   "execution_count": 3,
   "metadata": {},
   "outputs": [],
   "source": [
    "df = pd.read_csv('data/raw/master.csv')"
   ]
  },
  {
   "cell_type": "code",
   "execution_count": 4,
   "metadata": {},
   "outputs": [
    {
     "data": {
      "text/html": [
       "<div>\n",
       "<style scoped>\n",
       "    .dataframe tbody tr th:only-of-type {\n",
       "        vertical-align: middle;\n",
       "    }\n",
       "\n",
       "    .dataframe tbody tr th {\n",
       "        vertical-align: top;\n",
       "    }\n",
       "\n",
       "    .dataframe thead th {\n",
       "        text-align: right;\n",
       "    }\n",
       "</style>\n",
       "<table border=\"1\" class=\"dataframe\">\n",
       "  <thead>\n",
       "    <tr style=\"text-align: right;\">\n",
       "      <th></th>\n",
       "      <th>country</th>\n",
       "      <th>year</th>\n",
       "      <th>sex</th>\n",
       "      <th>age</th>\n",
       "      <th>suicides_no</th>\n",
       "      <th>population</th>\n",
       "      <th>suicides/100k pop</th>\n",
       "      <th>country-year</th>\n",
       "      <th>HDI for year</th>\n",
       "      <th>gdp_for_year ($)</th>\n",
       "      <th>gdp_per_capita ($)</th>\n",
       "      <th>generation</th>\n",
       "    </tr>\n",
       "  </thead>\n",
       "  <tbody>\n",
       "    <tr>\n",
       "      <th>0</th>\n",
       "      <td>Albania</td>\n",
       "      <td>1987</td>\n",
       "      <td>male</td>\n",
       "      <td>15-24 years</td>\n",
       "      <td>21</td>\n",
       "      <td>312900</td>\n",
       "      <td>6.71</td>\n",
       "      <td>Albania1987</td>\n",
       "      <td>NaN</td>\n",
       "      <td>2,156,624,900</td>\n",
       "      <td>796</td>\n",
       "      <td>Generation X</td>\n",
       "    </tr>\n",
       "    <tr>\n",
       "      <th>1</th>\n",
       "      <td>Albania</td>\n",
       "      <td>1987</td>\n",
       "      <td>male</td>\n",
       "      <td>35-54 years</td>\n",
       "      <td>16</td>\n",
       "      <td>308000</td>\n",
       "      <td>5.19</td>\n",
       "      <td>Albania1987</td>\n",
       "      <td>NaN</td>\n",
       "      <td>2,156,624,900</td>\n",
       "      <td>796</td>\n",
       "      <td>Silent</td>\n",
       "    </tr>\n",
       "    <tr>\n",
       "      <th>2</th>\n",
       "      <td>Albania</td>\n",
       "      <td>1987</td>\n",
       "      <td>female</td>\n",
       "      <td>15-24 years</td>\n",
       "      <td>14</td>\n",
       "      <td>289700</td>\n",
       "      <td>4.83</td>\n",
       "      <td>Albania1987</td>\n",
       "      <td>NaN</td>\n",
       "      <td>2,156,624,900</td>\n",
       "      <td>796</td>\n",
       "      <td>Generation X</td>\n",
       "    </tr>\n",
       "    <tr>\n",
       "      <th>3</th>\n",
       "      <td>Albania</td>\n",
       "      <td>1987</td>\n",
       "      <td>male</td>\n",
       "      <td>75+ years</td>\n",
       "      <td>1</td>\n",
       "      <td>21800</td>\n",
       "      <td>4.59</td>\n",
       "      <td>Albania1987</td>\n",
       "      <td>NaN</td>\n",
       "      <td>2,156,624,900</td>\n",
       "      <td>796</td>\n",
       "      <td>G.I. Generation</td>\n",
       "    </tr>\n",
       "    <tr>\n",
       "      <th>4</th>\n",
       "      <td>Albania</td>\n",
       "      <td>1987</td>\n",
       "      <td>male</td>\n",
       "      <td>25-34 years</td>\n",
       "      <td>9</td>\n",
       "      <td>274300</td>\n",
       "      <td>3.28</td>\n",
       "      <td>Albania1987</td>\n",
       "      <td>NaN</td>\n",
       "      <td>2,156,624,900</td>\n",
       "      <td>796</td>\n",
       "      <td>Boomers</td>\n",
       "    </tr>\n",
       "  </tbody>\n",
       "</table>\n",
       "</div>"
      ],
      "text/plain": [
       "   country  year     sex          age  suicides_no  population  \\\n",
       "0  Albania  1987    male  15-24 years           21      312900   \n",
       "1  Albania  1987    male  35-54 years           16      308000   \n",
       "2  Albania  1987  female  15-24 years           14      289700   \n",
       "3  Albania  1987    male    75+ years            1       21800   \n",
       "4  Albania  1987    male  25-34 years            9      274300   \n",
       "\n",
       "   suicides/100k pop country-year  HDI for year  gdp_for_year ($)   \\\n",
       "0               6.71  Albania1987           NaN      2,156,624,900   \n",
       "1               5.19  Albania1987           NaN      2,156,624,900   \n",
       "2               4.83  Albania1987           NaN      2,156,624,900   \n",
       "3               4.59  Albania1987           NaN      2,156,624,900   \n",
       "4               3.28  Albania1987           NaN      2,156,624,900   \n",
       "\n",
       "   gdp_per_capita ($)       generation  \n",
       "0                 796     Generation X  \n",
       "1                 796           Silent  \n",
       "2                 796     Generation X  \n",
       "3                 796  G.I. Generation  \n",
       "4                 796          Boomers  "
      ]
     },
     "execution_count": 4,
     "metadata": {},
     "output_type": "execute_result"
    }
   ],
   "source": [
    "df.head()"
   ]
  },
  {
   "cell_type": "markdown",
   "metadata": {},
   "source": [
    "Данные выглядят хорошо, но видим, что есть пропущенные значения в фиче HDI for year"
   ]
  },
  {
   "cell_type": "code",
   "execution_count": 6,
   "metadata": {},
   "outputs": [
    {
     "data": {
      "text/plain": [
       "False"
      ]
     },
     "execution_count": 6,
     "metadata": {},
     "output_type": "execute_result"
    }
   ],
   "source": [
    "df.loc[:, df.columns != 'HDI for year'].isnull().values.any()"
   ]
  },
  {
   "cell_type": "markdown",
   "metadata": {},
   "source": [
    "Кроме этой колонки, других пропущенных значений нет. Думаю ее, для данного анализа, можно отбросить. "
   ]
  },
  {
   "cell_type": "code",
   "execution_count": 7,
   "metadata": {},
   "outputs": [],
   "source": [
    "df = df.loc[:, df.columns != 'HDI for year']"
   ]
  },
  {
   "cell_type": "code",
   "execution_count": 8,
   "metadata": {},
   "outputs": [
    {
     "data": {
      "text/html": [
       "<div>\n",
       "<style scoped>\n",
       "    .dataframe tbody tr th:only-of-type {\n",
       "        vertical-align: middle;\n",
       "    }\n",
       "\n",
       "    .dataframe tbody tr th {\n",
       "        vertical-align: top;\n",
       "    }\n",
       "\n",
       "    .dataframe thead th {\n",
       "        text-align: right;\n",
       "    }\n",
       "</style>\n",
       "<table border=\"1\" class=\"dataframe\">\n",
       "  <thead>\n",
       "    <tr style=\"text-align: right;\">\n",
       "      <th></th>\n",
       "      <th>country</th>\n",
       "      <th>year</th>\n",
       "      <th>sex</th>\n",
       "      <th>age</th>\n",
       "      <th>suicides_no</th>\n",
       "      <th>population</th>\n",
       "      <th>suicides/100k pop</th>\n",
       "      <th>country-year</th>\n",
       "      <th>gdp_for_year ($)</th>\n",
       "      <th>gdp_per_capita ($)</th>\n",
       "      <th>generation</th>\n",
       "    </tr>\n",
       "  </thead>\n",
       "  <tbody>\n",
       "    <tr>\n",
       "      <th>0</th>\n",
       "      <td>Albania</td>\n",
       "      <td>1987</td>\n",
       "      <td>male</td>\n",
       "      <td>15-24 years</td>\n",
       "      <td>21</td>\n",
       "      <td>312900</td>\n",
       "      <td>6.71</td>\n",
       "      <td>Albania1987</td>\n",
       "      <td>2,156,624,900</td>\n",
       "      <td>796</td>\n",
       "      <td>Generation X</td>\n",
       "    </tr>\n",
       "    <tr>\n",
       "      <th>1</th>\n",
       "      <td>Albania</td>\n",
       "      <td>1987</td>\n",
       "      <td>male</td>\n",
       "      <td>35-54 years</td>\n",
       "      <td>16</td>\n",
       "      <td>308000</td>\n",
       "      <td>5.19</td>\n",
       "      <td>Albania1987</td>\n",
       "      <td>2,156,624,900</td>\n",
       "      <td>796</td>\n",
       "      <td>Silent</td>\n",
       "    </tr>\n",
       "    <tr>\n",
       "      <th>2</th>\n",
       "      <td>Albania</td>\n",
       "      <td>1987</td>\n",
       "      <td>female</td>\n",
       "      <td>15-24 years</td>\n",
       "      <td>14</td>\n",
       "      <td>289700</td>\n",
       "      <td>4.83</td>\n",
       "      <td>Albania1987</td>\n",
       "      <td>2,156,624,900</td>\n",
       "      <td>796</td>\n",
       "      <td>Generation X</td>\n",
       "    </tr>\n",
       "    <tr>\n",
       "      <th>3</th>\n",
       "      <td>Albania</td>\n",
       "      <td>1987</td>\n",
       "      <td>male</td>\n",
       "      <td>75+ years</td>\n",
       "      <td>1</td>\n",
       "      <td>21800</td>\n",
       "      <td>4.59</td>\n",
       "      <td>Albania1987</td>\n",
       "      <td>2,156,624,900</td>\n",
       "      <td>796</td>\n",
       "      <td>G.I. Generation</td>\n",
       "    </tr>\n",
       "    <tr>\n",
       "      <th>4</th>\n",
       "      <td>Albania</td>\n",
       "      <td>1987</td>\n",
       "      <td>male</td>\n",
       "      <td>25-34 years</td>\n",
       "      <td>9</td>\n",
       "      <td>274300</td>\n",
       "      <td>3.28</td>\n",
       "      <td>Albania1987</td>\n",
       "      <td>2,156,624,900</td>\n",
       "      <td>796</td>\n",
       "      <td>Boomers</td>\n",
       "    </tr>\n",
       "  </tbody>\n",
       "</table>\n",
       "</div>"
      ],
      "text/plain": [
       "   country  year     sex          age  suicides_no  population  \\\n",
       "0  Albania  1987    male  15-24 years           21      312900   \n",
       "1  Albania  1987    male  35-54 years           16      308000   \n",
       "2  Albania  1987  female  15-24 years           14      289700   \n",
       "3  Albania  1987    male    75+ years            1       21800   \n",
       "4  Albania  1987    male  25-34 years            9      274300   \n",
       "\n",
       "   suicides/100k pop country-year  gdp_for_year ($)   gdp_per_capita ($)  \\\n",
       "0               6.71  Albania1987      2,156,624,900                 796   \n",
       "1               5.19  Albania1987      2,156,624,900                 796   \n",
       "2               4.83  Albania1987      2,156,624,900                 796   \n",
       "3               4.59  Albania1987      2,156,624,900                 796   \n",
       "4               3.28  Albania1987      2,156,624,900                 796   \n",
       "\n",
       "        generation  \n",
       "0     Generation X  \n",
       "1           Silent  \n",
       "2     Generation X  \n",
       "3  G.I. Generation  \n",
       "4          Boomers  "
      ]
     },
     "execution_count": 8,
     "metadata": {},
     "output_type": "execute_result"
    }
   ],
   "source": [
    "df.head()"
   ]
  },
  {
   "cell_type": "code",
   "execution_count": 186,
   "metadata": {},
   "outputs": [
    {
     "data": {
      "image/png": "[encoded data removed]",
      "text/plain": [
       "<Figure size 1080x432 with 1 Axes>"
      ]
     },
     "metadata": {
      "needs_background": "light"
     },
     "output_type": "display_data"
    }
   ],
   "source": [
    "fig = plt.figure(figsize =(15, 6)) \n",
    "plt.title('Зависимоть количества суицидов от пола и поколения')\n",
    "sns.barplot(x = 'sex', y = 'suicides_no', hue = 'generation', data = df,\n",
    "            palette = 'hls',\n",
    "            order = ['male', 'female'],  \n",
    "            capsize = 0.05,             \n",
    "            saturation = 8,             \n",
    "            errcolor = 'gray', errwidth = 2,  \n",
    "            ci = 'sd'  \n",
    "            )\n",
    "\n",
    "plt.show()"
   ]
  },
  {
   "cell_type": "code",
   "execution_count": 187,
   "metadata": {},
   "outputs": [
    {
     "data": {
      "image/png": "[encoded data removed]",
      "text/plain": [
       "<Figure size 1080x432 with 1 Axes>"
      ]
     },
     "metadata": {
      "needs_background": "light"
     },
     "output_type": "display_data"
    }
   ],
   "source": [
    "fig = plt.figure(figsize =(15, 6))\n",
    "plt.title('Зависимоть количества суицидов от пола и возростной группы')\n",
    "sns.barplot(x = 'sex', y = 'suicides_no', hue = 'age', data = df,\n",
    "            palette = 'hls',\n",
    "            order = ['male', 'female'],  \n",
    "            capsize = 0.05,             \n",
    "            saturation = 8,             \n",
    "            errcolor = 'gray', errwidth = 2,  \n",
    "            ci = 'sd'   \n",
    "            )\n",
    "plt.show()\n"
   ]
  },
  {
   "cell_type": "markdown",
   "metadata": {},
   "source": [
    "### Комментарий к графикам \n",
    "\n",
    "Мы можем предположить из граффиков, что мужчины больше подвержены суицидам, особенны мужчины в возрасте от 35 до 54 сел поколения Бумеров"
   ]
  },
  {
   "cell_type": "code",
   "execution_count": 20,
   "metadata": {},
   "outputs": [
    {
     "name": "stdout",
     "output_type": "stream",
     "text": [
      "\n",
      "Среднее количество самоубийств по полу и поколению \n",
      "\n",
      "sex     generation     \n",
      "female  Boomers            184.756713\n",
      "        G.I. Generation    128.755831\n",
      "        Generation X        96.703808\n",
      "        Generation Z         8.355102\n",
      "        Millenials          45.728953\n",
      "        Silent             148.425204\n",
      "male    Boomers            730.873747\n",
      "        G.I. Generation    242.970845\n",
      "        Generation X       381.699438\n",
      "        Generation Z        13.285714\n",
      "        Millenials         167.638261\n",
      "        Silent             411.519485\n",
      "Name: suicides_no, dtype: float64\n",
      "\n",
      "Стандартное отклонение количества самоубийств по полу и поколению \n",
      "\n",
      "sex     generation     \n",
      "female  Boomers             457.381226\n",
      "        G.I. Generation     357.423903\n",
      "        Generation X        271.906464\n",
      "        Generation Z         18.266134\n",
      "        Millenials          131.258175\n",
      "        Silent              405.616059\n",
      "male    Boomers            2047.742174\n",
      "        G.I. Generation     637.060934\n",
      "        Generation X       1084.965762\n",
      "        Generation Z         31.770764\n",
      "        Millenials          578.435098\n",
      "        Silent             1160.866874\n",
      "Name: suicides_no, dtype: float64\n"
     ]
    }
   ],
   "source": [
    "print(f'')\n",
    "print(f'Среднее количество самоубийств по полу и поколению ')\n",
    "print(f'')\n",
    "print(df.groupby(['sex', 'generation']).mean()['suicides_no'])\n",
    "print(f'')\n",
    "print(f'Стандартное отклонение количества самоубийств по полу и поколению ')\n",
    "print(f'')\n",
    "print(df.groupby(['sex', 'generation']).std()['suicides_no'])"
   ]
  },
  {
   "cell_type": "markdown",
   "metadata": {},
   "source": [
    "### Комметарий \n",
    "\n",
    "По этим оценкам можно сказать, что наименьше все подвержены суицидам женщины поколения Z со средним  8.35 и std 18.26"
   ]
  },
  {
   "cell_type": "code",
   "execution_count": 188,
   "metadata": {},
   "outputs": [
    {
     "data": {
      "image/png": "[encoded data removed]",
      "text/plain": [
       "<Figure size 432x1080 with 1 Axes>"
      ]
     },
     "metadata": {
      "needs_background": "light"
     },
     "output_type": "display_data"
    }
   ],
   "source": [
    "sns.set_context('paper')\n",
    "\n",
    "\n",
    "f, ax = plt.subplots(figsize = (6,15))\n",
    "plt.title('Количество суицидов по странам')\n",
    "sns.set_color_codes('pastel')\n",
    "sns.barplot(x = 'suicides_no', y = 'country', data = df,\n",
    "            label = 'Total', color = 'b', edgecolor = 'w')\n",
    "\n",
    "sns.despine(left = True, bottom = True)\n",
    "plt.show()"
   ]
  },
  {
   "cell_type": "markdown",
   "metadata": {},
   "source": [
    "На этом графике видно, что самые подверженные суицидам страны это Россия (на 1 месте), США (на 2) и Япония(на 3)"
   ]
  },
  {
   "cell_type": "markdown",
   "metadata": {},
   "source": [
    "# 1.2 \n",
    "\n",
    "Check whether there is statistical difference for suicide number between these groups: men / women. If it is found, can we claim that people of certain sex are more prone to suicides or do we need additional information?"
   ]
  },
  {
   "cell_type": "markdown",
   "metadata": {},
   "source": [
    "В этом задании, для проверки гипотез, я выбрал еритерий Велча для проверки равенства средних при разной дисперсии выборки"
   ]
  },
  {
   "cell_type": "code",
   "execution_count": 51,
   "metadata": {},
   "outputs": [],
   "source": [
    "df_m = df['suicides_no'][df['sex'] == 'male']\n",
    "df_f = df['suicides_no'][df['sex'] == 'female']"
   ]
  },
  {
   "cell_type": "code",
   "execution_count": 56,
   "metadata": {},
   "outputs": [
    {
     "data": {
      "text/plain": [
       "13910"
      ]
     },
     "execution_count": 56,
     "metadata": {},
     "output_type": "execute_result"
    }
   ],
   "source": [
    "df_f.count()"
   ]
  },
  {
   "cell_type": "code",
   "execution_count": 52,
   "metadata": {},
   "outputs": [
    {
     "data": {
      "text/html": [
       "<div>\n",
       "<style scoped>\n",
       "    .dataframe tbody tr th:only-of-type {\n",
       "        vertical-align: middle;\n",
       "    }\n",
       "\n",
       "    .dataframe tbody tr th {\n",
       "        vertical-align: top;\n",
       "    }\n",
       "\n",
       "    .dataframe thead th {\n",
       "        text-align: right;\n",
       "    }\n",
       "</style>\n",
       "<table border=\"1\" class=\"dataframe\">\n",
       "  <thead>\n",
       "    <tr style=\"text-align: right;\">\n",
       "      <th></th>\n",
       "      <th>Variable</th>\n",
       "      <th>N</th>\n",
       "      <th>Mean</th>\n",
       "      <th>SD</th>\n",
       "      <th>SE</th>\n",
       "      <th>95% Conf.</th>\n",
       "      <th>Interval</th>\n",
       "    </tr>\n",
       "  </thead>\n",
       "  <tbody>\n",
       "    <tr>\n",
       "      <th>0</th>\n",
       "      <td>suicides_no</td>\n",
       "      <td>13910.0</td>\n",
       "      <td>373.034508</td>\n",
       "      <td>1217.448508</td>\n",
       "      <td>10.322551</td>\n",
       "      <td>352.800919</td>\n",
       "      <td>393.268096</td>\n",
       "    </tr>\n",
       "    <tr>\n",
       "      <th>1</th>\n",
       "      <td>suicides_no</td>\n",
       "      <td>13910.0</td>\n",
       "      <td>112.114306</td>\n",
       "      <td>333.491224</td>\n",
       "      <td>2.827619</td>\n",
       "      <td>106.571793</td>\n",
       "      <td>117.656819</td>\n",
       "    </tr>\n",
       "    <tr>\n",
       "      <th>2</th>\n",
       "      <td>combined</td>\n",
       "      <td>27820.0</td>\n",
       "      <td>242.574407</td>\n",
       "      <td>902.047917</td>\n",
       "      <td>5.408179</td>\n",
       "      <td>231.974110</td>\n",
       "      <td>253.174704</td>\n",
       "    </tr>\n",
       "  </tbody>\n",
       "</table>\n",
       "</div>"
      ],
      "text/plain": [
       "      Variable        N        Mean           SD         SE   95% Conf.  \\\n",
       "0  suicides_no  13910.0  373.034508  1217.448508  10.322551  352.800919   \n",
       "1  suicides_no  13910.0  112.114306   333.491224   2.827619  106.571793   \n",
       "2     combined  27820.0  242.574407   902.047917   5.408179  231.974110   \n",
       "\n",
       "     Interval  \n",
       "0  393.268096  \n",
       "1  117.656819  \n",
       "2  253.174704  "
      ]
     },
     "execution_count": 52,
     "metadata": {},
     "output_type": "execute_result"
    }
   ],
   "source": [
    "# Welch's t-test\n",
    "des, res = rp.ttest(df_m, df_f,\n",
    "                            equal_variances= False)\n",
    "\n",
    "des"
   ]
  },
  {
   "cell_type": "code",
   "execution_count": 53,
   "metadata": {},
   "outputs": [
    {
     "data": {
      "text/html": [
       "<div>\n",
       "<style scoped>\n",
       "    .dataframe tbody tr th:only-of-type {\n",
       "        vertical-align: middle;\n",
       "    }\n",
       "\n",
       "    .dataframe tbody tr th {\n",
       "        vertical-align: top;\n",
       "    }\n",
       "\n",
       "    .dataframe thead th {\n",
       "        text-align: right;\n",
       "    }\n",
       "</style>\n",
       "<table border=\"1\" class=\"dataframe\">\n",
       "  <thead>\n",
       "    <tr style=\"text-align: right;\">\n",
       "      <th></th>\n",
       "      <th>Welch's t-test</th>\n",
       "      <th>results</th>\n",
       "    </tr>\n",
       "  </thead>\n",
       "  <tbody>\n",
       "    <tr>\n",
       "      <th>0</th>\n",
       "      <td>Difference (suicides_no - suicides_no) =</td>\n",
       "      <td>260.9202</td>\n",
       "    </tr>\n",
       "    <tr>\n",
       "      <th>1</th>\n",
       "      <td>Degrees of freedom =</td>\n",
       "      <td>15984.6549</td>\n",
       "    </tr>\n",
       "    <tr>\n",
       "      <th>2</th>\n",
       "      <td>t =</td>\n",
       "      <td>24.3786</td>\n",
       "    </tr>\n",
       "    <tr>\n",
       "      <th>3</th>\n",
       "      <td>Two side test p value =</td>\n",
       "      <td>0.0000</td>\n",
       "    </tr>\n",
       "    <tr>\n",
       "      <th>4</th>\n",
       "      <td>Difference &lt; 0 p value =</td>\n",
       "      <td>1.0000</td>\n",
       "    </tr>\n",
       "    <tr>\n",
       "      <th>5</th>\n",
       "      <td>Difference &gt; 0 p value =</td>\n",
       "      <td>0.0000</td>\n",
       "    </tr>\n",
       "    <tr>\n",
       "      <th>6</th>\n",
       "      <td>Cohen's d =</td>\n",
       "      <td>0.2923</td>\n",
       "    </tr>\n",
       "    <tr>\n",
       "      <th>7</th>\n",
       "      <td>Hedge's g =</td>\n",
       "      <td>0.2923</td>\n",
       "    </tr>\n",
       "    <tr>\n",
       "      <th>8</th>\n",
       "      <td>Glass's delta =</td>\n",
       "      <td>0.2143</td>\n",
       "    </tr>\n",
       "    <tr>\n",
       "      <th>9</th>\n",
       "      <td>r =</td>\n",
       "      <td>0.1893</td>\n",
       "    </tr>\n",
       "  </tbody>\n",
       "</table>\n",
       "</div>"
      ],
      "text/plain": [
       "                              Welch's t-test     results\n",
       "0  Difference (suicides_no - suicides_no) =     260.9202\n",
       "1                      Degrees of freedom =   15984.6549\n",
       "2                                       t =      24.3786\n",
       "3                   Two side test p value =       0.0000\n",
       "4                  Difference < 0 p value =       1.0000\n",
       "5                  Difference > 0 p value =       0.0000\n",
       "6                               Cohen's d =       0.2923\n",
       "7                               Hedge's g =       0.2923\n",
       "8                           Glass's delta =       0.2143\n",
       "9                                       r =       0.1893"
      ]
     },
     "execution_count": 53,
     "metadata": {},
     "output_type": "execute_result"
    }
   ],
   "source": [
    "res"
   ]
  },
  {
   "cell_type": "markdown",
   "metadata": {},
   "source": [
    "Для уточнения p-value"
   ]
  },
  {
   "cell_type": "code",
   "execution_count": 59,
   "metadata": {},
   "outputs": [
    {
     "data": {
      "text/plain": [
       "Ttest_indResult(statistic=24.378626630539273, pvalue=6.4421074798191e-129)"
      ]
     },
     "execution_count": 59,
     "metadata": {},
     "output_type": "execute_result"
    }
   ],
   "source": [
    "ttest_ind(df_m, df_f, equal_var = False)"
   ]
  },
  {
   "cell_type": "markdown",
   "metadata": {},
   "source": [
    "Так как абсолютное значение статистики теста больше чем критическое значение two-tail, средние двух выборок значительно отличаются\n",
    "Очень маленькое p-value подверждает это, и мы имеет основания отклонить нулевую гипотезу о равестве средних"
   ]
  },
  {
   "cell_type": "markdown",
   "metadata": {},
   "source": [
    "Я думаю, что мы можем сказать с большой долей уверености, что есть статистическая разница между тем, как часто совершают самоубийства мужчины и женщины в среднем "
   ]
  },
  {
   "cell_type": "markdown",
   "metadata": {},
   "source": [
    "# Часть 2 \n",
    "\n",
    "For 2016: divide countries into 3-4 groups according to the values of the gdp_per_capita feature (use statistical characteristics to determine how to divide the data into groups), check if the suicides / 100k pop indicator differs in these groups. Do not forget that for each country you have several values and they need to be aggregated or checked for each group separately."
   ]
  },
  {
   "cell_type": "markdown",
   "metadata": {},
   "source": [
    "Отберем нужные нам данные по году"
   ]
  },
  {
   "cell_type": "code",
   "execution_count": 63,
   "metadata": {},
   "outputs": [],
   "source": [
    "df_2016 = df[df['year'] == 2016]"
   ]
  },
  {
   "cell_type": "code",
   "execution_count": 64,
   "metadata": {},
   "outputs": [
    {
     "data": {
      "text/html": [
       "<div>\n",
       "<style scoped>\n",
       "    .dataframe tbody tr th:only-of-type {\n",
       "        vertical-align: middle;\n",
       "    }\n",
       "\n",
       "    .dataframe tbody tr th {\n",
       "        vertical-align: top;\n",
       "    }\n",
       "\n",
       "    .dataframe thead th {\n",
       "        text-align: right;\n",
       "    }\n",
       "</style>\n",
       "<table border=\"1\" class=\"dataframe\">\n",
       "  <thead>\n",
       "    <tr style=\"text-align: right;\">\n",
       "      <th></th>\n",
       "      <th>country</th>\n",
       "      <th>year</th>\n",
       "      <th>sex</th>\n",
       "      <th>age</th>\n",
       "      <th>suicides_no</th>\n",
       "      <th>population</th>\n",
       "      <th>suicides/100k pop</th>\n",
       "      <th>country-year</th>\n",
       "      <th>gdp_for_year ($)</th>\n",
       "      <th>gdp_per_capita ($)</th>\n",
       "      <th>generation</th>\n",
       "    </tr>\n",
       "  </thead>\n",
       "  <tbody>\n",
       "    <tr>\n",
       "      <th>1248</th>\n",
       "      <td>Armenia</td>\n",
       "      <td>2016</td>\n",
       "      <td>male</td>\n",
       "      <td>75+ years</td>\n",
       "      <td>12</td>\n",
       "      <td>61956</td>\n",
       "      <td>19.37</td>\n",
       "      <td>Armenia2016</td>\n",
       "      <td>10,546,135,160</td>\n",
       "      <td>3788</td>\n",
       "      <td>Silent</td>\n",
       "    </tr>\n",
       "    <tr>\n",
       "      <th>1249</th>\n",
       "      <td>Armenia</td>\n",
       "      <td>2016</td>\n",
       "      <td>male</td>\n",
       "      <td>55-74 years</td>\n",
       "      <td>16</td>\n",
       "      <td>237813</td>\n",
       "      <td>6.73</td>\n",
       "      <td>Armenia2016</td>\n",
       "      <td>10,546,135,160</td>\n",
       "      <td>3788</td>\n",
       "      <td>Boomers</td>\n",
       "    </tr>\n",
       "    <tr>\n",
       "      <th>1250</th>\n",
       "      <td>Armenia</td>\n",
       "      <td>2016</td>\n",
       "      <td>male</td>\n",
       "      <td>35-54 years</td>\n",
       "      <td>16</td>\n",
       "      <td>350633</td>\n",
       "      <td>4.56</td>\n",
       "      <td>Armenia2016</td>\n",
       "      <td>10,546,135,160</td>\n",
       "      <td>3788</td>\n",
       "      <td>Generation X</td>\n",
       "    </tr>\n",
       "    <tr>\n",
       "      <th>1251</th>\n",
       "      <td>Armenia</td>\n",
       "      <td>2016</td>\n",
       "      <td>male</td>\n",
       "      <td>15-24 years</td>\n",
       "      <td>5</td>\n",
       "      <td>202220</td>\n",
       "      <td>2.47</td>\n",
       "      <td>Armenia2016</td>\n",
       "      <td>10,546,135,160</td>\n",
       "      <td>3788</td>\n",
       "      <td>Millenials</td>\n",
       "    </tr>\n",
       "    <tr>\n",
       "      <th>1252</th>\n",
       "      <td>Armenia</td>\n",
       "      <td>2016</td>\n",
       "      <td>female</td>\n",
       "      <td>75+ years</td>\n",
       "      <td>2</td>\n",
       "      <td>102414</td>\n",
       "      <td>1.95</td>\n",
       "      <td>Armenia2016</td>\n",
       "      <td>10,546,135,160</td>\n",
       "      <td>3788</td>\n",
       "      <td>Silent</td>\n",
       "    </tr>\n",
       "  </tbody>\n",
       "</table>\n",
       "</div>"
      ],
      "text/plain": [
       "      country  year     sex          age  suicides_no  population  \\\n",
       "1248  Armenia  2016    male    75+ years           12       61956   \n",
       "1249  Armenia  2016    male  55-74 years           16      237813   \n",
       "1250  Armenia  2016    male  35-54 years           16      350633   \n",
       "1251  Armenia  2016    male  15-24 years            5      202220   \n",
       "1252  Armenia  2016  female    75+ years            2      102414   \n",
       "\n",
       "      suicides/100k pop country-year  gdp_for_year ($)   gdp_per_capita ($)  \\\n",
       "1248              19.37  Armenia2016     10,546,135,160                3788   \n",
       "1249               6.73  Armenia2016     10,546,135,160                3788   \n",
       "1250               4.56  Armenia2016     10,546,135,160                3788   \n",
       "1251               2.47  Armenia2016     10,546,135,160                3788   \n",
       "1252               1.95  Armenia2016     10,546,135,160                3788   \n",
       "\n",
       "        generation  \n",
       "1248        Silent  \n",
       "1249       Boomers  \n",
       "1250  Generation X  \n",
       "1251    Millenials  \n",
       "1252        Silent  "
      ]
     },
     "execution_count": 64,
     "metadata": {},
     "output_type": "execute_result"
    }
   ],
   "source": [
    "df_2016.head()"
   ]
  },
  {
   "cell_type": "markdown",
   "metadata": {},
   "source": [
    "Строим график, чтобы посмотреть, как можно разбить страны по доходу "
   ]
  },
  {
   "cell_type": "code",
   "execution_count": 87,
   "metadata": {},
   "outputs": [
    {
     "data": {
      "image/png": "[encoded data removed]",
      "text/plain": [
       "<Figure size 1152x648 with 1 Axes>"
      ]
     },
     "metadata": {
      "needs_background": "light"
     },
     "output_type": "display_data"
    }
   ],
   "source": [
    "plt.figure(figsize = (16,9))\n",
    "ax = sns.scatterplot(x=df_2016['suicides_no'], y=df_2016['gdp_per_capita ($)'])\n",
    "plt.title(\"Suiside by gfp_per_capita\")\n",
    "plt.show()"
   ]
  },
  {
   "cell_type": "markdown",
   "metadata": {},
   "source": [
    "Опять видим большой разрыв между 30 000 и 40 000, не знаю с чем связан"
   ]
  },
  {
   "cell_type": "markdown",
   "metadata": {},
   "source": [
    "Так же бросается в глаза выбрас на 1400 самоубийств. Думаю его стоит обработать"
   ]
  },
  {
   "cell_type": "code",
   "execution_count": 108,
   "metadata": {},
   "outputs": [
    {
     "data": {
      "text/html": [
       "<div>\n",
       "<style scoped>\n",
       "    .dataframe tbody tr th:only-of-type {\n",
       "        vertical-align: middle;\n",
       "    }\n",
       "\n",
       "    .dataframe tbody tr th {\n",
       "        vertical-align: top;\n",
       "    }\n",
       "\n",
       "    .dataframe thead th {\n",
       "        text-align: right;\n",
       "    }\n",
       "</style>\n",
       "<table border=\"1\" class=\"dataframe\">\n",
       "  <thead>\n",
       "    <tr style=\"text-align: right;\">\n",
       "      <th></th>\n",
       "      <th>country</th>\n",
       "      <th>year</th>\n",
       "      <th>sex</th>\n",
       "      <th>age</th>\n",
       "      <th>suicides_no</th>\n",
       "      <th>population</th>\n",
       "      <th>suicides/100k pop</th>\n",
       "      <th>country-year</th>\n",
       "      <th>gdp_for_year ($)</th>\n",
       "      <th>gdp_per_capita ($)</th>\n",
       "      <th>generation</th>\n",
       "    </tr>\n",
       "  </thead>\n",
       "  <tbody>\n",
       "    <tr>\n",
       "      <th>25303</th>\n",
       "      <td>Thailand</td>\n",
       "      <td>2016</td>\n",
       "      <td>male</td>\n",
       "      <td>35-54 years</td>\n",
       "      <td>1421</td>\n",
       "      <td>10084647</td>\n",
       "      <td>14.09</td>\n",
       "      <td>Thailand2016</td>\n",
       "      <td>411,755,164,833</td>\n",
       "      <td>6713</td>\n",
       "      <td>Generation X</td>\n",
       "    </tr>\n",
       "  </tbody>\n",
       "</table>\n",
       "</div>"
      ],
      "text/plain": [
       "        country  year   sex          age  suicides_no  population  \\\n",
       "25303  Thailand  2016  male  35-54 years         1421    10084647   \n",
       "\n",
       "       suicides/100k pop  country-year  gdp_for_year ($)   gdp_per_capita ($)  \\\n",
       "25303              14.09  Thailand2016    411,755,164,833                6713   \n",
       "\n",
       "         generation  \n",
       "25303  Generation X  "
      ]
     },
     "execution_count": 108,
     "metadata": {},
     "output_type": "execute_result"
    }
   ],
   "source": [
    "df_2016[df_2016['suicides_no'] > 1400]"
   ]
  },
  {
   "cell_type": "markdown",
   "metadata": {},
   "source": [
    "Видим, что в этом году случилось что то экстримальное с поколением Х в Тайланде. Думаю убрать это наблюдение пока что из выборки"
   ]
  },
  {
   "cell_type": "code",
   "execution_count": 117,
   "metadata": {},
   "outputs": [],
   "source": [
    "df_2016_n = df_2016.drop(df_2016[df_2016['suicides_no'] > 1400].index)   "
   ]
  },
  {
   "cell_type": "code",
   "execution_count": 118,
   "metadata": {},
   "outputs": [
    {
     "data": {
      "image/png": "[encoded data removed]",
      "text/plain": [
       "<Figure size 1152x648 with 1 Axes>"
      ]
     },
     "metadata": {
      "needs_background": "light"
     },
     "output_type": "display_data"
    }
   ],
   "source": [
    "plt.figure(figsize = (16,9))\n",
    "ax = sns.scatterplot(x=df_2016_n['suicides_no'], y=df_2016_n['gdp_per_capita ($)'])\n",
    "plt.title(\"Suiside by gfp_per_capita\")\n",
    "plt.show()"
   ]
  },
  {
   "cell_type": "markdown",
   "metadata": {},
   "source": [
    "Разбиваем данные на 4 группы"
   ]
  },
  {
   "cell_type": "code",
   "execution_count": 137,
   "metadata": {},
   "outputs": [],
   "source": [
    "df_2016_n['gdp_cat'] = pd.cut( df_2016_n['gdp_per_capita ($)'], bins = [0,11500,30000, 50000, 70000], right=False, labels=[\"Small\",\"Medium\",\"Large\", \"XL\"] )"
   ]
  },
  {
   "cell_type": "code",
   "execution_count": 143,
   "metadata": {},
   "outputs": [
    {
     "data": {
      "text/html": [
       "<div>\n",
       "<style scoped>\n",
       "    .dataframe tbody tr th:only-of-type {\n",
       "        vertical-align: middle;\n",
       "    }\n",
       "\n",
       "    .dataframe tbody tr th {\n",
       "        vertical-align: top;\n",
       "    }\n",
       "\n",
       "    .dataframe thead th {\n",
       "        text-align: right;\n",
       "    }\n",
       "</style>\n",
       "<table border=\"1\" class=\"dataframe\">\n",
       "  <thead>\n",
       "    <tr style=\"text-align: right;\">\n",
       "      <th></th>\n",
       "      <th>index</th>\n",
       "      <th>country</th>\n",
       "      <th>year</th>\n",
       "      <th>sex</th>\n",
       "      <th>age</th>\n",
       "      <th>suicides_no</th>\n",
       "      <th>population</th>\n",
       "      <th>suicides/100k pop</th>\n",
       "      <th>country-year</th>\n",
       "      <th>gdp_for_year ($)</th>\n",
       "      <th>gdp_per_capita ($)</th>\n",
       "      <th>generation</th>\n",
       "      <th>gdp_cat</th>\n",
       "    </tr>\n",
       "  </thead>\n",
       "  <tbody>\n",
       "    <tr>\n",
       "      <th>0</th>\n",
       "      <td>1248</td>\n",
       "      <td>Armenia</td>\n",
       "      <td>2016</td>\n",
       "      <td>male</td>\n",
       "      <td>75+ years</td>\n",
       "      <td>12</td>\n",
       "      <td>61956</td>\n",
       "      <td>19.37</td>\n",
       "      <td>Armenia2016</td>\n",
       "      <td>10,546,135,160</td>\n",
       "      <td>3788</td>\n",
       "      <td>Silent</td>\n",
       "      <td>Small</td>\n",
       "    </tr>\n",
       "    <tr>\n",
       "      <th>1</th>\n",
       "      <td>1249</td>\n",
       "      <td>Armenia</td>\n",
       "      <td>2016</td>\n",
       "      <td>male</td>\n",
       "      <td>55-74 years</td>\n",
       "      <td>16</td>\n",
       "      <td>237813</td>\n",
       "      <td>6.73</td>\n",
       "      <td>Armenia2016</td>\n",
       "      <td>10,546,135,160</td>\n",
       "      <td>3788</td>\n",
       "      <td>Boomers</td>\n",
       "      <td>Small</td>\n",
       "    </tr>\n",
       "    <tr>\n",
       "      <th>2</th>\n",
       "      <td>1250</td>\n",
       "      <td>Armenia</td>\n",
       "      <td>2016</td>\n",
       "      <td>male</td>\n",
       "      <td>35-54 years</td>\n",
       "      <td>16</td>\n",
       "      <td>350633</td>\n",
       "      <td>4.56</td>\n",
       "      <td>Armenia2016</td>\n",
       "      <td>10,546,135,160</td>\n",
       "      <td>3788</td>\n",
       "      <td>Generation X</td>\n",
       "      <td>Small</td>\n",
       "    </tr>\n",
       "    <tr>\n",
       "      <th>3</th>\n",
       "      <td>1251</td>\n",
       "      <td>Armenia</td>\n",
       "      <td>2016</td>\n",
       "      <td>male</td>\n",
       "      <td>15-24 years</td>\n",
       "      <td>5</td>\n",
       "      <td>202220</td>\n",
       "      <td>2.47</td>\n",
       "      <td>Armenia2016</td>\n",
       "      <td>10,546,135,160</td>\n",
       "      <td>3788</td>\n",
       "      <td>Millenials</td>\n",
       "      <td>Small</td>\n",
       "    </tr>\n",
       "    <tr>\n",
       "      <th>4</th>\n",
       "      <td>1252</td>\n",
       "      <td>Armenia</td>\n",
       "      <td>2016</td>\n",
       "      <td>female</td>\n",
       "      <td>75+ years</td>\n",
       "      <td>2</td>\n",
       "      <td>102414</td>\n",
       "      <td>1.95</td>\n",
       "      <td>Armenia2016</td>\n",
       "      <td>10,546,135,160</td>\n",
       "      <td>3788</td>\n",
       "      <td>Silent</td>\n",
       "      <td>Small</td>\n",
       "    </tr>\n",
       "    <tr>\n",
       "      <th>...</th>\n",
       "      <td>...</td>\n",
       "      <td>...</td>\n",
       "      <td>...</td>\n",
       "      <td>...</td>\n",
       "      <td>...</td>\n",
       "      <td>...</td>\n",
       "      <td>...</td>\n",
       "      <td>...</td>\n",
       "      <td>...</td>\n",
       "      <td>...</td>\n",
       "      <td>...</td>\n",
       "      <td>...</td>\n",
       "      <td>...</td>\n",
       "    </tr>\n",
       "    <tr>\n",
       "      <th>154</th>\n",
       "      <td>25307</td>\n",
       "      <td>Thailand</td>\n",
       "      <td>2016</td>\n",
       "      <td>female</td>\n",
       "      <td>75+ years</td>\n",
       "      <td>69</td>\n",
       "      <td>1589015</td>\n",
       "      <td>4.34</td>\n",
       "      <td>Thailand2016</td>\n",
       "      <td>411,755,164,833</td>\n",
       "      <td>6713</td>\n",
       "      <td>Silent</td>\n",
       "      <td>Small</td>\n",
       "    </tr>\n",
       "    <tr>\n",
       "      <th>155</th>\n",
       "      <td>25308</td>\n",
       "      <td>Thailand</td>\n",
       "      <td>2016</td>\n",
       "      <td>female</td>\n",
       "      <td>55-74 years</td>\n",
       "      <td>222</td>\n",
       "      <td>6049756</td>\n",
       "      <td>3.67</td>\n",
       "      <td>Thailand2016</td>\n",
       "      <td>411,755,164,833</td>\n",
       "      <td>6713</td>\n",
       "      <td>Boomers</td>\n",
       "      <td>Small</td>\n",
       "    </tr>\n",
       "    <tr>\n",
       "      <th>156</th>\n",
       "      <td>25309</td>\n",
       "      <td>Thailand</td>\n",
       "      <td>2016</td>\n",
       "      <td>female</td>\n",
       "      <td>35-54 years</td>\n",
       "      <td>375</td>\n",
       "      <td>10629684</td>\n",
       "      <td>3.53</td>\n",
       "      <td>Thailand2016</td>\n",
       "      <td>411,755,164,833</td>\n",
       "      <td>6713</td>\n",
       "      <td>Generation X</td>\n",
       "      <td>Small</td>\n",
       "    </tr>\n",
       "    <tr>\n",
       "      <th>157</th>\n",
       "      <td>25310</td>\n",
       "      <td>Thailand</td>\n",
       "      <td>2016</td>\n",
       "      <td>female</td>\n",
       "      <td>25-34 years</td>\n",
       "      <td>116</td>\n",
       "      <td>4702656</td>\n",
       "      <td>2.47</td>\n",
       "      <td>Thailand2016</td>\n",
       "      <td>411,755,164,833</td>\n",
       "      <td>6713</td>\n",
       "      <td>Millenials</td>\n",
       "      <td>Small</td>\n",
       "    </tr>\n",
       "    <tr>\n",
       "      <th>158</th>\n",
       "      <td>25311</td>\n",
       "      <td>Thailand</td>\n",
       "      <td>2016</td>\n",
       "      <td>female</td>\n",
       "      <td>15-24 years</td>\n",
       "      <td>60</td>\n",
       "      <td>4525574</td>\n",
       "      <td>1.33</td>\n",
       "      <td>Thailand2016</td>\n",
       "      <td>411,755,164,833</td>\n",
       "      <td>6713</td>\n",
       "      <td>Millenials</td>\n",
       "      <td>Small</td>\n",
       "    </tr>\n",
       "  </tbody>\n",
       "</table>\n",
       "<p>159 rows × 13 columns</p>\n",
       "</div>"
      ],
      "text/plain": [
       "     index   country  year     sex          age  suicides_no  population  \\\n",
       "0     1248   Armenia  2016    male    75+ years           12       61956   \n",
       "1     1249   Armenia  2016    male  55-74 years           16      237813   \n",
       "2     1250   Armenia  2016    male  35-54 years           16      350633   \n",
       "3     1251   Armenia  2016    male  15-24 years            5      202220   \n",
       "4     1252   Armenia  2016  female    75+ years            2      102414   \n",
       "..     ...       ...   ...     ...          ...          ...         ...   \n",
       "154  25307  Thailand  2016  female    75+ years           69     1589015   \n",
       "155  25308  Thailand  2016  female  55-74 years          222     6049756   \n",
       "156  25309  Thailand  2016  female  35-54 years          375    10629684   \n",
       "157  25310  Thailand  2016  female  25-34 years          116     4702656   \n",
       "158  25311  Thailand  2016  female  15-24 years           60     4525574   \n",
       "\n",
       "     suicides/100k pop  country-year  gdp_for_year ($)   gdp_per_capita ($)  \\\n",
       "0                19.37   Armenia2016     10,546,135,160                3788   \n",
       "1                 6.73   Armenia2016     10,546,135,160                3788   \n",
       "2                 4.56   Armenia2016     10,546,135,160                3788   \n",
       "3                 2.47   Armenia2016     10,546,135,160                3788   \n",
       "4                 1.95   Armenia2016     10,546,135,160                3788   \n",
       "..                 ...           ...                ...                 ...   \n",
       "154               4.34  Thailand2016    411,755,164,833                6713   \n",
       "155               3.67  Thailand2016    411,755,164,833                6713   \n",
       "156               3.53  Thailand2016    411,755,164,833                6713   \n",
       "157               2.47  Thailand2016    411,755,164,833                6713   \n",
       "158               1.33  Thailand2016    411,755,164,833                6713   \n",
       "\n",
       "       generation gdp_cat  \n",
       "0          Silent   Small  \n",
       "1         Boomers   Small  \n",
       "2    Generation X   Small  \n",
       "3      Millenials   Small  \n",
       "4          Silent   Small  \n",
       "..            ...     ...  \n",
       "154        Silent   Small  \n",
       "155       Boomers   Small  \n",
       "156  Generation X   Small  \n",
       "157    Millenials   Small  \n",
       "158    Millenials   Small  \n",
       "\n",
       "[159 rows x 13 columns]"
      ]
     },
     "execution_count": 143,
     "metadata": {},
     "output_type": "execute_result"
    }
   ],
   "source": [
    "df_2016_n.reset_index()"
   ]
  },
  {
   "cell_type": "markdown",
   "metadata": {},
   "source": [
    "Я хочу использовать ANOVA для выявления разницы, но нужно проверить вначале, что дисперсия в группах одинаковая "
   ]
  },
  {
   "cell_type": "code",
   "execution_count": 158,
   "metadata": {},
   "outputs": [
    {
     "data": {
      "text/plain": [
       "BartlettResult(statistic=47.231441183003454, pvalue=3.1031149910693605e-10)"
      ]
     },
     "execution_count": 158,
     "metadata": {},
     "output_type": "execute_result"
    }
   ],
   "source": [
    "bartlett(df_2016_n['suicides/100k pop'][df_2016_n['gdp_cat'] == 'Small'],\n",
    "      df_2016_n['suicides/100k pop'][df_2016_n['gdp_cat'] == 'Medium'],\n",
    "      df_2016_n['suicides/100k pop'][df_2016_n['gdp_cat'] == 'Large'],\n",
    "      df_2016_n['suicides/100k pop'][df_2016_n['gdp_cat'] == 'XL'])"
   ]
  },
  {
   "cell_type": "markdown",
   "metadata": {},
   "source": [
    "Как мы видим по Тесту Барлет, мы не имеет оснований отвергнуть его нулевую гипотезу о том, что все данные взяты из одной выборки с одинаковой дисперсии. По этому мы можем сделать тест ANOVA"
   ]
  },
  {
   "cell_type": "code",
   "execution_count": 159,
   "metadata": {},
   "outputs": [
    {
     "name": "stdout",
     "output_type": "stream",
     "text": [
      "\n",
      "\n"
     ]
    },
    {
     "data": {
      "text/html": [
       "<div>\n",
       "<style scoped>\n",
       "    .dataframe tbody tr th:only-of-type {\n",
       "        vertical-align: middle;\n",
       "    }\n",
       "\n",
       "    .dataframe tbody tr th {\n",
       "        vertical-align: top;\n",
       "    }\n",
       "\n",
       "    .dataframe thead th {\n",
       "        text-align: right;\n",
       "    }\n",
       "</style>\n",
       "<table border=\"1\" class=\"dataframe\">\n",
       "  <thead>\n",
       "    <tr style=\"text-align: right;\">\n",
       "      <th></th>\n",
       "      <th>Variable</th>\n",
       "      <th>N</th>\n",
       "      <th>Mean</th>\n",
       "      <th>SD</th>\n",
       "      <th>SE</th>\n",
       "      <th>95% Conf.</th>\n",
       "      <th>Interval</th>\n",
       "    </tr>\n",
       "  </thead>\n",
       "  <tbody>\n",
       "    <tr>\n",
       "      <th>0</th>\n",
       "      <td>suicides/100k pop</td>\n",
       "      <td>159.0</td>\n",
       "      <td>13.417</td>\n",
       "      <td>17.136</td>\n",
       "      <td>1.359</td>\n",
       "      <td>10.7329</td>\n",
       "      <td>16.1011</td>\n",
       "    </tr>\n",
       "  </tbody>\n",
       "</table>\n",
       "</div>"
      ],
      "text/plain": [
       "            Variable      N    Mean      SD     SE  95% Conf.  Interval\n",
       "0  suicides/100k pop  159.0  13.417  17.136  1.359    10.7329   16.1011"
      ]
     },
     "execution_count": 159,
     "metadata": {},
     "output_type": "execute_result"
    }
   ],
   "source": [
    "rp.summary_cont(df_2016_n['suicides/100k pop'])"
   ]
  },
  {
   "cell_type": "code",
   "execution_count": 160,
   "metadata": {},
   "outputs": [
    {
     "name": "stdout",
     "output_type": "stream",
     "text": [
      "\n",
      "\n"
     ]
    },
    {
     "data": {
      "text/html": [
       "<div>\n",
       "<style scoped>\n",
       "    .dataframe tbody tr th:only-of-type {\n",
       "        vertical-align: middle;\n",
       "    }\n",
       "\n",
       "    .dataframe tbody tr th {\n",
       "        vertical-align: top;\n",
       "    }\n",
       "\n",
       "    .dataframe thead th {\n",
       "        text-align: right;\n",
       "    }\n",
       "</style>\n",
       "<table border=\"1\" class=\"dataframe\">\n",
       "  <thead>\n",
       "    <tr style=\"text-align: right;\">\n",
       "      <th></th>\n",
       "      <th>N</th>\n",
       "      <th>Mean</th>\n",
       "      <th>SD</th>\n",
       "      <th>SE</th>\n",
       "      <th>95% Conf.</th>\n",
       "      <th>Interval</th>\n",
       "    </tr>\n",
       "    <tr>\n",
       "      <th>gdp_cat</th>\n",
       "      <th></th>\n",
       "      <th></th>\n",
       "      <th></th>\n",
       "      <th></th>\n",
       "      <th></th>\n",
       "      <th></th>\n",
       "    </tr>\n",
       "  </thead>\n",
       "  <tbody>\n",
       "    <tr>\n",
       "      <th>Small</th>\n",
       "      <td>59</td>\n",
       "      <td>8.5392</td>\n",
       "      <td>10.4251</td>\n",
       "      <td>1.3572</td>\n",
       "      <td>5.8223</td>\n",
       "      <td>11.2560</td>\n",
       "    </tr>\n",
       "    <tr>\n",
       "      <th>Medium</th>\n",
       "      <td>50</td>\n",
       "      <td>20.5106</td>\n",
       "      <td>24.1853</td>\n",
       "      <td>3.4203</td>\n",
       "      <td>13.6372</td>\n",
       "      <td>27.3840</td>\n",
       "    </tr>\n",
       "    <tr>\n",
       "      <th>Large</th>\n",
       "      <td>20</td>\n",
       "      <td>15.5310</td>\n",
       "      <td>14.5541</td>\n",
       "      <td>3.2544</td>\n",
       "      <td>8.7195</td>\n",
       "      <td>22.3425</td>\n",
       "    </tr>\n",
       "    <tr>\n",
       "      <th>XL</th>\n",
       "      <td>30</td>\n",
       "      <td>9.7780</td>\n",
       "      <td>10.1696</td>\n",
       "      <td>1.8567</td>\n",
       "      <td>5.9806</td>\n",
       "      <td>13.5754</td>\n",
       "    </tr>\n",
       "  </tbody>\n",
       "</table>\n",
       "</div>"
      ],
      "text/plain": [
       "          N     Mean       SD      SE  95% Conf.  Interval\n",
       "gdp_cat                                                   \n",
       "Small    59   8.5392  10.4251  1.3572     5.8223   11.2560\n",
       "Medium   50  20.5106  24.1853  3.4203    13.6372   27.3840\n",
       "Large    20  15.5310  14.5541  3.2544     8.7195   22.3425\n",
       "XL       30   9.7780  10.1696  1.8567     5.9806   13.5754"
      ]
     },
     "execution_count": 160,
     "metadata": {},
     "output_type": "execute_result"
    }
   ],
   "source": [
    "rp.summary_cont(df_2016_n['suicides/100k pop'].groupby(df_2016_n['gdp_cat']))"
   ]
  },
  {
   "cell_type": "markdown",
   "metadata": {},
   "source": [
    "Проведем тест ANOVA"
   ]
  },
  {
   "cell_type": "code",
   "execution_count": 170,
   "metadata": {},
   "outputs": [],
   "source": [
    "df_2016_n.rename(columns = {'suicides/100k_pop':'suicides100k_pop'}, inplace = True) "
   ]
  },
  {
   "cell_type": "code",
   "execution_count": 172,
   "metadata": {},
   "outputs": [
    {
     "data": {
      "text/html": [
       "<div>\n",
       "<style scoped>\n",
       "    .dataframe tbody tr th:only-of-type {\n",
       "        vertical-align: middle;\n",
       "    }\n",
       "\n",
       "    .dataframe tbody tr th {\n",
       "        vertical-align: top;\n",
       "    }\n",
       "\n",
       "    .dataframe thead th {\n",
       "        text-align: right;\n",
       "    }\n",
       "</style>\n",
       "<table border=\"1\" class=\"dataframe\">\n",
       "  <thead>\n",
       "    <tr style=\"text-align: right;\">\n",
       "      <th></th>\n",
       "      <th>sum_sq</th>\n",
       "      <th>df</th>\n",
       "      <th>F</th>\n",
       "      <th>PR(&gt;F)</th>\n",
       "    </tr>\n",
       "  </thead>\n",
       "  <tbody>\n",
       "    <tr>\n",
       "      <th>C(gdp_cat)</th>\n",
       "      <td>4406.417951</td>\n",
       "      <td>3.0</td>\n",
       "      <td>5.422013</td>\n",
       "      <td>0.001424</td>\n",
       "    </tr>\n",
       "    <tr>\n",
       "      <th>Residual</th>\n",
       "      <td>41989.003600</td>\n",
       "      <td>155.0</td>\n",
       "      <td>NaN</td>\n",
       "      <td>NaN</td>\n",
       "    </tr>\n",
       "  </tbody>\n",
       "</table>\n",
       "</div>"
      ],
      "text/plain": [
       "                  sum_sq     df         F    PR(>F)\n",
       "C(gdp_cat)   4406.417951    3.0  5.422013  0.001424\n",
       "Residual    41989.003600  155.0       NaN       NaN"
      ]
     },
     "execution_count": 172,
     "metadata": {},
     "output_type": "execute_result"
    }
   ],
   "source": [
    "model = ols('suicides100k_pop ~ C(gdp_cat)', data=df_2016_n).fit()\n",
    "aov_table = sm.stats.anova_lm(model, typ=2)\n",
    "aov_table"
   ]
  },
  {
   "cell_type": "markdown",
   "metadata": {},
   "source": [
    "По результатам теста мы можем предположить, что существует существенная разница количества смертей от суицида, от колчиства gdp_per_capita ($). Но нам нужно провести еще дополнительный анализ."
   ]
  },
  {
   "cell_type": "code",
   "execution_count": 173,
   "metadata": {},
   "outputs": [
    {
     "data": {
      "text/html": [
       "<div>\n",
       "<style scoped>\n",
       "    .dataframe tbody tr th:only-of-type {\n",
       "        vertical-align: middle;\n",
       "    }\n",
       "\n",
       "    .dataframe tbody tr th {\n",
       "        vertical-align: top;\n",
       "    }\n",
       "\n",
       "    .dataframe thead th {\n",
       "        text-align: right;\n",
       "    }\n",
       "</style>\n",
       "<table border=\"1\" class=\"dataframe\">\n",
       "  <thead>\n",
       "    <tr style=\"text-align: right;\">\n",
       "      <th></th>\n",
       "      <th>sum_sq</th>\n",
       "      <th>df</th>\n",
       "      <th>mean_sq</th>\n",
       "      <th>F</th>\n",
       "      <th>PR(&gt;F)</th>\n",
       "      <th>eta_sq</th>\n",
       "      <th>omega_sq</th>\n",
       "    </tr>\n",
       "  </thead>\n",
       "  <tbody>\n",
       "    <tr>\n",
       "      <th>C(gdp_cat)</th>\n",
       "      <td>4406.417951</td>\n",
       "      <td>3.0</td>\n",
       "      <td>1468.805984</td>\n",
       "      <td>5.422013</td>\n",
       "      <td>0.001424</td>\n",
       "      <td>0.094975</td>\n",
       "      <td>0.077009</td>\n",
       "    </tr>\n",
       "    <tr>\n",
       "      <th>Residual</th>\n",
       "      <td>41989.003600</td>\n",
       "      <td>155.0</td>\n",
       "      <td>270.896797</td>\n",
       "      <td>NaN</td>\n",
       "      <td>NaN</td>\n",
       "      <td>NaN</td>\n",
       "      <td>NaN</td>\n",
       "    </tr>\n",
       "  </tbody>\n",
       "</table>\n",
       "</div>"
      ],
      "text/plain": [
       "                  sum_sq     df      mean_sq         F    PR(>F)    eta_sq  \\\n",
       "C(gdp_cat)   4406.417951    3.0  1468.805984  5.422013  0.001424  0.094975   \n",
       "Residual    41989.003600  155.0   270.896797       NaN       NaN       NaN   \n",
       "\n",
       "            omega_sq  \n",
       "C(gdp_cat)  0.077009  \n",
       "Residual         NaN  "
      ]
     },
     "execution_count": 173,
     "metadata": {},
     "output_type": "execute_result"
    }
   ],
   "source": [
    "def anova_table(aov):\n",
    "    aov['mean_sq'] = aov[:]['sum_sq']/aov[:]['df']\n",
    "\n",
    "    aov['eta_sq'] = aov[:-1]['sum_sq']/sum(aov['sum_sq'])\n",
    "\n",
    "    aov['omega_sq'] = (aov[:-1]['sum_sq']-(aov[:-1]['df']*aov['mean_sq'][-1]))/(sum(aov['sum_sq'])+aov['mean_sq'][-1])\n",
    "\n",
    "    cols = ['sum_sq', 'df', 'mean_sq', 'F', 'PR(>F)', 'eta_sq', 'omega_sq']\n",
    "    aov = aov[cols]\n",
    "    return aov\n",
    "\n",
    "anova_table(aov_table)"
   ]
  },
  {
   "cell_type": "markdown",
   "metadata": {},
   "source": [
    "### Независимость\n",
    "\n",
    "Не могу сказать, каким образом собиралась это выборка, но предположу, что условия независимости здесь выполняются"
   ]
  },
  {
   "cell_type": "markdown",
   "metadata": {},
   "source": [
    "### Нормальность\n",
    "\n",
    "Нужно проверить остатки на нормальность. Для этого воспользуемся тестом Шапиро-Вилка. "
   ]
  },
  {
   "cell_type": "code",
   "execution_count": 175,
   "metadata": {},
   "outputs": [
    {
     "data": {
      "text/plain": [
       "ShapiroResult(statistic=0.7902101278305054, pvalue=7.972616978494523e-14)"
      ]
     },
     "execution_count": 175,
     "metadata": {},
     "output_type": "execute_result"
    }
   ],
   "source": [
    "shapiro(model.resid)"
   ]
  },
  {
   "cell_type": "markdown",
   "metadata": {},
   "source": [
    "Нулевая гипотеза состоит в том, что данные взяты из нормального распределения\n",
    "\n",
    "По результат теста видим, что у нас нет оснований отвергать нулевую гипотезу "
   ]
  },
  {
   "cell_type": "markdown",
   "metadata": {},
   "source": [
    "Убедимся в этом, построив график "
   ]
  },
  {
   "cell_type": "code",
   "execution_count": 180,
   "metadata": {},
   "outputs": [
    {
     "data": {
      "image/png": "[encoded data removed]",
      "text/plain": [
       "<Figure size 720x720 with 1 Axes>"
      ]
     },
     "metadata": {
      "needs_background": "light"
     },
     "output_type": "display_data"
    }
   ],
   "source": [
    "fig = plt.figure(figsize= (10, 10))\n",
    "ax = fig.add_subplot(111)\n",
    "\n",
    "normality_plot, stat = probplot(model.resid, plot= plt, rvalue= True)\n",
    "ax.set_title(\"Probability plot of model residual's\", fontsize= 20)\n",
    "ax.set\n",
    "\n",
    "plt.show()"
   ]
  },
  {
   "cell_type": "markdown",
   "metadata": {},
   "source": [
    "Не смотря на то, что тест показал нормальное распределение остатков, по графику видно, что это не так \n",
    "\n",
    "$R^2$ взяты из таблицы для N=155 примерно равен  0.9909\n",
    "\n",
    "расчитанный $R^2$ не дотягивает до этого значения"
   ]
  },
  {
   "cell_type": "markdown",
   "metadata": {},
   "source": [
    "Мы можем придти к выводу, что лучше использовать непараметрически тесты ANOVA такие как Welch`s ANOVA или Kruskal-Wallis ANOVA."
   ]
  },
  {
   "cell_type": "markdown",
   "metadata": {},
   "source": [
    "## Welch`s ANOVA "
   ]
  },
  {
   "cell_type": "code",
   "execution_count": 185,
   "metadata": {},
   "outputs": [
    {
     "data": {
      "text/html": [
       "<div>\n",
       "<style scoped>\n",
       "    .dataframe tbody tr th:only-of-type {\n",
       "        vertical-align: middle;\n",
       "    }\n",
       "\n",
       "    .dataframe tbody tr th {\n",
       "        vertical-align: top;\n",
       "    }\n",
       "\n",
       "    .dataframe thead th {\n",
       "        text-align: right;\n",
       "    }\n",
       "</style>\n",
       "<table border=\"1\" class=\"dataframe\">\n",
       "  <thead>\n",
       "    <tr style=\"text-align: right;\">\n",
       "      <th></th>\n",
       "      <th>Source</th>\n",
       "      <th>ddof1</th>\n",
       "      <th>ddof2</th>\n",
       "      <th>F</th>\n",
       "      <th>p-unc</th>\n",
       "      <th>np2</th>\n",
       "    </tr>\n",
       "  </thead>\n",
       "  <tbody>\n",
       "    <tr>\n",
       "      <th>0</th>\n",
       "      <td>gdp_cat</td>\n",
       "      <td>3</td>\n",
       "      <td>61.232054</td>\n",
       "      <td>4.303389</td>\n",
       "      <td>0.00807</td>\n",
       "      <td>0.094975</td>\n",
       "    </tr>\n",
       "  </tbody>\n",
       "</table>\n",
       "</div>"
      ],
      "text/plain": [
       "    Source  ddof1      ddof2         F    p-unc       np2\n",
       "0  gdp_cat      3  61.232054  4.303389  0.00807  0.094975"
      ]
     },
     "execution_count": 185,
     "metadata": {},
     "output_type": "execute_result"
    }
   ],
   "source": [
    "aov = welch_anova(dv='suicides100k_pop', between='gdp_cat', data=df_2016_n)\n",
    "aov"
   ]
  },
  {
   "cell_type": "markdown",
   "metadata": {},
   "source": [
    "По результатам теста мы можем предположить, что существует существенная разница количества смертей от суицида, от колчиства gdp_per_capita ($). Но нам нужно провести еще дополнительный анализ.\n",
    "\n",
    "Но для того, чтобы это подтвердить, нам нужно проверить, соблюдены ли все условия теста. "
   ]
  }
 ],
 "metadata": {
  "kernelspec": {
   "display_name": "Python 3",
   "language": "python",
   "name": "python3"
  },
  "language_info": {
   "codemirror_mode": {
    "name": "ipython",
    "version": 3
   },
   "file_extension": ".py",
   "mimetype": "text/x-python",
   "name": "python",
   "nbconvert_exporter": "python",
   "pygments_lexer": "ipython3",
   "version": "3.8.5"
  },
  "latex_envs": {
   "LaTeX_envs_menu_present": true,
   "autoclose": false,
   "autocomplete": true,
   "bibliofile": "biblio.bib",
   "cite_by": "apalike",
   "current_citInitial": 1,
   "eqLabelWithNumbers": true,
   "eqNumInitial": 1,
   "hotkeys": {
    "equation": "Ctrl-E",
    "itemize": "Ctrl-I"
   },
   "labels_anchors": false,
   "latex_user_defs": false,
   "report_style_numbering": false,
   "user_envs_cfg": false
  }
 },
 "nbformat": 4,
 "nbformat_minor": 4
}
