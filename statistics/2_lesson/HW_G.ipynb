{
 "cells": [
  {
   "cell_type": "markdown",
   "metadata": {
    "colab_type": "text",
    "id": "Sr8byGjLDSAM"
   },
   "source": [
    "# Homework for statistics module"
   ]
  },
  {
   "cell_type": "markdown",
   "metadata": {
    "colab_type": "text",
    "id": "UL6_4Iw4DSAN"
   },
   "source": [
    "Rules for code style:\n",
    "* All the code in this notebook\n",
    "* Imports are provided in the head of the notebook\n",
    "* All the cells could be ran in the right order from the top to the bottom\n",
    "* Commentaries are required\n",
    "* All the plots should have: title, axis labels and summaries (if necessary)\n",
    "* Main summaries are provided in cells using markdown **(your analysis of the results and data is very important!!!)**\n",
    "* Try to use functions and classes to reduce duplicated code blocks to minimum\n",
    "\n",
    "Also you can use $\\LaTeX$ to write formulas. F.e. $\\bar{y} = \\frac{1}{n}\\sum_{i=1}^n \\hat{x}_i$ or on a new line:\n",
    "$$\n",
    "    \\bar{y} = \\frac{1}{n}\\sum_{i=1}^n \\hat{x}_i\n",
    "$$\n",
    "To do so, you can write anything between $\\$ \\quad \\$$ (или $ \\$\\$ \\quad\\$\\$ $).\n"
   ]
  },
  {
   "cell_type": "markdown",
   "metadata": {
    "colab_type": "text",
    "id": "ufiYfMhgDSAN"
   },
   "source": [
    "### Criteria (50 points total):\n",
    "* Task 1 (17 points)\n",
    "\n",
    "    * Requested formulas are provided - 4 points\n",
    "    * All 18 necessary experiments are done - 6 points\n",
    "    * Results are analysed with commentaries - 7 points\n",
    "* Tasks 2.1 и 2.2 (16 points)\n",
    "\n",
    "    * Visualization and/or simple exploratory data analysis are implemented - 2 points\n",
    "    * Hypotheses are tested - 2 points\n",
    "    * Results are analysed with commentaries - 4 points\n",
    "* Task 3 (13 points)\n",
    "\n",
    "    * Visualization and/or simple exploratory data analysis are implemented - 2 points\n",
    "    * Hypotheses are tested - 4 points\n",
    "    * Data was aggregated properly - 2 points\n",
    "    * Results are analysed with commentaries - 5 points\n",
    "* Extra points:\n",
    "\n",
    "    * 4 points in case clear, \"pythonic\" and understandable code style.\n",
    "\n",
    "Good work: 40+ points."
   ]
  },
  {
   "cell_type": "code",
   "execution_count": 433,
   "metadata": {
    "colab": {},
    "colab_type": "code",
    "id": "rD6aWKGoDSAO"
   },
   "outputs": [],
   "source": [
    "import pandas as pd\n",
    "import numpy as np\n",
    "import scipy.stats as st\n",
    "\n",
    "import matplotlib.pyplot as plt\n",
    "%matplotlib inline\n",
    "\n",
    "# <<<All the imports here>>>\n",
    " "
   ]
  },
  {
   "cell_type": "markdown",
   "metadata": {
    "colab_type": "text",
    "id": "OLbYtBCODSAQ"
   },
   "source": [
    "# Task 1\n",
    "\n",
    "## Stratification\n",
    "\n",
    "The example:\n",
    "\n",
    "Let's assume, we need to estimate a mean votes count for every election candidate. Suppose there are 3 cities in a country: 1 million factory workers live in city A, 2 million office workers live in city B, and 3 million senior citizens live in city B. We can choose a random sample of 60 votes from the entire population, but there is some chance that the random sample will be poorly balanced between these cities and, therefore, will be biased and of little use (\"average temperature in the hospital\"), causing a significant error in the estimation. Instead, if we choose to use a simple random sample of 10, 20 and 30 votes from cities A, B and C, respectively, we can get a smaller error in the estimate with the same total sample size. This technique is called stratification.\n",
    "\n",
    "\n",
    "### The task\n",
    "\n",
    "Suppose the population is a mixture of 3 normally distributed CBs. In other words, the population can be divided into 3 strata.\n",
    "$$\n",
    "    F(X) = a_1 F(X_1) + a_2 F(X_2) + a_3 F(X_3)\n",
    "$$\n",
    "\n",
    "**Goals:**  \n",
    "\n",
    "1. Derive (for example, in the block below, using Markdown) the formulas for point estimates of the mathematical expectation and variance for the average value of subsamples formed in different ways:\n",
    "- random selection from the entire population;\n",
    "- random selection of strata in proportion to shares;\n",
    "- random selection according to the optimal sub-sampling.\n",
    "\n",
    "2. Calculate point estimates of the mathematical expectation and variance for the average value for each data sampling method from p.1, provided:\n",
    "* Experiments should be conducted for 3 cases (for every method from p.1 each):\n",
    "     * all strata have the same mat. expectations and variance;\n",
    "     * strata have different mat. expectations, but the same variance;\n",
    "     * strata have different mat. expectations and variance.\n",
    "* Repeat this for these sample sizes: 40 and 500;\n",
    "* Also a single experiment is repeated 1000 times;\n",
    "\n",
    "Thus, total number of experiments will be equal to 18 (3 methods of sampling \\* 3 cases of distribution parameters \\* 2 sample sizes).  \n",
    "\n",
    "**Example**: you conduct an experiment for random sample method with equal ME and variance of stata. For each strata you sample the data with size equal to 40 and estimate the statistics 1000 times. Thus, now you can average the results or plot boxplots (we suggest you do this) to compare the point estimations for each strata. Then you repeat this for sample size equal to 500. And then you can conduct the same pipeline for different sampling methods.  \n",
    "\n",
    "Define the parameters of normal distributions, fractions and size of the subsample yourself.\n",
    "To facilitate the structuring of the code, you can draw up your solution using the specified class:"
   ]
  },
  {
   "cell_type": "code",
   "execution_count": 490,
   "metadata": {
    "colab": {},
    "colab_type": "code",
    "id": "68p44IFRDSAR"
   },
   "outputs": [],
   "source": [
    "class Experiment:\n",
    "\n",
    "    def __init__(self, means, stds, random_state=42):\n",
    "        \"\"\"Initializes our experiment and saves the given distributions\n",
    "        \n",
    "        :param means: List of expectations for normal distributions\n",
    "        :param stds: List of standard deviations for normal distributions\n",
    "        :param random_state: Parameter fixing randomness. Needed so that when conducting\n",
    "        experiment repeatedly with the same input parameters, the results remained the same\n",
    "        \"\"\"\n",
    "        self.means = means\n",
    "        self.stds = stds\n",
    "        self.random_state = random_state\n",
    "        self.strats = [st.norm(mean, std) for mean, std in zip(means, stds)]\n",
    "    \n",
    "    def sample(self, sizes):\n",
    "        \"\"\"Creates a population sample\n",
    "        \n",
    "        :param sizes: List with sample sizes of the corresponding normal distributions\n",
    "        \"\"\"\n",
    "    \n",
    "        self.strats_samples = [rv.rvs(size) for rv, size in zip(self.strats, self.sizes)]\n",
    "        self.general_samples = np.hstack(self.strats_samples)\n",
    "        self.N = self.general_samples.shape[0]\n",
    " \n",
    "        \n",
    "\n",
    "    def random_subsampling(self, size):\n",
    "        \"\"\"Creates a random subset of the entire population\n",
    "        \n",
    "        :param sizes: subsample size\n",
    "        \"\"\"\n",
    "      \n",
    "    def proportional_subsampling(self, size):\n",
    "        \"\"\"Creates a subsample with the number of elements, proportional shares of strata\n",
    "        \n",
    "        :param sizes: subsample size\n",
    "        \"\"\"\n",
    " \n",
    "    \n",
    "      \n",
    "    def optimal_subsampling(self, size):\n",
    "        \"\"\"Creates a subsample with the optimal number of elements relative to strata\n",
    "        \n",
    "        :param sizes: subsample size\n",
    "        \"\"\"\n",
    " \n",
    " \n",
    "    \n",
    "    \n",
    "    def run_experiments(self, subsampling_method, n_experiments=1000):\n",
    "        \"\"\"Conducts a series of experiments and saves the results\n",
    "        \n",
    "        :param subsampling_method: method for creating a subsample\n",
    "        :param n_experiments: number of experiment starts\n",
    "        \"\"\"\n",
    " "
   ]
  },
  {
   "cell_type": "markdown",
   "metadata": {
    "colab_type": "text",
    "id": "JISeS1kqDSAX"
   },
   "source": [
    "# Task 2\n",
    "\n",
    "Data is here https://drive.google.com/drive/folders/1zlvCNV6zNY9i3KIiFM6McByEgPBn_y2w?usp=sharing\n",
    "\n",
    "### Part 1\n",
    "Using [this criteria](https://support.minitab.com/en-us/minitab-express/1/help-and-how-to/modeling-statistics/regression/how-to/correlation/interpret-the-results/#:~:text=For%20the%20Pearson%20correlation%2C%20an,linear%20relationship%20between%20the%20variables.&text=If%20both%20variables%20tend%20to,represents%20the%20correlation%20slopes%20upward.), check whether there is a correlation between a brain size and intelligence for a dataset consisted both of men and women objects. Also check it for men and women subsamples separately.\n",
    "\n",
    "**Data is in `HW1_task2_brain_data.tsv`**\n",
    "\n",
    "### Part 2\n",
    "Using $Chi^2$ criteria check whether there is a statistical difference between men's and women's choice of auto.  (Features `Sex` и `PreferCar`)\n",
    "\n",
    "**Data is in `HW1_task2_car_prefs_data.tsv`**"
   ]
  },
  {
   "cell_type": "code",
   "execution_count": null,
   "metadata": {},
   "outputs": [],
   "source": [
    "# <<<YOUR CODE HERE>>>"
   ]
  },
  {
   "cell_type": "markdown",
   "metadata": {
    "colab_type": "text",
    "id": "w1zlsldkDSAZ"
   },
   "source": [
    "# Task 3\n",
    "\n",
    "You can find and download a dataset there:\n",
    "https://www.kaggle.com/russellyates88/suicide-rates-overview-1985-to-2016\n",
    "\n",
    "\n",
    "1) For any country (you are free to choose any of the presented) \n",
    " *  Visualize a feature **suicides_no** considering other features: **sex**, **age** (or **generation**) and year;\n",
    " *  Check whether there is statistical difference for suicide number between these groups: men / women. If it is found, can we claim that people of certain sex are more prone to suicides or do we need additional information?\n",
    "\n",
    "2) For 2016: divide countries into 3-4 groups according to the values of the **gdp_per_capita** feature (use statistical characteristics to determine how to divide the data into groups), check if the suicides / 100k pop indicator differs in these groups. Do not forget that for each country you have several values and they need to be aggregated or checked for each group separately."
   ]
  },
  {
   "cell_type": "code",
   "execution_count": null,
   "metadata": {
    "colab": {},
    "colab_type": "code",
    "id": "Vf9JU8tjjG-B"
   },
   "outputs": [],
   "source": [
    "# <<<YOUR CODE HERE>>>"
   ]
  }
 ],
 "metadata": {
  "colab": {
   "collapsed_sections": [],
   "name": "1_Statistics_HW_engl.ipynb",
   "provenance": []
  },
  "kernelspec": {
   "display_name": "Python 3",
   "language": "python",
   "name": "python3"
  },
  "language_info": {
   "codemirror_mode": {
    "name": "ipython",
    "version": 3
   },
   "file_extension": ".py",
   "mimetype": "text/x-python",
   "name": "python",
   "nbconvert_exporter": "python",
   "pygments_lexer": "ipython3",
   "version": "3.8.5"
  },
  "latex_envs": {
   "LaTeX_envs_menu_present": true,
   "autoclose": false,
   "autocomplete": true,
   "bibliofile": "biblio.bib",
   "cite_by": "apalike",
   "current_citInitial": 1,
   "eqLabelWithNumbers": true,
   "eqNumInitial": 1,
   "hotkeys": {
    "equation": "Ctrl-E",
    "itemize": "Ctrl-I"
   },
   "labels_anchors": false,
   "latex_user_defs": false,
   "report_style_numbering": false,
   "user_envs_cfg": false
  },
  "toc": {
   "base_numbering": 1,
   "nav_menu": {},
   "number_sections": true,
   "sideBar": true,
   "skip_h1_title": false,
   "title_cell": "Table of Contents",
   "title_sidebar": "Contents",
   "toc_cell": false,
   "toc_position": {},
   "toc_section_display": true,
   "toc_window_display": false
  }
 },
 "nbformat": 4,
 "nbformat_minor": 1
}
