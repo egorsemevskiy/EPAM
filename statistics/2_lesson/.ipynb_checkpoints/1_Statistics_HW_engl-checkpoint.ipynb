{
 "cells": [
  {
   "cell_type": "markdown",
   "metadata": {
    "colab_type": "text",
    "id": "Sr8byGjLDSAM"
   },
   "source": [
    "# Homework for statistics module"
   ]
  },
  {
   "cell_type": "markdown",
   "metadata": {
    "colab_type": "text",
    "id": "UL6_4Iw4DSAN"
   },
   "source": [
    "Rules for code style:\n",
    "* All the code in this notebook\n",
    "* Imports are provided in the head of the notebook\n",
    "* All the cells could be ran in the right order from the top to the bottom\n",
    "* Commentaries are required\n",
    "* All the plots should have: title, axis labels and summaries (if necessary)\n",
    "* Main summaries are provided in cells using markdown **(your analysis of the results and data is very important!!!)**\n",
    "* Try to use functions and classes to reduce duplicated code blocks to minimum\n",
    "\n",
    "Also you can use $\\LaTeX$ to write formulas. F.e. $\\bar{y} = \\frac{1}{n}\\sum_{i=1}^n \\hat{x}_i$ or on a new line:\n",
    "$$\n",
    "    \\bar{y} = \\frac{1}{n}\\sum_{i=1}^n \\hat{x}_i\n",
    "$$\n",
    "To do so, you can write anything between $\\$ \\quad \\$$ (или $ \\$\\$ \\quad\\$\\$ $).\n"
   ]
  },
  {
   "cell_type": "markdown",
   "metadata": {
    "colab_type": "text",
    "id": "ufiYfMhgDSAN"
   },
   "source": [
    "### Criteria (50 points total):\n",
    "* Task 1 (17 points)\n",
    "\n",
    "    * Requested formulas are provided - 4 points\n",
    "    * All 18 necessary experiments are done - 6 points\n",
    "    * Results are analysed with commentaries - 7 points\n",
    "* Tasks 2.1 и 2.2 (16 points)\n",
    "\n",
    "    * Visualization and/or simple exploratory data analysis are implemented - 2 points\n",
    "    * Hypotheses are tested - 2 points\n",
    "    * Results are analysed with commentaries - 4 points\n",
    "* Task 3 (13 points)\n",
    "\n",
    "    * Visualization and/or simple exploratory data analysis are implemented - 2 points\n",
    "    * Hypotheses are tested - 4 points\n",
    "    * Data was aggregated properly - 2 points\n",
    "    * Results are analysed with commentaries - 5 points\n",
    "* Extra points:\n",
    "\n",
    "    * 4 points in case clear, \"pythonic\" and understandable code style.\n",
    "\n",
    "Good work: 40+ points."
   ]
  },
  {
   "cell_type": "code",
   "execution_count": 433,
   "metadata": {
    "colab": {},
    "colab_type": "code",
    "id": "rD6aWKGoDSAO"
   },
   "outputs": [],
   "source": [
    "import pandas as pd\n",
    "import numpy as np\n",
    "import scipy.stats as st\n",
    "\n",
    "import matplotlib.pyplot as plt\n",
    "%matplotlib inline\n",
    "\n",
    "# <<<All the imports here>>>\n",
    "import itertools"
   ]
  },
  {
   "cell_type": "markdown",
   "metadata": {
    "colab_type": "text",
    "id": "OLbYtBCODSAQ"
   },
   "source": [
    "# Task 1\n",
    "\n",
    "## Stratification\n",
    "\n",
    "The example:\n",
    "\n",
    "Let's assume, we need to estimate a mean votes count for every election candidate. Suppose there are 3 cities in a country: 1 million factory workers live in city A, 2 million office workers live in city B, and 3 million senior citizens live in city B. We can choose a random sample of 60 votes from the entire population, but there is some chance that the random sample will be poorly balanced between these cities and, therefore, will be biased and of little use (\"average temperature in the hospital\"), causing a significant error in the estimation. Instead, if we choose to use a simple random sample of 10, 20 and 30 votes from cities A, B and C, respectively, we can get a smaller error in the estimate with the same total sample size. This technique is called stratification.\n",
    "\n",
    "\n",
    "### The task\n",
    "\n",
    "Suppose the population is a mixture of 3 normally distributed CBs. In other words, the population can be divided into 3 strata.\n",
    "$$\n",
    "    F(X) = a_1 F(X_1) + a_2 F(X_2) + a_3 F(X_3)\n",
    "$$\n",
    "\n",
    "**Goals:**  \n",
    "\n",
    "1. Derive (for example, in the block below, using Markdown) the formulas for point estimates of the mathematical expectation and variance for the average value of subsamples formed in different ways:\n",
    "- random selection from the entire population;\n",
    "- random selection of strata in proportion to shares;\n",
    "- random selection according to the optimal sub-sampling.\n",
    "\n",
    "2. Calculate point estimates of the mathematical expectation and variance for the average value for each data sampling method from p.1, provided:\n",
    "* Experiments should be conducted for 3 cases (for every method from p.1 each):\n",
    "     * all strata have the same mat. expectations and variance;\n",
    "     * strata have different mat. expectations, but the same variance;\n",
    "     * strata have different mat. expectations and variance.\n",
    "* Repeat this for these sample sizes: 40 and 500;\n",
    "* Also a single experiment is repeated 1000 times;\n",
    "\n",
    "Thus, total number of experiments will be equal to 18 (3 methods of sampling \\* 3 cases of distribution parameters \\* 2 sample sizes).  \n",
    "\n",
    "**Example**: you conduct an experiment for random sample method with equal ME and variance of stata. For each strata you sample the data with size equal to 40 and estimate the statistics 1000 times. Thus, now you can average the results or plot boxplots (we suggest you do this) to compare the point estimations for each strata. Then you repeat this for sample size equal to 500. And then you can conduct the same pipeline for different sampling methods.  \n",
    "\n",
    "Define the parameters of normal distributions, fractions and size of the subsample yourself.\n",
    "To facilitate the structuring of the code, you can draw up your solution using the specified class:"
   ]
  },
  {
   "cell_type": "markdown",
   "metadata": {},
   "source": [
    "## The formulas for point estimates of the mathematical expectation and variance for the average value \n",
    "\n",
    "### Random selection from the entire population\n",
    "\n",
    "The samples can be drawn in two possible ways. \n",
    "\n",
    "- The sampling units are chosen without replacement in the sense that the units once are chosen are not placed back in the population. \n",
    "- The sampling units are chosen with replacement in the sense that the chosen units are placed back in the population. \n",
    "\n"
   ]
  },
  {
   "cell_type": "markdown",
   "metadata": {},
   "source": [
    "So, sample mean, which is expected value of discrete random variable with same probality :\n",
    "$$\\bar{x} = \\frac{1}{N}\\sum_{i=1}^N x_1$$\n",
    "The expected value of $\\bar{X}$\n",
    "$$E(\\bar{X}) = \\mu$$\n",
    "and the variance of $\\bar{X}$ is \n",
    "$$D(\\bar{X}) = \\sigma^2/n$$\n",
    "and sample variance:\n",
    "$$s^2 = \\frac{1}{N-1}\\sum^N_{i=1}(x_i - \\bar{x})^2$$\n",
    "Using the formula with $N-1$ gives us a sample variance, which on average, is equal to the unknown population variance"
   ]
  },
  {
   "cell_type": "markdown",
   "metadata": {},
   "source": [
    "### Random selection of strata in proportion to shares\n",
    "\n",
    "$$\\xi \\sim F(x) = W_1F_1(x)+ \\cdots + W_LF_L(x)$$ \n",
    "$$W_k - strata's \\ ratio - W_k = \\frac{N_h}{N}$$\n",
    "\n",
    "$$k = \\overline{1,L}$$\n",
    "\n",
    "With the $k_{th}$ strata let's take a sample of volume $n_k$:\n",
    "$$(X_{1k}, \\cdots , X_{n_{k}k}), k = \\overline{1, L}$$\n",
    "\n",
    "\n",
    "Sample mean:\n",
    "$$\\bar{X}_k = \\frac{1}{n_k}\\sum_{i=1}^{n_k}X_{ik}$$\n",
    "\n",
    "Since $\\mu = \\sum^L_{k=1}W_k\\mu_k$, the natural estimate of $\\mu$ is\n",
    "$$\\bar{X}^*_n = \\sum^L_{k=1}W_k\\bar{X}^{(k)}_{n_k}$$\n",
    "\n",
    "$\\bar{X}^*_n$ is an unbiased wstimate of $\\mu$\n",
    "$$E(\\bar{X}^*_n) = \\mu$$\n",
    "\n",
    "Under stratified random sampling\n",
    "$$D(\\bar{X}^*_n) = \\sum^L_{k=1}W^2_k\\frac{\\sigma^2_k}{n_k}(1 - \\frac{n_k - 1}{N_k -1})$$\n",
    "\n",
    "If the sampling fractions within each stratum are small, i.e $n_k/N_k << 1$, then\n",
    "$$D(\\bar{X}^*_n) \\approx \\sum^L_{k=1}W^2_k\\frac{\\sigma^2_{k}}{n_k}$$"
   ]
  },
  {
   "cell_type": "markdown",
   "metadata": {},
   "source": [
    "### Random selection according to the optimal sub-sampling.\n",
    "\n",
    "Neyman allocation scheme minimizes variance $V[\\bar{X}^*_n]$ subject to $\\sum^N_{k=1}n_k = n$\n",
    "\n",
    "Optimization problem:\n",
    "\n",
    "$$D(\\bar{X}^*_{n}) \\rightarrow \\min \\ s.t.\\sum^L_{k=1}n_k = n$$\n",
    "\n",
    "So the sample size $n_1, \\cdots , n_L$ that solve the optimization problem above are given by\n",
    "\n",
    "$$n_k = n\\frac{W_k\\sigma_k}{\\sum^L_{j=1} W_j \\sigma_j}, \\ k=1,...,L$$\n",
    "\n",
    "If Neyman (i.e. optimal) allocation is used ($n_k = \\hat{n_k}$), then the otimal stratified estimate of $\\mu$, denoted by $\\overline{X}^{*}_{n,opt}$ is\n",
    "$$\\overline{X}^{*}_{n, opt} = \\sum^{L}_{k=1}W_k\\overline{X}^{(k)}_{\\hat{n_k}}$$\n",
    "\n",
    "The variance of the optimal stratified estimate is\n",
    "$$D(\\bar{X}^*_{n,opt}) = \\frac{1}{n}(\\sum^L_{k=1}W_k\\sigma_k)^2$$\n",
    "\n",
    "So, extepted value of the avetage \n",
    "$$E(\\bar{X}^*_n) = \\mu$$"
   ]
  },
  {
   "cell_type": "code",
   "execution_count": 490,
   "metadata": {
    "colab": {},
    "colab_type": "code",
    "id": "68p44IFRDSAR"
   },
   "outputs": [],
   "source": [
    "class Experiment:\n",
    "\n",
    "    def __init__(self, means, stds, random_state=42):\n",
    "        \"\"\"Initializes our experiment and saves the given distributions\n",
    "        \n",
    "        :param means: List of expectations for normal distributions\n",
    "        :param stds: List of standard deviations for normal distributions\n",
    "        :param random_state: Parameter fixing randomness. Needed so that when conducting\n",
    "        experiment repeatedly with the same input parameters, the results remained the same\n",
    "        \"\"\"\n",
    "        self.means = means\n",
    "        self.stds = stds\n",
    "        self.random_state = random_state\n",
    "        self.strats = [st.norm(mean, std) for mean, std in zip(means, stds)]\n",
    "    \n",
    "    def sample(self, sizes):\n",
    "        \"\"\"Creates a population sample\n",
    "        \n",
    "        :param sizes: List with sample sizes of the corresponding normal distributions\n",
    "        \"\"\"\n",
    "        self.sizes = sizes\n",
    "        self.strats_samples = [rv.rvs(size) for rv, size in zip(self.strats, self.sizes)]\n",
    "        self.general_samples = np.hstack(self.strats_samples)\n",
    "        self.N = self.general_samples.shape[0]\n",
    "        self.mean = np.mean(self.general_samples)\n",
    "        self.var = np.var(self.general_samples)\n",
    "        \n",
    "\n",
    "    def random_subsampling(self, size):\n",
    "        \"\"\"Creates a random subset of the entire population\n",
    "        \n",
    "        :param sizes: subsample size\n",
    "        \"\"\"\n",
    "        random_ss = np.random.choice(self.general_samples, size=size)\n",
    "        random_mean = np.mean(random_ss)\n",
    "        return random_mean\n",
    "\n",
    "    def proportional_subsampling(self, size):\n",
    "        \"\"\"Creates a subsample with the number of elements, proportional shares of strata\n",
    "        \n",
    "        :param sizes: subsample size\n",
    "        \"\"\"\n",
    "        mds = []\n",
    "        for d in self.strats_samples:\n",
    "            strat_size = (round(size/self.N * np.count_nonzero(d)))\n",
    "            strat_random =  np.random.choice(d, size=strat_size, replace=False)\n",
    "            mds.append(np.mean(strat_random) * strat_size)\n",
    "        strati_mean = np.sum(mds) / size\n",
    "        return strati_mean\n",
    "    \n",
    "      \n",
    "    def optimal_subsampling(self, size):\n",
    "        \"\"\"Creates a subsample with the optimal number of elements relative to strata\n",
    "        \n",
    "        :param sizes: subsample size\n",
    "        \"\"\"\n",
    "        w_all = [d.shape[0] / self.N for d in self.strats_samples]\n",
    "        optim = []\n",
    "        optim_mds = []\n",
    "        for d, w, std in zip(self.strats_samples, w_all, self.stds):\n",
    "            optim_size = round(size * (w *std) / np.sum([x * y for x,y in zip(w_all, self.stds)]))\n",
    "            strat_random =  np.random.choice(d, size=optim_size, replace=False)\n",
    "            optim_mds.append(np.mean(strat_random) * optim_size)\n",
    "        optim_mean = np.sum(optim_mds) / size   \n",
    "        return optim_mean    \n",
    "        \n",
    " \n",
    "    \n",
    "    \n",
    "    def run_experiments(self, subsampling_method, n_experiments=1000):\n",
    "        \"\"\"Conducts a series of experiments and saves the results\n",
    "        \n",
    "        :param subsampling_method: method for creating a subsample\n",
    "        :param n_experiments: number of experiment starts\n",
    "        \"\"\"\n",
    "        s = min(self.sizes) * 0.75\n",
    "        \n",
    "        if subsampling_method == 0:\n",
    "            sampling = self.random_subsampling\n",
    "        elif subsampling_method == 1:\n",
    "            sampling = self.proportional_subsampling\n",
    "        elif subsampling_method == 2:\n",
    "            sampling = self.optimal_subsampling\n",
    "        else:\n",
    "            print('Unexpected Error')\n",
    "        \n",
    "        mean_array = []\n",
    "        for _ in range(n_experiments):\n",
    "            mean_array.append(sampling(round(s)))\n",
    "        return mean_array"
   ]
  },
  {
   "cell_type": "code",
   "execution_count": 530,
   "metadata": {},
   "outputs": [],
   "source": [
    "def mean_and_variance(data):\n",
    "    for index ,elem in list(enumerate(data)):\n",
    "        print(f'sampling type - {index}, mean - {np.mean(elem)}, variance - {np.var(elem)}')"
   ]
  },
  {
   "cell_type": "markdown",
   "metadata": {},
   "source": [
    "Tupple values of the sampling type"
   ]
  },
  {
   "cell_type": "code",
   "execution_count": 491,
   "metadata": {},
   "outputs": [],
   "source": [
    "exp_sample_type = ([0, 1, 2])"
   ]
  },
  {
   "cell_type": "markdown",
   "metadata": {},
   "source": [
    "### Experiment 1, same std but different mean,  sample size = 40"
   ]
  },
  {
   "cell_type": "code",
   "execution_count": 526,
   "metadata": {},
   "outputs": [],
   "source": [
    "experiment_1 = Experiment([1, 6, -4], [1, 1, 1])\n",
    "experiment_1.sample([7, 15, 18])"
   ]
  },
  {
   "cell_type": "code",
   "execution_count": 527,
   "metadata": {},
   "outputs": [],
   "source": [
    "mean_1 = []\n",
    "\n",
    "for est in exp_sample_type:\n",
    "    mean_1.append(experiment_1.run_experiments(est))"
   ]
  },
  {
   "cell_type": "code",
   "execution_count": 528,
   "metadata": {},
   "outputs": [
    {
     "data": {
      "image/png": "[encoded data removed]",
      "text/plain": [
       "<Figure size 720x504 with 1 Axes>"
      ]
     },
     "metadata": {
      "needs_background": "light"
     },
     "output_type": "display_data"
    }
   ],
   "source": [
    "fig = plt.figure(figsize =(10, 7)) \n",
    "  \n",
    "# Creating plot \n",
    "plt.boxplot(mean) \n",
    "  \n",
    "# show plot \n",
    "plt.show() "
   ]
  },
  {
   "cell_type": "code",
   "execution_count": 531,
   "metadata": {},
   "outputs": [
    {
     "name": "stdout",
     "output_type": "stream",
     "text": [
      "sampling type - 0, mean - 0.4755072251193831, variance - 4.050785885934247\n",
      "sampling type - 1, mean - 0.7541165276177837, variance - 0.16648189101798824\n",
      "sampling type - 2, mean - 0.7590232490849763, variance - 0.14905474361554316\n"
     ]
    }
   ],
   "source": [
    "mean_and_variance(mean_1)"
   ]
  },
  {
   "cell_type": "markdown",
   "metadata": {},
   "source": [
    "### Experiment 1, same mean but different stds,  sample size = 40"
   ]
  },
  {
   "cell_type": "code",
   "execution_count": 532,
   "metadata": {},
   "outputs": [],
   "source": [
    "experiment_2 = Experiment([2, 2, 2], [3, 1, 2])\n",
    "experiment_2.sample([7, 15, 18])"
   ]
  },
  {
   "cell_type": "code",
   "execution_count": 533,
   "metadata": {},
   "outputs": [],
   "source": [
    "mean_2 = []\n",
    "\n",
    "for est in exp_sample_type:\n",
    "    mean_2.append(experiment_2.run_experiments(est))"
   ]
  },
  {
   "cell_type": "code",
   "execution_count": 534,
   "metadata": {},
   "outputs": [
    {
     "data": {
      "image/png": "[encoded data removed]",
      "text/plain": [
       "<Figure size 720x504 with 1 Axes>"
      ]
     },
     "metadata": {
      "needs_background": "light"
     },
     "output_type": "display_data"
    }
   ],
   "source": [
    "fig = plt.figure(figsize =(10, 7)) \n",
    "  \n",
    "# Creating plot \n",
    "plt.boxplot(mean) \n",
    "  \n",
    "# show plot \n",
    "plt.show() "
   ]
  },
  {
   "cell_type": "code",
   "execution_count": 535,
   "metadata": {},
   "outputs": [
    {
     "name": "stdout",
     "output_type": "stream",
     "text": [
      "sampling type - 0, mean - 1.8214792194148737, variance - 0.7279138414388527\n",
      "sampling type - 1, mean - 1.8141882402739522, variance - 0.7003404375634472\n",
      "sampling type - 2, mean - 1.7043433891122095, variance - 0.8422921209375351\n"
     ]
    }
   ],
   "source": [
    "mean_and_variance(mean_2)"
   ]
  },
  {
   "cell_type": "markdown",
   "metadata": {},
   "source": [
    "### Experiment 3, same mean same stds,  sample size = 40"
   ]
  },
  {
   "cell_type": "code",
   "execution_count": 536,
   "metadata": {},
   "outputs": [],
   "source": [
    "experiment_3 = Experiment([2, 2, 2], [1, 1, 1])\n",
    "experiment_3.sample([7, 15, 18])"
   ]
  },
  {
   "cell_type": "code",
   "execution_count": 537,
   "metadata": {},
   "outputs": [],
   "source": [
    "mean_3 = []\n",
    "\n",
    "for est in exp_sample_type:\n",
    "    mean_3.append(experiment_3.run_experiments(est))"
   ]
  },
  {
   "cell_type": "code",
   "execution_count": 538,
   "metadata": {},
   "outputs": [
    {
     "data": {
      "image/png": "[encoded data removed]",
      "text/plain": [
       "<Figure size 720x504 with 1 Axes>"
      ]
     },
     "metadata": {
      "needs_background": "light"
     },
     "output_type": "display_data"
    }
   ],
   "source": [
    "fig = plt.figure(figsize =(10, 7)) \n",
    "  \n",
    "# Creating plot \n",
    "plt.boxplot(mean) \n",
    "  \n",
    "# show plot \n",
    "plt.show() "
   ]
  },
  {
   "cell_type": "code",
   "execution_count": 539,
   "metadata": {},
   "outputs": [
    {
     "name": "stdout",
     "output_type": "stream",
     "text": [
      "sampling type - 0, mean - 1.7725205277448903, variance - 0.26689246402074474\n",
      "sampling type - 1, mean - 1.7716670563567822, variance - 0.25635776476770794\n",
      "sampling type - 2, mean - 1.7975312572444413, variance - 0.2448024116422263\n"
     ]
    }
   ],
   "source": [
    "mean_and_variance(mean_3)"
   ]
  },
  {
   "cell_type": "markdown",
   "metadata": {},
   "source": [
    "### Experiment 4, same mean , different stds, sample size = 500"
   ]
  },
  {
   "cell_type": "code",
   "execution_count": 540,
   "metadata": {},
   "outputs": [],
   "source": [
    "experiment_4 = Experiment([2, 2, 2], [3, 1, 2])\n",
    "experiment_4.sample([359, 112, 247])"
   ]
  },
  {
   "cell_type": "code",
   "execution_count": 541,
   "metadata": {},
   "outputs": [],
   "source": [
    "mean_4 = []\n",
    "\n",
    "for est in exp_sample_type:\n",
    "    mean_4.append(experiment_4.run_experiments(est))"
   ]
  },
  {
   "cell_type": "code",
   "execution_count": 542,
   "metadata": {},
   "outputs": [
    {
     "data": {
      "image/png": "[encoded data removed]",
      "text/plain": [
       "<Figure size 720x504 with 1 Axes>"
      ]
     },
     "metadata": {
      "needs_background": "light"
     },
     "output_type": "display_data"
    }
   ],
   "source": [
    "fig = plt.figure(figsize =(10, 7)) \n",
    "  \n",
    "# Creating plot \n",
    "plt.boxplot(mean_4) \n",
    "  \n",
    "# show plot \n",
    "plt.show() "
   ]
  },
  {
   "cell_type": "code",
   "execution_count": 543,
   "metadata": {},
   "outputs": [
    {
     "name": "stdout",
     "output_type": "stream",
     "text": [
      "sampling type - 0, mean - 2.0367088322826183, variance - 0.06609697534031642\n",
      "sampling type - 1, mean - 2.0299329506978876, variance - 0.061270454679625885\n",
      "sampling type - 2, mean - 2.0961533510504267, variance - 0.07452308750930556\n"
     ]
    }
   ],
   "source": [
    "mean_and_variance(mean_4)"
   ]
  },
  {
   "cell_type": "markdown",
   "metadata": {},
   "source": [
    "### Experiment 5 , same mean , same stds, sample size = 500"
   ]
  },
  {
   "cell_type": "code",
   "execution_count": 544,
   "metadata": {},
   "outputs": [],
   "source": [
    "experiment_5 = Experiment([2, 2, 2], [1, 1, 1])\n",
    "experiment_5.sample([359, 112, 247])"
   ]
  },
  {
   "cell_type": "code",
   "execution_count": 545,
   "metadata": {},
   "outputs": [],
   "source": [
    "mean_5 = []\n",
    "\n",
    "for est in exp_sample_type:\n",
    "    mean_5.append(experiment_5.run_experiments(est))"
   ]
  },
  {
   "cell_type": "code",
   "execution_count": 546,
   "metadata": {},
   "outputs": [
    {
     "data": {
      "image/png": "[encoded data removed]",
      "text/plain": [
       "<Figure size 720x504 with 1 Axes>"
      ]
     },
     "metadata": {
      "needs_background": "light"
     },
     "output_type": "display_data"
    }
   ],
   "source": [
    "fig = plt.figure(figsize =(10, 7)) \n",
    "  \n",
    "# Creating plot \n",
    "plt.boxplot(mean_5) \n",
    "  \n",
    "# show plot \n",
    "plt.show() "
   ]
  },
  {
   "cell_type": "code",
   "execution_count": 547,
   "metadata": {},
   "outputs": [
    {
     "name": "stdout",
     "output_type": "stream",
     "text": [
      "sampling type - 0, mean - 2.03156489816663, variance - 0.012034321149401603\n",
      "sampling type - 1, mean - 2.0350138999142384, variance - 0.010444891620884075\n",
      "sampling type - 2, mean - 2.029374921235131, variance - 0.010435226267176828\n"
     ]
    }
   ],
   "source": [
    "mean_and_variance(mean_5)"
   ]
  },
  {
   "cell_type": "markdown",
   "metadata": {},
   "source": [
    "### Experiment 6 , different mean , same stds, sample size = 500"
   ]
  },
  {
   "cell_type": "code",
   "execution_count": 548,
   "metadata": {},
   "outputs": [],
   "source": [
    "experiment_6 = Experiment([1, 6, -4], [1, 1, 1])\n",
    "experiment_6.sample([359, 112, 247])"
   ]
  },
  {
   "cell_type": "code",
   "execution_count": 549,
   "metadata": {},
   "outputs": [],
   "source": [
    "mean_6 = []\n",
    "\n",
    "for est in exp_sample_type:\n",
    "    mean_6.append(experiment_6.run_experiments(est))"
   ]
  },
  {
   "cell_type": "code",
   "execution_count": 550,
   "metadata": {},
   "outputs": [
    {
     "data": {
      "image/png": "[encoded data removed]",
      "text/plain": [
       "<Figure size 720x504 with 1 Axes>"
      ]
     },
     "metadata": {
      "needs_background": "light"
     },
     "output_type": "display_data"
    }
   ],
   "source": [
    "fig = plt.figure(figsize =(10, 7)) \n",
    "  \n",
    "# Creating plot \n",
    "plt.boxplot(mean_6) \n",
    "  \n",
    "# show plot \n",
    "plt.show() "
   ]
  },
  {
   "cell_type": "code",
   "execution_count": 551,
   "metadata": {},
   "outputs": [
    {
     "name": "stdout",
     "output_type": "stream",
     "text": [
      "sampling type - 0, mean - 0.07555570714830373, variance - 0.16049219387772257\n",
      "sampling type - 1, mean - 0.08708717752248449, variance - 0.011038208793131762\n",
      "sampling type - 2, mean - 0.08946926526414459, variance - 0.01138596960274276\n"
     ]
    }
   ],
   "source": [
    "mean_and_variance(mean_6)"
   ]
  },
  {
   "cell_type": "markdown",
   "metadata": {
    "colab_type": "text",
    "id": "JISeS1kqDSAX"
   },
   "source": [
    "# Task 2\n",
    "\n",
    "Data is here https://drive.google.com/drive/folders/1zlvCNV6zNY9i3KIiFM6McByEgPBn_y2w?usp=sharing\n",
    "\n",
    "### Part 1\n",
    "Using [this criteria](https://support.minitab.com/en-us/minitab-express/1/help-and-how-to/modeling-statistics/regression/how-to/correlation/interpret-the-results/#:~:text=For%20the%20Pearson%20correlation%2C%20an,linear%20relationship%20between%20the%20variables.&text=If%20both%20variables%20tend%20to,represents%20the%20correlation%20slopes%20upward.), check whether there is a correlation between a brain size and intelligence for a dataset consisted both of men and women objects. Also check it for men and women subsamples separately.\n",
    "\n",
    "**Data is in `HW1_task2_brain_data.tsv`**\n",
    "\n",
    "### Part 2\n",
    "Using $Chi^2$ criteria check whether there is a statistical difference between men's and women's choice of auto.  (Features `Sex` и `PreferCar`)\n",
    "\n",
    "**Data is in `HW1_task2_car_prefs_data.tsv`**"
   ]
  },
  {
   "cell_type": "markdown",
   "metadata": {
    "colab_type": "text",
    "id": "w1zlsldkDSAZ"
   },
   "source": [
    "# Task 3\n",
    "\n",
    "You can find and download a dataset there:\n",
    "https://www.kaggle.com/russellyates88/suicide-rates-overview-1985-to-2016\n",
    "\n",
    "\n",
    "1) For any country (you are free to choose any of the presented) \n",
    " *  Visualize a feature **suicides_no** considering other features: **sex**, **age** (or **generation**) and year;\n",
    " *  Check whether there is statistical difference for suicide number between these groups: men / women. If it is found, can we claim that people of certain sex are more prone to suicides or do we need additional information?\n",
    "\n",
    "2) For 2016: divide countries into 3-4 groups according to the values of the **gdp_per_capita** feature (use statistical characteristics to determine how to divide the data into groups), check if the suicides / 100k pop indicator differs in these groups. Do not forget that for each country you have several values and they need to be aggregated or checked for each group separately."
   ]
  },
  {
   "cell_type": "code",
   "execution_count": null,
   "metadata": {
    "colab": {},
    "colab_type": "code",
    "id": "Vf9JU8tjjG-B"
   },
   "outputs": [],
   "source": [
    "# <<<YOUR CODE HERE>>>"
   ]
  }
 ],
 "metadata": {
  "colab": {
   "collapsed_sections": [],
   "name": "1_Statistics_HW_engl.ipynb",
   "provenance": []
  },
  "kernelspec": {
   "display_name": "Python 3",
   "language": "python",
   "name": "python3"
  },
  "language_info": {
   "codemirror_mode": {
    "name": "ipython",
    "version": 3
   },
   "file_extension": ".py",
   "mimetype": "text/x-python",
   "name": "python",
   "nbconvert_exporter": "python",
   "pygments_lexer": "ipython3",
   "version": "3.8.5"
  },
  "latex_envs": {
   "LaTeX_envs_menu_present": true,
   "autoclose": false,
   "autocomplete": true,
   "bibliofile": "biblio.bib",
   "cite_by": "apalike",
   "current_citInitial": 1,
   "eqLabelWithNumbers": true,
   "eqNumInitial": 1,
   "hotkeys": {
    "equation": "Ctrl-E",
    "itemize": "Ctrl-I"
   },
   "labels_anchors": false,
   "latex_user_defs": false,
   "report_style_numbering": false,
   "user_envs_cfg": false
  },
  "toc": {
   "base_numbering": 1,
   "nav_menu": {},
   "number_sections": true,
   "sideBar": true,
   "skip_h1_title": false,
   "title_cell": "Table of Contents",
   "title_sidebar": "Contents",
   "toc_cell": false,
   "toc_position": {},
   "toc_section_display": true,
   "toc_window_display": false
  }
 },
 "nbformat": 4,
 "nbformat_minor": 1
}
